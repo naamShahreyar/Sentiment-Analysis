{
 "cells": [
  {
   "cell_type": "markdown",
   "metadata": {
    "id": "voACi6UbS62C"
   },
   "source": [
    "**Imports**"
   ]
  },
  {
   "cell_type": "code",
   "execution_count": 2,
   "metadata": {
    "id": "EiYYmmvIS9qL"
   },
   "outputs": [],
   "source": [
    "%matplotlib inline\n",
    "import matplotlib.pyplot as plt\n",
    "import tensorflow as tf\n",
    "import numpy as np\n",
    "from scipy.spatial.distance import cdist"
   ]
  },
  {
   "cell_type": "code",
   "execution_count": 3,
   "metadata": {
    "id": "mRayU8czTSSi"
   },
   "outputs": [],
   "source": [
    "from tensorflow.keras.models import Sequential\n",
    "from tensorflow.keras.layers import Dense, GRU, Embedding, Dropout\n",
    "from tensorflow.keras.optimizers import Adam\n",
    "from tensorflow.keras.preprocessing.text import Tokenizer\n",
    "from tensorflow.keras.preprocessing.sequence import pad_sequences"
   ]
  },
  {
   "cell_type": "code",
   "execution_count": 4,
   "metadata": {
    "colab": {
     "base_uri": "https://localhost:8080/",
     "height": 36
    },
    "id": "bh8v0gTpTXYh",
    "outputId": "fc5ae16a-0463-4cea-cf3a-90d831ded625"
   },
   "outputs": [
    {
     "data": {
      "text/plain": [
       "'2.15.0'"
      ]
     },
     "execution_count": 4,
     "metadata": {},
     "output_type": "execute_result"
    }
   ],
   "source": [
    "\n",
    "tf.__version__"
   ]
  },
  {
   "cell_type": "code",
   "execution_count": 5,
   "metadata": {},
   "outputs": [
    {
     "name": "stdout",
     "output_type": "stream",
     "text": [
      "2.15.0\n"
     ]
    }
   ],
   "source": [
    "import keras\n",
    "print(keras.__version__)"
   ]
  },
  {
   "cell_type": "markdown",
   "metadata": {
    "id": "JfhexvugUU20"
   },
   "source": [
    "**Load Data**"
   ]
  },
  {
   "cell_type": "code",
   "execution_count": 6,
   "metadata": {
    "colab": {
     "base_uri": "https://localhost:8080/"
    },
    "id": "2o1tCu_QU0E1",
    "outputId": "64c4aef6-ed78-4a83-9011-aec03089eb24"
   },
   "outputs": [
    {
     "name": "stdout",
     "output_type": "stream",
     "text": [
      "Collecting datasets\n",
      "  Downloading datasets-2.18.0-py3-none-any.whl.metadata (20 kB)\n",
      "Requirement already satisfied: filelock in /system/conda/miniconda3/envs/cloudspace/lib/python3.10/site-packages (from datasets) (3.13.4)\n",
      "Requirement already satisfied: numpy>=1.17 in /system/conda/miniconda3/envs/cloudspace/lib/python3.10/site-packages (from datasets) (1.26.2)\n",
      "Requirement already satisfied: pyarrow>=12.0.0 in /system/conda/miniconda3/envs/cloudspace/lib/python3.10/site-packages (from datasets) (15.0.2)\n",
      "Collecting pyarrow-hotfix (from datasets)\n",
      "  Downloading pyarrow_hotfix-0.6-py3-none-any.whl.metadata (3.6 kB)\n",
      "Collecting dill<0.3.9,>=0.3.0 (from datasets)\n",
      "  Downloading dill-0.3.8-py3-none-any.whl.metadata (10 kB)\n",
      "Requirement already satisfied: pandas in /system/conda/miniconda3/envs/cloudspace/lib/python3.10/site-packages (from datasets) (2.1.4)\n",
      "Requirement already satisfied: requests>=2.19.0 in /system/conda/miniconda3/envs/cloudspace/lib/python3.10/site-packages (from datasets) (2.31.0)\n",
      "Requirement already satisfied: tqdm>=4.62.1 in /system/conda/miniconda3/envs/cloudspace/lib/python3.10/site-packages (from datasets) (4.66.2)\n",
      "Collecting xxhash (from datasets)\n",
      "  Downloading xxhash-3.4.1-cp310-cp310-manylinux_2_17_x86_64.manylinux2014_x86_64.whl.metadata (12 kB)\n",
      "Collecting multiprocess (from datasets)\n",
      "  Downloading multiprocess-0.70.16-py310-none-any.whl.metadata (7.2 kB)\n",
      "Collecting fsspec<=2024.2.0,>=2023.1.0 (from fsspec[http]<=2024.2.0,>=2023.1.0->datasets)\n",
      "  Downloading fsspec-2024.2.0-py3-none-any.whl.metadata (6.8 kB)\n",
      "Requirement already satisfied: aiohttp in /system/conda/miniconda3/envs/cloudspace/lib/python3.10/site-packages (from datasets) (3.9.3)\n",
      "Collecting huggingface-hub>=0.19.4 (from datasets)\n",
      "  Downloading huggingface_hub-0.22.2-py3-none-any.whl.metadata (12 kB)\n",
      "Requirement already satisfied: packaging in /system/conda/miniconda3/envs/cloudspace/lib/python3.10/site-packages (from datasets) (24.0)\n",
      "Requirement already satisfied: pyyaml>=5.1 in /system/conda/miniconda3/envs/cloudspace/lib/python3.10/site-packages (from datasets) (6.0.1)\n",
      "Requirement already satisfied: aiosignal>=1.1.2 in /system/conda/miniconda3/envs/cloudspace/lib/python3.10/site-packages (from aiohttp->datasets) (1.3.1)\n",
      "Requirement already satisfied: attrs>=17.3.0 in /system/conda/miniconda3/envs/cloudspace/lib/python3.10/site-packages (from aiohttp->datasets) (23.2.0)\n",
      "Requirement already satisfied: frozenlist>=1.1.1 in /system/conda/miniconda3/envs/cloudspace/lib/python3.10/site-packages (from aiohttp->datasets) (1.4.1)\n",
      "Requirement already satisfied: multidict<7.0,>=4.5 in /system/conda/miniconda3/envs/cloudspace/lib/python3.10/site-packages (from aiohttp->datasets) (6.0.5)\n",
      "Requirement already satisfied: yarl<2.0,>=1.0 in /system/conda/miniconda3/envs/cloudspace/lib/python3.10/site-packages (from aiohttp->datasets) (1.9.4)\n",
      "Requirement already satisfied: async-timeout<5.0,>=4.0 in /system/conda/miniconda3/envs/cloudspace/lib/python3.10/site-packages (from aiohttp->datasets) (4.0.3)\n",
      "Requirement already satisfied: typing-extensions>=3.7.4.3 in /system/conda/miniconda3/envs/cloudspace/lib/python3.10/site-packages (from huggingface-hub>=0.19.4->datasets) (4.11.0)\n",
      "Requirement already satisfied: charset-normalizer<4,>=2 in /system/conda/miniconda3/envs/cloudspace/lib/python3.10/site-packages (from requests>=2.19.0->datasets) (3.3.2)\n",
      "Requirement already satisfied: idna<4,>=2.5 in /system/conda/miniconda3/envs/cloudspace/lib/python3.10/site-packages (from requests>=2.19.0->datasets) (3.7)\n",
      "Requirement already satisfied: urllib3<3,>=1.21.1 in /system/conda/miniconda3/envs/cloudspace/lib/python3.10/site-packages (from requests>=2.19.0->datasets) (2.2.1)\n",
      "Requirement already satisfied: certifi>=2017.4.17 in /system/conda/miniconda3/envs/cloudspace/lib/python3.10/site-packages (from requests>=2.19.0->datasets) (2024.2.2)\n",
      "Requirement already satisfied: python-dateutil>=2.8.2 in /system/conda/miniconda3/envs/cloudspace/lib/python3.10/site-packages (from pandas->datasets) (2.9.0.post0)\n",
      "Requirement already satisfied: pytz>=2020.1 in /system/conda/miniconda3/envs/cloudspace/lib/python3.10/site-packages (from pandas->datasets) (2024.1)\n",
      "Requirement already satisfied: tzdata>=2022.1 in /system/conda/miniconda3/envs/cloudspace/lib/python3.10/site-packages (from pandas->datasets) (2024.1)\n",
      "Requirement already satisfied: six>=1.5 in /system/conda/miniconda3/envs/cloudspace/lib/python3.10/site-packages (from python-dateutil>=2.8.2->pandas->datasets) (1.16.0)\n",
      "Downloading datasets-2.18.0-py3-none-any.whl (510 kB)\n",
      "\u001b[2K   \u001b[90m━━━━━━━━━━━━━━━━━━━━━━━━━━━━━━━━━━━━━━━━\u001b[0m \u001b[32m510.5/510.5 kB\u001b[0m \u001b[31m30.4 MB/s\u001b[0m eta \u001b[36m0:00:00\u001b[0m\n",
      "\u001b[?25hDownloading dill-0.3.8-py3-none-any.whl (116 kB)\n",
      "\u001b[2K   \u001b[90m━━━━━━━━━━━━━━━━━━━━━━━━━━━━━━━━━━━━━━━━\u001b[0m \u001b[32m116.3/116.3 kB\u001b[0m \u001b[31m12.9 MB/s\u001b[0m eta \u001b[36m0:00:00\u001b[0m\n",
      "\u001b[?25hDownloading fsspec-2024.2.0-py3-none-any.whl (170 kB)\n",
      "\u001b[2K   \u001b[90m━━━━━━━━━━━━━━━━━━━━━━━━━━━━━━━━━━━━━━━━\u001b[0m \u001b[32m170.9/170.9 kB\u001b[0m \u001b[31m18.9 MB/s\u001b[0m eta \u001b[36m0:00:00\u001b[0m\n",
      "\u001b[?25hDownloading huggingface_hub-0.22.2-py3-none-any.whl (388 kB)\n",
      "\u001b[2K   \u001b[90m━━━━━━━━━━━━━━━━━━━━━━━━━━━━━━━━━━━━━━━━\u001b[0m \u001b[32m388.9/388.9 kB\u001b[0m \u001b[31m25.0 MB/s\u001b[0m eta \u001b[36m0:00:00\u001b[0m\n",
      "\u001b[?25hDownloading multiprocess-0.70.16-py310-none-any.whl (134 kB)\n",
      "\u001b[2K   \u001b[90m━━━━━━━━━━━━━━━━━━━━━━━━━━━━━━━━━━━━━━━━\u001b[0m \u001b[32m134.8/134.8 kB\u001b[0m \u001b[31m14.3 MB/s\u001b[0m eta \u001b[36m0:00:00\u001b[0m\n",
      "\u001b[?25hDownloading pyarrow_hotfix-0.6-py3-none-any.whl (7.9 kB)\n",
      "Downloading xxhash-3.4.1-cp310-cp310-manylinux_2_17_x86_64.manylinux2014_x86_64.whl (194 kB)\n",
      "\u001b[2K   \u001b[90m━━━━━━━━━━━━━━━━━━━━━━━━━━━━━━━━━━━━━━━━\u001b[0m \u001b[32m194.1/194.1 kB\u001b[0m \u001b[31m11.5 MB/s\u001b[0m eta \u001b[36m0:00:00\u001b[0m\n",
      "\u001b[?25hInstalling collected packages: xxhash, pyarrow-hotfix, fsspec, dill, multiprocess, huggingface-hub, datasets\n",
      "  Attempting uninstall: fsspec\n",
      "    Found existing installation: fsspec 2024.3.1\n",
      "    Uninstalling fsspec-2024.3.1:\n",
      "      Successfully uninstalled fsspec-2024.3.1\n",
      "Successfully installed datasets-2.18.0 dill-0.3.8 fsspec-2024.2.0 huggingface-hub-0.22.2 multiprocess-0.70.16 pyarrow-hotfix-0.6 xxhash-3.4.1\n",
      "Note: you may need to restart the kernel to use updated packages.\n"
     ]
    }
   ],
   "source": [
    "pip install datasets"
   ]
  },
  {
   "cell_type": "code",
   "execution_count": 7,
   "metadata": {
    "id": "WLQwrKozUQoA"
   },
   "outputs": [],
   "source": [
    "from datasets import load_dataset"
   ]
  },
  {
   "cell_type": "code",
   "execution_count": 8,
   "metadata": {
    "colab": {
     "base_uri": "https://localhost:8080/",
     "height": 365,
     "referenced_widgets": [
      "4a41ed02385646c6973817695dfff688",
      "af1fb7b16f1c4f9999b353388f7b2a80",
      "76b938fd38e34454ab3e47f60ac58684",
      "75d49e5bf5f84f41b4a62cb6c82c9272",
      "6bfa338245d24f4b959ab4e516af5a3f",
      "bce83b8cb02a4d08b31bcb2a86fdcee7",
      "807aa8939503405ab822d6acfc345eba",
      "0e38ab29acb849e5928085ef287305a1",
      "dec8d394cc014dff985aca7acb761f75",
      "170f3d9983ca452d800b5e88c9ac4c7b",
      "66faa8fa22c94d8285d1d6c555a6c719",
      "f12f3d12c71f428cabb5cb3c6dde666d",
      "bf06121c8cab459d9f2a51d68aa459a4",
      "46102fc4d01140b58bd9a068842e357a",
      "35f15bb908d640aa8987cd2038211678",
      "8567b92d3bf740feb06dd1784b1cb0b2",
      "7a2dbaebcd514fc4b1a81dfeeca55b9e",
      "1c41d72a61994d3db63bca3eeb3947bb",
      "e08e461ca2d748f0a6fa93b7e3187576",
      "1d57d51b75ba4ef2b0cfe779c799a71a",
      "1cbb7d9922e2478fbbee60b3b660463d",
      "8c38c3e3174741fe88c5cd3066e0221f",
      "3595e8e8821444a6b2633d16d969b7f5",
      "ff5a433f91734f58b1d5ebb462f69cfd",
      "695e06ee4e5848fd87570055c645ea70",
      "761abe0897224fd5a34d439b4f259343",
      "87b7b9fa98914cd1878e1d3cc3d8711d",
      "9110f216b2424cf688ee00f6aa3b7b58",
      "dcfbab0c5c574e19abb9f67dda00ee00",
      "3828f37ee7e74d76bc82793eadf94ff3",
      "1662084f612a401ea63ec7dbe396c65e",
      "be2eb9d8feec4c5a8aaf0e648fbbe85b",
      "3e2b4262b9104708b3bb7eecb9b29c4a",
      "a55154307a2e462e9683700dbe21cca5",
      "787a22d1db22480ab942429d83bcde00",
      "78941a78cddb4f3e89d0cba487f10cb5",
      "1d4076dce30d43629a65de1c37ead13f",
      "0d948ab967d24e2ea066abb93e094a50",
      "3339147e1e8144bcbc455198b7440a91",
      "d3f056ed090b4264b4c0e32ab17494e0",
      "5073a894d97340ac88532f265ff44750",
      "4363d78d158944288dc1ea621dd496f2",
      "70ca39e135ae438cb8a5067e8b8bab1a",
      "177714472ef0493a9fc5faa43aeaea60",
      "a3f8933c4622443997f2eb603fcce0fd",
      "1afcb4d690a04d3497497b7bbc42186a",
      "6ee5d9d573f642b5a980a55f6329e1cf",
      "c8956b3bf2a949e8b8f3e0c4c819d2c3",
      "f22c101745a84e2aa5e3c822afc06835",
      "f7b54d2c7e3146d295cfa20b696f8897",
      "0e5f7f57ffb649c98c95b019acc32504",
      "ec4e2d81a6a14d8a8b784825fea87247",
      "315b2323332345209517e40fbf572ef1",
      "ee665b1471a14295a349c5567ddb3a28",
      "7509ee0d77654279a05d745cadb7ce89",
      "4c9dda8344d54bf4a134b6469b1a158a",
      "7deb84c37d574024ad4270af060398a1",
      "e703b514d4f14a30806e20d767b4acea",
      "bf09429baccc48e2a0b6abea37e51a59",
      "a4ffc2fbaa704d7984207aef85b9c597",
      "6a7e7807d6944655a70bd6b25fcc0582",
      "151b7c94ff20491fba78c328490c1828",
      "43d17070da014657a61b618ef3d7bc2f",
      "ba5cd8b0275f4c0ba211e2e5ea9a9cee",
      "15768edb66e7438f882f43c634caa448",
      "6d94a0fabd7842059e6d20a19d16c99a",
      "bf032c8bc6624a3bab7245d6432c8ebb",
      "1f0d36663882404999bca6e46dda7a2e",
      "678c19ef83f8422285e717c9ef3cd6dd",
      "10a1f9de785942ce84dbff2db8deed89",
      "0e8681c1966547bf93f9a7481fffe9d7",
      "ced9c4fa59744a45be9bce8ebcea001a",
      "9e750d80ed0f437fa450e84718bb89e5",
      "9b6d08848ce940b6b4755e6da51decb6",
      "f31cfded940a483d88bb092c171c69b5",
      "d2727ce462c94185a29d6207c8277017",
      "cd44da4ec14741769b75158a5e52f1ee"
     ]
    },
    "id": "EtjhRD6xWKy3",
    "outputId": "648a5c9e-1f15-4296-8c1f-6c634d46f50c"
   },
   "outputs": [
    {
     "data": {
      "application/vnd.jupyter.widget-view+json": {
       "model_id": "86ac8f6566404a4a86962044cc62d034",
       "version_major": 2,
       "version_minor": 0
      },
      "text/plain": [
       "Downloading readme:   0%|          | 0.00/7.81k [00:00<?, ?B/s]"
      ]
     },
     "metadata": {},
     "output_type": "display_data"
    },
    {
     "name": "stderr",
     "output_type": "stream",
     "text": [
      "Downloading data: 100%|██████████| 21.0M/21.0M [00:00<00:00, 177MB/s]\n",
      "Downloading data: 100%|██████████| 20.5M/20.5M [00:00<00:00, 207MB/s]\n",
      "Downloading data: 100%|██████████| 42.0M/42.0M [00:00<00:00, 285MB/s]\n"
     ]
    },
    {
     "data": {
      "application/vnd.jupyter.widget-view+json": {
       "model_id": "187f4dafb5f34d66ac408a3f893ac24e",
       "version_major": 2,
       "version_minor": 0
      },
      "text/plain": [
       "Generating train split:   0%|          | 0/25000 [00:00<?, ? examples/s]"
      ]
     },
     "metadata": {},
     "output_type": "display_data"
    },
    {
     "data": {
      "application/vnd.jupyter.widget-view+json": {
       "model_id": "c1f0ec1cf58043808c782b0da1a7fdd4",
       "version_major": 2,
       "version_minor": 0
      },
      "text/plain": [
       "Generating test split:   0%|          | 0/25000 [00:00<?, ? examples/s]"
      ]
     },
     "metadata": {},
     "output_type": "display_data"
    },
    {
     "data": {
      "application/vnd.jupyter.widget-view+json": {
       "model_id": "fbcd60dbd9854d12ae918c37b344a206",
       "version_major": 2,
       "version_minor": 0
      },
      "text/plain": [
       "Generating unsupervised split:   0%|          | 0/50000 [00:00<?, ? examples/s]"
      ]
     },
     "metadata": {},
     "output_type": "display_data"
    }
   ],
   "source": [
    "dataset = load_dataset('stanfordnlp/imdb')"
   ]
  },
  {
   "cell_type": "code",
   "execution_count": 9,
   "metadata": {
    "id": "8JTp-EeNWZlN"
   },
   "outputs": [],
   "source": [
    "x_train_text = dataset['train']['text']\n",
    "y_train  = dataset['train']['label']\n",
    "\n",
    "x_test_text = dataset['test']['text']\n",
    "y_test  = dataset['test']['label']"
   ]
  },
  {
   "cell_type": "code",
   "execution_count": 10,
   "metadata": {
    "id": "1WSBgNtXWc9q"
   },
   "outputs": [],
   "source": [
    "# Convert to numpy array\n",
    "y_train = np.array(y_train)\n",
    "y_test = np.array(y_test)"
   ]
  },
  {
   "cell_type": "code",
   "execution_count": 11,
   "metadata": {
    "colab": {
     "base_uri": "https://localhost:8080/"
    },
    "id": "NRs4gLoHW0xg",
    "outputId": "7a328e4e-2884-4494-d0c9-e29cdd022f22"
   },
   "outputs": [
    {
     "name": "stdout",
     "output_type": "stream",
     "text": [
      "Train-set size:  25000\n",
      "Test-set size:  25000\n"
     ]
    }
   ],
   "source": [
    "print('Train-set size: ', len(x_train_text))\n",
    "print('Test-set size: ', len(x_test_text))"
   ]
  },
  {
   "cell_type": "code",
   "execution_count": 12,
   "metadata": {
    "id": "Z7PIOTsEXkFh"
   },
   "outputs": [],
   "source": [
    "# Combine into one dataset for vocab creation\n",
    "data_text = x_train_text + x_test_text"
   ]
  },
  {
   "cell_type": "code",
   "execution_count": 13,
   "metadata": {
    "colab": {
     "base_uri": "https://localhost:8080/",
     "height": 123
    },
    "id": "NXFbwwlFYENF",
    "outputId": "9d3c8c16-a6bf-4a72-e04b-e6aae34ea08c"
   },
   "outputs": [
    {
     "data": {
      "text/plain": [
       "'I rented I AM CURIOUS-YELLOW from my video store because of all the controversy that surrounded it when it was first released in 1967. I also heard that at first it was seized by U.S. customs if it ever tried to enter this country, therefore being a fan of films considered \"controversial\" I really had to see this for myself.<br /><br />The plot is centered around a young Swedish drama student named Lena who wants to learn everything she can about life. In particular she wants to focus her attentions to making some sort of documentary on what the average Swede thought about certain political issues such as the Vietnam War and race issues in the United States. In between asking politicians and ordinary denizens of Stockholm about their opinions on politics, she has sex with her drama teacher, classmates, and married men.<br /><br />What kills me about I AM CURIOUS-YELLOW is that 40 years ago, this was considered pornographic. Really, the sex and nudity scenes are few and far between, even then it\\'s not shot like some cheaply made porno. While my countrymen mind find it shocking, in reality sex and nudity are a major staple in Swedish cinema. Even Ingmar Bergman, arguably their answer to good old boy John Ford, had sex scenes in his films.<br /><br />I do commend the filmmakers for the fact that any sex shown in the film is shown for artistic purposes rather than just to shock people and make money to be shown in pornographic theaters in America. I AM CURIOUS-YELLOW is a good film for anyone wanting to study the meat and potatoes (no pun intended) of Swedish cinema. But really, this film doesn\\'t have much of a plot.'"
      ]
     },
     "execution_count": 13,
     "metadata": {},
     "output_type": "execute_result"
    }
   ],
   "source": [
    "x_train_text[0]"
   ]
  },
  {
   "cell_type": "code",
   "execution_count": 14,
   "metadata": {
    "colab": {
     "base_uri": "https://localhost:8080/"
    },
    "id": "VyqaS44UYF_C",
    "outputId": "7ea58168-d92b-43bc-a198-50f679423af2"
   },
   "outputs": [
    {
     "data": {
      "text/plain": [
       "0"
      ]
     },
     "execution_count": 14,
     "metadata": {},
     "output_type": "execute_result"
    }
   ],
   "source": [
    "# 0: Negative Sentiment, 1: Positive Sentiment\n",
    "y_train[1]"
   ]
  },
  {
   "cell_type": "markdown",
   "metadata": {
    "id": "oUMrrZdKY05D"
   },
   "source": [
    "**Tokenizer**"
   ]
  },
  {
   "cell_type": "code",
   "execution_count": 15,
   "metadata": {
    "id": "LfY1c_QNYt2C"
   },
   "outputs": [],
   "source": [
    "# Instructing the Tokenizer to use 10000 most popular words from the dataset\n",
    "num_words = 10000"
   ]
  },
  {
   "cell_type": "code",
   "execution_count": 16,
   "metadata": {
    "id": "7Wr3BN2NZnzs"
   },
   "outputs": [],
   "source": [
    "tokenizer = Tokenizer(num_words = num_words)"
   ]
  },
  {
   "cell_type": "code",
   "execution_count": 17,
   "metadata": {
    "colab": {
     "base_uri": "https://localhost:8080/"
    },
    "id": "P3Yi7pBkZ4RW",
    "outputId": "4402c7f8-0528-49b9-f47f-a139f78c8296"
   },
   "outputs": [
    {
     "name": "stdout",
     "output_type": "stream",
     "text": [
      "CPU times: user 8.08 s, sys: 47.9 ms, total: 8.12 s\n",
      "Wall time: 8.12 s\n"
     ]
    }
   ],
   "source": [
    "%%time\n",
    "tokenizer.fit_on_texts(data_text)"
   ]
  },
  {
   "cell_type": "code",
   "execution_count": 18,
   "metadata": {
    "colab": {
     "base_uri": "https://localhost:8080/"
    },
    "id": "5eUF-IVla2aX",
    "outputId": "ba36ca3a-3a1c-4cf5-c237-0c3e80b47134"
   },
   "outputs": [
    {
     "data": {
      "text/plain": [
       "{'the': 1,\n",
       " 'and': 2,\n",
       " 'a': 3,\n",
       " 'of': 4,\n",
       " 'to': 5,\n",
       " 'is': 6,\n",
       " 'br': 7,\n",
       " 'in': 8,\n",
       " 'it': 9,\n",
       " 'i': 10,\n",
       " 'this': 11,\n",
       " 'that': 12,\n",
       " 'was': 13,\n",
       " 'as': 14,\n",
       " 'for': 15,\n",
       " 'with': 16,\n",
       " 'movie': 17,\n",
       " 'but': 18,\n",
       " 'film': 19,\n",
       " 'on': 20,\n",
       " 'not': 21,\n",
       " 'you': 22,\n",
       " 'are': 23,\n",
       " 'his': 24,\n",
       " 'have': 25,\n",
       " 'be': 26,\n",
       " 'one': 27,\n",
       " 'he': 28,\n",
       " 'all': 29,\n",
       " 'at': 30,\n",
       " 'by': 31,\n",
       " 'an': 32,\n",
       " 'they': 33,\n",
       " 'so': 34,\n",
       " 'who': 35,\n",
       " 'from': 36,\n",
       " 'like': 37,\n",
       " 'or': 38,\n",
       " 'just': 39,\n",
       " 'her': 40,\n",
       " 'out': 41,\n",
       " 'about': 42,\n",
       " 'if': 43,\n",
       " \"it's\": 44,\n",
       " 'has': 45,\n",
       " 'there': 46,\n",
       " 'some': 47,\n",
       " 'what': 48,\n",
       " 'good': 49,\n",
       " 'when': 50,\n",
       " 'more': 51,\n",
       " 'very': 52,\n",
       " 'up': 53,\n",
       " 'no': 54,\n",
       " 'time': 55,\n",
       " 'my': 56,\n",
       " 'even': 57,\n",
       " 'would': 58,\n",
       " 'she': 59,\n",
       " 'which': 60,\n",
       " 'only': 61,\n",
       " 'really': 62,\n",
       " 'see': 63,\n",
       " 'story': 64,\n",
       " 'their': 65,\n",
       " 'had': 66,\n",
       " 'can': 67,\n",
       " 'me': 68,\n",
       " 'well': 69,\n",
       " 'were': 70,\n",
       " 'than': 71,\n",
       " 'much': 72,\n",
       " 'we': 73,\n",
       " 'bad': 74,\n",
       " 'been': 75,\n",
       " 'get': 76,\n",
       " 'do': 77,\n",
       " 'great': 78,\n",
       " 'other': 79,\n",
       " 'will': 80,\n",
       " 'also': 81,\n",
       " 'into': 82,\n",
       " 'people': 83,\n",
       " 'because': 84,\n",
       " 'how': 85,\n",
       " 'first': 86,\n",
       " 'him': 87,\n",
       " 'most': 88,\n",
       " \"don't\": 89,\n",
       " 'made': 90,\n",
       " 'then': 91,\n",
       " 'its': 92,\n",
       " 'them': 93,\n",
       " 'make': 94,\n",
       " 'way': 95,\n",
       " 'too': 96,\n",
       " 'movies': 97,\n",
       " 'could': 98,\n",
       " 'any': 99,\n",
       " 'after': 100,\n",
       " 'think': 101,\n",
       " 'characters': 102,\n",
       " 'watch': 103,\n",
       " 'films': 104,\n",
       " 'two': 105,\n",
       " 'many': 106,\n",
       " 'seen': 107,\n",
       " 'character': 108,\n",
       " 'being': 109,\n",
       " 'never': 110,\n",
       " 'plot': 111,\n",
       " 'love': 112,\n",
       " 'acting': 113,\n",
       " 'life': 114,\n",
       " 'did': 115,\n",
       " 'best': 116,\n",
       " 'where': 117,\n",
       " 'know': 118,\n",
       " 'show': 119,\n",
       " 'little': 120,\n",
       " 'over': 121,\n",
       " 'off': 122,\n",
       " 'ever': 123,\n",
       " 'does': 124,\n",
       " 'your': 125,\n",
       " 'better': 126,\n",
       " 'end': 127,\n",
       " 'man': 128,\n",
       " 'scene': 129,\n",
       " 'still': 130,\n",
       " 'say': 131,\n",
       " 'these': 132,\n",
       " 'here': 133,\n",
       " 'scenes': 134,\n",
       " 'why': 135,\n",
       " 'while': 136,\n",
       " 'something': 137,\n",
       " 'such': 138,\n",
       " 'go': 139,\n",
       " 'through': 140,\n",
       " 'back': 141,\n",
       " 'should': 142,\n",
       " 'those': 143,\n",
       " 'real': 144,\n",
       " \"i'm\": 145,\n",
       " 'now': 146,\n",
       " 'watching': 147,\n",
       " 'thing': 148,\n",
       " \"doesn't\": 149,\n",
       " 'actors': 150,\n",
       " 'though': 151,\n",
       " 'funny': 152,\n",
       " 'years': 153,\n",
       " \"didn't\": 154,\n",
       " 'old': 155,\n",
       " '10': 156,\n",
       " 'another': 157,\n",
       " 'work': 158,\n",
       " 'before': 159,\n",
       " 'actually': 160,\n",
       " 'nothing': 161,\n",
       " 'makes': 162,\n",
       " 'look': 163,\n",
       " 'director': 164,\n",
       " 'find': 165,\n",
       " 'going': 166,\n",
       " 'same': 167,\n",
       " 'new': 168,\n",
       " 'lot': 169,\n",
       " 'every': 170,\n",
       " 'few': 171,\n",
       " 'again': 172,\n",
       " 'part': 173,\n",
       " 'cast': 174,\n",
       " 'down': 175,\n",
       " 'us': 176,\n",
       " 'things': 177,\n",
       " 'want': 178,\n",
       " 'quite': 179,\n",
       " 'pretty': 180,\n",
       " 'world': 181,\n",
       " 'horror': 182,\n",
       " 'around': 183,\n",
       " 'seems': 184,\n",
       " \"can't\": 185,\n",
       " 'young': 186,\n",
       " 'take': 187,\n",
       " 'however': 188,\n",
       " 'got': 189,\n",
       " 'thought': 190,\n",
       " 'big': 191,\n",
       " 'fact': 192,\n",
       " 'enough': 193,\n",
       " 'long': 194,\n",
       " 'both': 195,\n",
       " \"that's\": 196,\n",
       " 'give': 197,\n",
       " \"i've\": 198,\n",
       " 'own': 199,\n",
       " 'may': 200,\n",
       " 'between': 201,\n",
       " 'comedy': 202,\n",
       " 'right': 203,\n",
       " 'series': 204,\n",
       " 'action': 205,\n",
       " 'must': 206,\n",
       " 'music': 207,\n",
       " 'without': 208,\n",
       " 'times': 209,\n",
       " 'saw': 210,\n",
       " 'always': 211,\n",
       " 'original': 212,\n",
       " \"isn't\": 213,\n",
       " 'role': 214,\n",
       " 'come': 215,\n",
       " 'almost': 216,\n",
       " 'gets': 217,\n",
       " 'interesting': 218,\n",
       " 'guy': 219,\n",
       " 'point': 220,\n",
       " 'done': 221,\n",
       " \"there's\": 222,\n",
       " 'whole': 223,\n",
       " 'least': 224,\n",
       " 'far': 225,\n",
       " 'bit': 226,\n",
       " 'script': 227,\n",
       " 'minutes': 228,\n",
       " 'feel': 229,\n",
       " '2': 230,\n",
       " 'anything': 231,\n",
       " 'making': 232,\n",
       " 'might': 233,\n",
       " 'since': 234,\n",
       " 'am': 235,\n",
       " 'family': 236,\n",
       " \"he's\": 237,\n",
       " 'last': 238,\n",
       " 'probably': 239,\n",
       " 'tv': 240,\n",
       " 'performance': 241,\n",
       " 'kind': 242,\n",
       " 'away': 243,\n",
       " 'yet': 244,\n",
       " 'fun': 245,\n",
       " 'worst': 246,\n",
       " 'sure': 247,\n",
       " 'rather': 248,\n",
       " 'hard': 249,\n",
       " 'anyone': 250,\n",
       " 'girl': 251,\n",
       " 'each': 252,\n",
       " 'played': 253,\n",
       " 'day': 254,\n",
       " 'found': 255,\n",
       " 'looking': 256,\n",
       " 'woman': 257,\n",
       " 'screen': 258,\n",
       " 'although': 259,\n",
       " 'our': 260,\n",
       " 'especially': 261,\n",
       " 'believe': 262,\n",
       " 'having': 263,\n",
       " 'trying': 264,\n",
       " 'course': 265,\n",
       " 'dvd': 266,\n",
       " 'everything': 267,\n",
       " 'set': 268,\n",
       " 'goes': 269,\n",
       " 'comes': 270,\n",
       " 'put': 271,\n",
       " 'ending': 272,\n",
       " 'maybe': 273,\n",
       " 'place': 274,\n",
       " 'book': 275,\n",
       " 'shows': 276,\n",
       " 'three': 277,\n",
       " 'worth': 278,\n",
       " 'different': 279,\n",
       " 'main': 280,\n",
       " 'once': 281,\n",
       " 'sense': 282,\n",
       " 'american': 283,\n",
       " 'reason': 284,\n",
       " 'looks': 285,\n",
       " 'effects': 286,\n",
       " 'watched': 287,\n",
       " 'play': 288,\n",
       " 'true': 289,\n",
       " 'money': 290,\n",
       " 'actor': 291,\n",
       " \"wasn't\": 292,\n",
       " 'job': 293,\n",
       " 'together': 294,\n",
       " 'war': 295,\n",
       " 'someone': 296,\n",
       " 'plays': 297,\n",
       " 'instead': 298,\n",
       " 'high': 299,\n",
       " 'during': 300,\n",
       " 'said': 301,\n",
       " 'year': 302,\n",
       " 'half': 303,\n",
       " 'everyone': 304,\n",
       " 'later': 305,\n",
       " 'takes': 306,\n",
       " '1': 307,\n",
       " 'seem': 308,\n",
       " 'audience': 309,\n",
       " 'special': 310,\n",
       " 'beautiful': 311,\n",
       " 'left': 312,\n",
       " 'himself': 313,\n",
       " 'seeing': 314,\n",
       " 'john': 315,\n",
       " 'night': 316,\n",
       " 'black': 317,\n",
       " 'version': 318,\n",
       " 'shot': 319,\n",
       " 'excellent': 320,\n",
       " 'idea': 321,\n",
       " 'house': 322,\n",
       " 'mind': 323,\n",
       " 'star': 324,\n",
       " 'wife': 325,\n",
       " 'fan': 326,\n",
       " 'death': 327,\n",
       " 'used': 328,\n",
       " 'else': 329,\n",
       " 'simply': 330,\n",
       " 'nice': 331,\n",
       " 'budget': 332,\n",
       " 'poor': 333,\n",
       " 'short': 334,\n",
       " 'completely': 335,\n",
       " 'second': 336,\n",
       " \"you're\": 337,\n",
       " '3': 338,\n",
       " 'read': 339,\n",
       " 'less': 340,\n",
       " 'along': 341,\n",
       " 'top': 342,\n",
       " 'help': 343,\n",
       " 'home': 344,\n",
       " 'men': 345,\n",
       " 'either': 346,\n",
       " 'line': 347,\n",
       " 'boring': 348,\n",
       " 'dead': 349,\n",
       " 'friends': 350,\n",
       " 'kids': 351,\n",
       " 'try': 352,\n",
       " 'production': 353,\n",
       " 'enjoy': 354,\n",
       " 'camera': 355,\n",
       " 'wrong': 356,\n",
       " 'use': 357,\n",
       " 'given': 358,\n",
       " 'low': 359,\n",
       " 'classic': 360,\n",
       " 'father': 361,\n",
       " 'need': 362,\n",
       " 'full': 363,\n",
       " 'stupid': 364,\n",
       " 'until': 365,\n",
       " 'next': 366,\n",
       " 'performances': 367,\n",
       " 'school': 368,\n",
       " 'hollywood': 369,\n",
       " 'rest': 370,\n",
       " 'truly': 371,\n",
       " 'awful': 372,\n",
       " 'video': 373,\n",
       " 'couple': 374,\n",
       " 'start': 375,\n",
       " 'sex': 376,\n",
       " 'recommend': 377,\n",
       " 'women': 378,\n",
       " 'let': 379,\n",
       " 'tell': 380,\n",
       " 'terrible': 381,\n",
       " 'remember': 382,\n",
       " 'mean': 383,\n",
       " 'came': 384,\n",
       " 'understand': 385,\n",
       " 'getting': 386,\n",
       " 'perhaps': 387,\n",
       " 'moments': 388,\n",
       " 'name': 389,\n",
       " 'keep': 390,\n",
       " 'face': 391,\n",
       " 'itself': 392,\n",
       " 'wonderful': 393,\n",
       " 'playing': 394,\n",
       " 'human': 395,\n",
       " 'style': 396,\n",
       " 'small': 397,\n",
       " 'episode': 398,\n",
       " 'perfect': 399,\n",
       " 'others': 400,\n",
       " 'person': 401,\n",
       " 'doing': 402,\n",
       " 'often': 403,\n",
       " 'early': 404,\n",
       " 'stars': 405,\n",
       " 'definitely': 406,\n",
       " 'written': 407,\n",
       " 'head': 408,\n",
       " 'lines': 409,\n",
       " 'dialogue': 410,\n",
       " 'gives': 411,\n",
       " 'piece': 412,\n",
       " \"couldn't\": 413,\n",
       " 'went': 414,\n",
       " 'finally': 415,\n",
       " 'mother': 416,\n",
       " 'case': 417,\n",
       " 'title': 418,\n",
       " 'absolutely': 419,\n",
       " 'boy': 420,\n",
       " 'live': 421,\n",
       " 'yes': 422,\n",
       " 'laugh': 423,\n",
       " 'certainly': 424,\n",
       " 'liked': 425,\n",
       " 'become': 426,\n",
       " 'worse': 427,\n",
       " 'entertaining': 428,\n",
       " 'oh': 429,\n",
       " 'sort': 430,\n",
       " 'loved': 431,\n",
       " 'lost': 432,\n",
       " 'called': 433,\n",
       " 'hope': 434,\n",
       " 'picture': 435,\n",
       " 'felt': 436,\n",
       " 'overall': 437,\n",
       " 'entire': 438,\n",
       " 'mr': 439,\n",
       " 'several': 440,\n",
       " 'based': 441,\n",
       " 'supposed': 442,\n",
       " 'cinema': 443,\n",
       " 'friend': 444,\n",
       " 'guys': 445,\n",
       " 'sound': 446,\n",
       " '5': 447,\n",
       " 'problem': 448,\n",
       " 'drama': 449,\n",
       " 'against': 450,\n",
       " 'waste': 451,\n",
       " 'white': 452,\n",
       " 'beginning': 453,\n",
       " '4': 454,\n",
       " 'fans': 455,\n",
       " 'totally': 456,\n",
       " 'dark': 457,\n",
       " 'care': 458,\n",
       " 'direction': 459,\n",
       " 'humor': 460,\n",
       " 'wanted': 461,\n",
       " \"she's\": 462,\n",
       " 'seemed': 463,\n",
       " 'under': 464,\n",
       " 'game': 465,\n",
       " 'children': 466,\n",
       " 'despite': 467,\n",
       " 'lives': 468,\n",
       " 'lead': 469,\n",
       " 'guess': 470,\n",
       " 'example': 471,\n",
       " 'already': 472,\n",
       " 'final': 473,\n",
       " 'throughout': 474,\n",
       " \"you'll\": 475,\n",
       " 'turn': 476,\n",
       " 'evil': 477,\n",
       " 'becomes': 478,\n",
       " 'unfortunately': 479,\n",
       " 'able': 480,\n",
       " 'quality': 481,\n",
       " \"i'd\": 482,\n",
       " 'days': 483,\n",
       " 'history': 484,\n",
       " 'fine': 485,\n",
       " 'side': 486,\n",
       " 'wants': 487,\n",
       " 'horrible': 488,\n",
       " 'heart': 489,\n",
       " 'writing': 490,\n",
       " 'amazing': 491,\n",
       " 'b': 492,\n",
       " 'flick': 493,\n",
       " 'killer': 494,\n",
       " 'run': 495,\n",
       " 'son': 496,\n",
       " '\\x96': 497,\n",
       " 'michael': 498,\n",
       " 'works': 499,\n",
       " 'close': 500,\n",
       " \"they're\": 501,\n",
       " 'act': 502,\n",
       " 'art': 503,\n",
       " 'matter': 504,\n",
       " 'kill': 505,\n",
       " 'etc': 506,\n",
       " 'tries': 507,\n",
       " \"won't\": 508,\n",
       " 'past': 509,\n",
       " 'town': 510,\n",
       " 'enjoyed': 511,\n",
       " 'turns': 512,\n",
       " 'brilliant': 513,\n",
       " 'gave': 514,\n",
       " 'behind': 515,\n",
       " 'parts': 516,\n",
       " 'stuff': 517,\n",
       " 'genre': 518,\n",
       " 'eyes': 519,\n",
       " 'car': 520,\n",
       " 'favorite': 521,\n",
       " 'directed': 522,\n",
       " 'late': 523,\n",
       " 'hand': 524,\n",
       " 'expect': 525,\n",
       " 'soon': 526,\n",
       " 'hour': 527,\n",
       " 'obviously': 528,\n",
       " 'themselves': 529,\n",
       " 'sometimes': 530,\n",
       " 'killed': 531,\n",
       " 'actress': 532,\n",
       " 'thinking': 533,\n",
       " 'girls': 534,\n",
       " 'child': 535,\n",
       " 'viewer': 536,\n",
       " 'starts': 537,\n",
       " 'myself': 538,\n",
       " 'city': 539,\n",
       " 'decent': 540,\n",
       " 'highly': 541,\n",
       " 'stop': 542,\n",
       " 'type': 543,\n",
       " 'self': 544,\n",
       " 'god': 545,\n",
       " 'says': 546,\n",
       " 'group': 547,\n",
       " 'anyway': 548,\n",
       " 'voice': 549,\n",
       " 'took': 550,\n",
       " 'known': 551,\n",
       " 'blood': 552,\n",
       " 'kid': 553,\n",
       " 'heard': 554,\n",
       " 'happens': 555,\n",
       " 'except': 556,\n",
       " 'fight': 557,\n",
       " 'feeling': 558,\n",
       " 'experience': 559,\n",
       " 'coming': 560,\n",
       " 'slow': 561,\n",
       " 'daughter': 562,\n",
       " 'writer': 563,\n",
       " 'stories': 564,\n",
       " 'moment': 565,\n",
       " 'told': 566,\n",
       " 'leave': 567,\n",
       " 'extremely': 568,\n",
       " 'score': 569,\n",
       " 'violence': 570,\n",
       " 'involved': 571,\n",
       " 'police': 572,\n",
       " 'strong': 573,\n",
       " 'chance': 574,\n",
       " 'lack': 575,\n",
       " 'cannot': 576,\n",
       " 'hit': 577,\n",
       " 'roles': 578,\n",
       " 'hilarious': 579,\n",
       " 's': 580,\n",
       " 'wonder': 581,\n",
       " 'happen': 582,\n",
       " 'particularly': 583,\n",
       " 'ok': 584,\n",
       " 'including': 585,\n",
       " 'save': 586,\n",
       " 'living': 587,\n",
       " 'looked': 588,\n",
       " \"wouldn't\": 589,\n",
       " 'crap': 590,\n",
       " 'please': 591,\n",
       " 'simple': 592,\n",
       " 'murder': 593,\n",
       " 'cool': 594,\n",
       " 'obvious': 595,\n",
       " 'happened': 596,\n",
       " 'complete': 597,\n",
       " 'cut': 598,\n",
       " 'age': 599,\n",
       " 'serious': 600,\n",
       " 'gore': 601,\n",
       " 'attempt': 602,\n",
       " 'hell': 603,\n",
       " 'ago': 604,\n",
       " 'song': 605,\n",
       " 'shown': 606,\n",
       " 'taken': 607,\n",
       " 'english': 608,\n",
       " 'james': 609,\n",
       " 'robert': 610,\n",
       " 'david': 611,\n",
       " 'seriously': 612,\n",
       " 'released': 613,\n",
       " 'reality': 614,\n",
       " 'opening': 615,\n",
       " 'interest': 616,\n",
       " 'jokes': 617,\n",
       " 'across': 618,\n",
       " 'none': 619,\n",
       " 'hero': 620,\n",
       " 'today': 621,\n",
       " 'exactly': 622,\n",
       " 'possible': 623,\n",
       " 'alone': 624,\n",
       " 'sad': 625,\n",
       " 'brother': 626,\n",
       " 'number': 627,\n",
       " 'saying': 628,\n",
       " 'career': 629,\n",
       " \"film's\": 630,\n",
       " 'usually': 631,\n",
       " 'hours': 632,\n",
       " 'cinematography': 633,\n",
       " 'talent': 634,\n",
       " 'view': 635,\n",
       " 'annoying': 636,\n",
       " 'yourself': 637,\n",
       " 'running': 638,\n",
       " 'relationship': 639,\n",
       " 'documentary': 640,\n",
       " 'wish': 641,\n",
       " 'huge': 642,\n",
       " 'order': 643,\n",
       " 'whose': 644,\n",
       " 'shots': 645,\n",
       " 'ridiculous': 646,\n",
       " 'taking': 647,\n",
       " 'important': 648,\n",
       " 'light': 649,\n",
       " 'body': 650,\n",
       " 'middle': 651,\n",
       " 'level': 652,\n",
       " 'ends': 653,\n",
       " 'female': 654,\n",
       " 'call': 655,\n",
       " 'started': 656,\n",
       " \"i'll\": 657,\n",
       " 'husband': 658,\n",
       " 'four': 659,\n",
       " 'power': 660,\n",
       " 'major': 661,\n",
       " 'word': 662,\n",
       " 'turned': 663,\n",
       " 'opinion': 664,\n",
       " 'change': 665,\n",
       " 'mostly': 666,\n",
       " 'usual': 667,\n",
       " 'silly': 668,\n",
       " 'scary': 669,\n",
       " 'rating': 670,\n",
       " 'beyond': 671,\n",
       " 'somewhat': 672,\n",
       " 'ones': 673,\n",
       " 'happy': 674,\n",
       " 'words': 675,\n",
       " 'room': 676,\n",
       " 'knew': 677,\n",
       " 'knows': 678,\n",
       " 'country': 679,\n",
       " 'disappointed': 680,\n",
       " 'talking': 681,\n",
       " 'novel': 682,\n",
       " 'apparently': 683,\n",
       " 'non': 684,\n",
       " 'strange': 685,\n",
       " 'upon': 686,\n",
       " 'attention': 687,\n",
       " 'basically': 688,\n",
       " 'single': 689,\n",
       " 'finds': 690,\n",
       " 'cheap': 691,\n",
       " 'modern': 692,\n",
       " 'due': 693,\n",
       " 'jack': 694,\n",
       " 'television': 695,\n",
       " 'musical': 696,\n",
       " 'problems': 697,\n",
       " 'miss': 698,\n",
       " 'episodes': 699,\n",
       " 'clearly': 700,\n",
       " 'local': 701,\n",
       " '7': 702,\n",
       " 'british': 703,\n",
       " 'thriller': 704,\n",
       " 'talk': 705,\n",
       " 'events': 706,\n",
       " 'five': 707,\n",
       " 'sequence': 708,\n",
       " \"aren't\": 709,\n",
       " 'class': 710,\n",
       " 'french': 711,\n",
       " 'moving': 712,\n",
       " 'ten': 713,\n",
       " 'fast': 714,\n",
       " 'review': 715,\n",
       " 'earth': 716,\n",
       " 'tells': 717,\n",
       " 'predictable': 718,\n",
       " 'songs': 719,\n",
       " 'team': 720,\n",
       " 'comic': 721,\n",
       " 'straight': 722,\n",
       " '8': 723,\n",
       " 'whether': 724,\n",
       " 'die': 725,\n",
       " 'add': 726,\n",
       " 'dialog': 727,\n",
       " 'entertainment': 728,\n",
       " 'above': 729,\n",
       " 'sets': 730,\n",
       " 'future': 731,\n",
       " 'enjoyable': 732,\n",
       " 'appears': 733,\n",
       " 'near': 734,\n",
       " 'space': 735,\n",
       " 'easily': 736,\n",
       " 'hate': 737,\n",
       " 'soundtrack': 738,\n",
       " 'bring': 739,\n",
       " 'giving': 740,\n",
       " 'lots': 741,\n",
       " 'similar': 742,\n",
       " 'romantic': 743,\n",
       " 'george': 744,\n",
       " 'supporting': 745,\n",
       " 'release': 746,\n",
       " 'mention': 747,\n",
       " 'filmed': 748,\n",
       " 'within': 749,\n",
       " 'message': 750,\n",
       " 'sequel': 751,\n",
       " 'clear': 752,\n",
       " 'falls': 753,\n",
       " \"haven't\": 754,\n",
       " 'needs': 755,\n",
       " 'dull': 756,\n",
       " 'suspense': 757,\n",
       " 'eye': 758,\n",
       " 'bunch': 759,\n",
       " 'surprised': 760,\n",
       " 'showing': 761,\n",
       " 'tried': 762,\n",
       " 'sorry': 763,\n",
       " 'certain': 764,\n",
       " 'working': 765,\n",
       " 'easy': 766,\n",
       " 'ways': 767,\n",
       " 'theme': 768,\n",
       " 'theater': 769,\n",
       " 'named': 770,\n",
       " 'among': 771,\n",
       " \"what's\": 772,\n",
       " 'storyline': 773,\n",
       " 'monster': 774,\n",
       " 'king': 775,\n",
       " 'stay': 776,\n",
       " 'effort': 777,\n",
       " 'fall': 778,\n",
       " 'minute': 779,\n",
       " 'stand': 780,\n",
       " 'gone': 781,\n",
       " 'rock': 782,\n",
       " 'using': 783,\n",
       " '9': 784,\n",
       " 'feature': 785,\n",
       " 'buy': 786,\n",
       " 'comments': 787,\n",
       " \"'\": 788,\n",
       " 'typical': 789,\n",
       " 't': 790,\n",
       " 'sister': 791,\n",
       " 'editing': 792,\n",
       " 'avoid': 793,\n",
       " 'tale': 794,\n",
       " 'mystery': 795,\n",
       " 'deal': 796,\n",
       " 'dr': 797,\n",
       " 'doubt': 798,\n",
       " 'fantastic': 799,\n",
       " 'kept': 800,\n",
       " 'nearly': 801,\n",
       " 'subject': 802,\n",
       " 'feels': 803,\n",
       " 'okay': 804,\n",
       " 'viewing': 805,\n",
       " 'elements': 806,\n",
       " 'oscar': 807,\n",
       " 'check': 808,\n",
       " 'realistic': 809,\n",
       " 'points': 810,\n",
       " 'means': 811,\n",
       " 'greatest': 812,\n",
       " 'herself': 813,\n",
       " 'parents': 814,\n",
       " 'famous': 815,\n",
       " 'imagine': 816,\n",
       " 'rent': 817,\n",
       " 'viewers': 818,\n",
       " 'richard': 819,\n",
       " 'crime': 820,\n",
       " 'form': 821,\n",
       " 'peter': 822,\n",
       " 'actual': 823,\n",
       " 'lady': 824,\n",
       " 'general': 825,\n",
       " 'dog': 826,\n",
       " 'follow': 827,\n",
       " 'believable': 828,\n",
       " 'period': 829,\n",
       " 'red': 830,\n",
       " 'brought': 831,\n",
       " 'move': 832,\n",
       " 'material': 833,\n",
       " 'forget': 834,\n",
       " 'somehow': 835,\n",
       " 'begins': 836,\n",
       " 're': 837,\n",
       " 'reviews': 838,\n",
       " 'animation': 839,\n",
       " 'paul': 840,\n",
       " \"you've\": 841,\n",
       " 'leads': 842,\n",
       " 'weak': 843,\n",
       " 'figure': 844,\n",
       " 'surprise': 845,\n",
       " 'sit': 846,\n",
       " 'hear': 847,\n",
       " 'average': 848,\n",
       " 'open': 849,\n",
       " 'sequences': 850,\n",
       " 'killing': 851,\n",
       " 'atmosphere': 852,\n",
       " 'eventually': 853,\n",
       " 'learn': 854,\n",
       " 'tom': 855,\n",
       " 'premise': 856,\n",
       " 'wait': 857,\n",
       " '20': 858,\n",
       " 'sci': 859,\n",
       " 'deep': 860,\n",
       " 'fi': 861,\n",
       " 'expected': 862,\n",
       " 'whatever': 863,\n",
       " 'indeed': 864,\n",
       " 'particular': 865,\n",
       " 'lame': 866,\n",
       " 'poorly': 867,\n",
       " 'note': 868,\n",
       " 'imdb': 869,\n",
       " 'dance': 870,\n",
       " 'situation': 871,\n",
       " 'shame': 872,\n",
       " 'third': 873,\n",
       " 'box': 874,\n",
       " 'york': 875,\n",
       " 'truth': 876,\n",
       " 'decided': 877,\n",
       " 'free': 878,\n",
       " 'hot': 879,\n",
       " \"who's\": 880,\n",
       " 'difficult': 881,\n",
       " 'season': 882,\n",
       " 'needed': 883,\n",
       " 'acted': 884,\n",
       " 'leaves': 885,\n",
       " 'unless': 886,\n",
       " 'emotional': 887,\n",
       " 'possibly': 888,\n",
       " 'romance': 889,\n",
       " 'gay': 890,\n",
       " 'sexual': 891,\n",
       " 'boys': 892,\n",
       " 'footage': 893,\n",
       " 'write': 894,\n",
       " 'western': 895,\n",
       " 'forced': 896,\n",
       " 'credits': 897,\n",
       " 'reading': 898,\n",
       " 'became': 899,\n",
       " 'memorable': 900,\n",
       " 'doctor': 901,\n",
       " 'otherwise': 902,\n",
       " 'air': 903,\n",
       " 'begin': 904,\n",
       " 'crew': 905,\n",
       " 'de': 906,\n",
       " 'question': 907,\n",
       " 'society': 908,\n",
       " 'meet': 909,\n",
       " 'male': 910,\n",
       " \"let's\": 911,\n",
       " 'meets': 912,\n",
       " 'plus': 913,\n",
       " 'cheesy': 914,\n",
       " 'hands': 915,\n",
       " 'superb': 916,\n",
       " 'screenplay': 917,\n",
       " 'beauty': 918,\n",
       " 'interested': 919,\n",
       " 'street': 920,\n",
       " 'features': 921,\n",
       " 'whom': 922,\n",
       " 'masterpiece': 923,\n",
       " 'perfectly': 924,\n",
       " 'laughs': 925,\n",
       " 'stage': 926,\n",
       " 'nature': 927,\n",
       " 'effect': 928,\n",
       " 'forward': 929,\n",
       " 'comment': 930,\n",
       " 'nor': 931,\n",
       " 'badly': 932,\n",
       " 'e': 933,\n",
       " 'sounds': 934,\n",
       " 'previous': 935,\n",
       " 'japanese': 936,\n",
       " 'weird': 937,\n",
       " 'island': 938,\n",
       " 'personal': 939,\n",
       " 'inside': 940,\n",
       " 'quickly': 941,\n",
       " 'total': 942,\n",
       " 'keeps': 943,\n",
       " 'towards': 944,\n",
       " 'america': 945,\n",
       " 'result': 946,\n",
       " 'battle': 947,\n",
       " 'crazy': 948,\n",
       " 'worked': 949,\n",
       " 'setting': 950,\n",
       " 'incredibly': 951,\n",
       " 'background': 952,\n",
       " 'earlier': 953,\n",
       " 'mess': 954,\n",
       " 'cop': 955,\n",
       " 'writers': 956,\n",
       " 'fire': 957,\n",
       " 'copy': 958,\n",
       " 'realize': 959,\n",
       " 'dumb': 960,\n",
       " 'unique': 961,\n",
       " 'powerful': 962,\n",
       " 'lee': 963,\n",
       " 'mark': 964,\n",
       " 'business': 965,\n",
       " 'rate': 966,\n",
       " 'older': 967,\n",
       " 'dramatic': 968,\n",
       " 'pay': 969,\n",
       " 'following': 970,\n",
       " 'girlfriend': 971,\n",
       " 'joke': 972,\n",
       " 'directors': 973,\n",
       " 'plenty': 974,\n",
       " 'directing': 975,\n",
       " 'various': 976,\n",
       " 'baby': 977,\n",
       " 'creepy': 978,\n",
       " 'development': 979,\n",
       " 'appear': 980,\n",
       " 'brings': 981,\n",
       " 'front': 982,\n",
       " 'ask': 983,\n",
       " 'dream': 984,\n",
       " 'water': 985,\n",
       " 'admit': 986,\n",
       " 'bill': 987,\n",
       " 'rich': 988,\n",
       " 'apart': 989,\n",
       " 'joe': 990,\n",
       " 'political': 991,\n",
       " 'fairly': 992,\n",
       " 'leading': 993,\n",
       " 'reasons': 994,\n",
       " 'portrayed': 995,\n",
       " 'spent': 996,\n",
       " 'telling': 997,\n",
       " 'cover': 998,\n",
       " 'outside': 999,\n",
       " 'present': 1000,\n",
       " ...}"
      ]
     },
     "execution_count": 18,
     "metadata": {},
     "output_type": "execute_result"
    }
   ],
   "source": [
    "tokenizer.word_index"
   ]
  },
  {
   "cell_type": "code",
   "execution_count": 19,
   "metadata": {
    "id": "xYSlpTLKbYGz"
   },
   "outputs": [],
   "source": [
    "# Convert all texts in training set to list of tokens\n",
    "x_train_tokens = tokenizer.texts_to_sequences(x_train_text)"
   ]
  },
  {
   "cell_type": "code",
   "execution_count": 20,
   "metadata": {
    "colab": {
     "base_uri": "https://localhost:8080/",
     "height": 123
    },
    "id": "6KmAuxUhcgcf",
    "outputId": "60f7349b-85c8-45a2-f4e3-24662cc285dd"
   },
   "outputs": [
    {
     "data": {
      "text/plain": [
       "'I rented I AM CURIOUS-YELLOW from my video store because of all the controversy that surrounded it when it was first released in 1967. I also heard that at first it was seized by U.S. customs if it ever tried to enter this country, therefore being a fan of films considered \"controversial\" I really had to see this for myself.<br /><br />The plot is centered around a young Swedish drama student named Lena who wants to learn everything she can about life. In particular she wants to focus her attentions to making some sort of documentary on what the average Swede thought about certain political issues such as the Vietnam War and race issues in the United States. In between asking politicians and ordinary denizens of Stockholm about their opinions on politics, she has sex with her drama teacher, classmates, and married men.<br /><br />What kills me about I AM CURIOUS-YELLOW is that 40 years ago, this was considered pornographic. Really, the sex and nudity scenes are few and far between, even then it\\'s not shot like some cheaply made porno. While my countrymen mind find it shocking, in reality sex and nudity are a major staple in Swedish cinema. Even Ingmar Bergman, arguably their answer to good old boy John Ford, had sex scenes in his films.<br /><br />I do commend the filmmakers for the fact that any sex shown in the film is shown for artistic purposes rather than just to shock people and make money to be shown in pornographic theaters in America. I AM CURIOUS-YELLOW is a good film for anyone wanting to study the meat and potatoes (no pun intended) of Swedish cinema. But really, this film doesn\\'t have much of a plot.'"
      ]
     },
     "execution_count": 20,
     "metadata": {},
     "output_type": "execute_result"
    }
   ],
   "source": [
    "x_train_text[0]"
   ]
  },
  {
   "cell_type": "code",
   "execution_count": 21,
   "metadata": {
    "colab": {
     "base_uri": "https://localhost:8080/"
    },
    "id": "Q_k_rnaAcoAZ",
    "outputId": "0896835d-96b5-4fa6-a4e9-e22982cabe65"
   },
   "outputs": [
    {
     "data": {
      "text/plain": [
       "array([  10, 1567,   10,  235, 2119, 3956,   36,   56,  373, 1088,   84,\n",
       "          4,   29,    1, 6340,   12, 3611,    9,   50,    9,   13,   86,\n",
       "        613,    8, 7540,   10,   81,  554,   12,   30,   86,    9,   13,\n",
       "         31, 1153,  580, 9106,   43,    9,  123,  762,    5, 2320,   11,\n",
       "        679, 1548,  109,    3,  326,    4,  104, 1228, 2924,   10,   62,\n",
       "         66,    5,   63,   11,   15,  538,    7,    7,    1,  111,    6,\n",
       "       4133,  183,    3,  186, 3655,  449, 1425,  770, 5973,   35,  487,\n",
       "          5,  854,  267,   59,   67,   42,  114,    8,  865,   59,  487,\n",
       "          5, 1151,   40,    5,  232,   47,  430,    4,  640,   20,   48,\n",
       "          1,  848,  190,   42,  764,  991, 1262,  138,   14,    1, 2421,\n",
       "        295,    2, 1394, 1262,    8,    1, 2249, 1652,    8,  201, 2196,\n",
       "       6088,    2, 1877,    4,   42,   65, 3971,   20, 2531,   59,   45,\n",
       "        376,   16,   40,  449, 1664, 9498,    2, 1062,  345,    7,    7,\n",
       "         48, 1164,   68,   42,   10,  235, 2119, 3956,    6,   12, 1800,\n",
       "        153,  604,   11,   13, 1228, 7720,   62,    1,  376,    2, 1042,\n",
       "        134,   23,  171,    2,  225,  201,   57,   91,   44,   21,  319,\n",
       "         37,   47, 6768,   90, 3864,  136,   56,  323,  165,    9, 1608,\n",
       "          8,  614,  376,    2, 1042,   23,    3,  661, 8602,    8, 3655,\n",
       "        443,   57, 3767, 4780,   65, 1485,    5,   49,  155,  420,  315,\n",
       "       1902,   66,  376,  134,    8,   24,  104,    7,    7,   10,   77,\n",
       "          1, 1068,   15,    1,  192,   12,   99,  376,  606,    8,    1,\n",
       "         19,    6,  606,   15, 1644, 4636,  248,   71,   39,    5, 1472,\n",
       "         83,    2,   94,  290,    5,   26,  606,    8, 7720, 2194,    8,\n",
       "        945,   10,  235, 2119, 3956,    6,    3,   49,   19,   15,  250,\n",
       "       1683,    5, 2039,    1, 3325,    2,   54, 4679, 1369,    4, 3655,\n",
       "        443,   18,   62,   11,   19,  149,   25,   72,    4,    3,  111])"
      ]
     },
     "execution_count": 21,
     "metadata": {},
     "output_type": "execute_result"
    }
   ],
   "source": [
    "np.array(x_train_tokens[0])"
   ]
  },
  {
   "cell_type": "code",
   "execution_count": 22,
   "metadata": {
    "id": "rgcpmkFectYi"
   },
   "outputs": [],
   "source": [
    "# Convert all texts in test set to a list of tokens\n",
    "x_test_tokens = tokenizer.texts_to_sequences(x_test_text)"
   ]
  },
  {
   "cell_type": "markdown",
   "metadata": {
    "id": "iIuQ83DydTSu"
   },
   "source": [
    "**Padding and Truncating**"
   ]
  },
  {
   "cell_type": "code",
   "execution_count": 23,
   "metadata": {
    "id": "oBc89VnJdGDK"
   },
   "outputs": [],
   "source": [
    "# Count number of tokens in all the sequences in the dataset\n",
    "num_tokens = [len(tokens) for tokens in x_train_tokens + x_test_tokens]\n",
    "num_tokens = np.array(num_tokens)"
   ]
  },
  {
   "cell_type": "code",
   "execution_count": 24,
   "metadata": {
    "colab": {
     "base_uri": "https://localhost:8080/"
    },
    "id": "nLf738lwiN2P",
    "outputId": "65d83436-a907-4c05-e66d-88164de2154f"
   },
   "outputs": [
    {
     "data": {
      "text/plain": [
       "221.27716"
      ]
     },
     "execution_count": 24,
     "metadata": {},
     "output_type": "execute_result"
    }
   ],
   "source": [
    "# the average number of tokens in a sequence is\n",
    "np.mean(num_tokens)"
   ]
  },
  {
   "cell_type": "code",
   "execution_count": 25,
   "metadata": {
    "colab": {
     "base_uri": "https://localhost:8080/"
    },
    "id": "ZQQdL5kniWvo",
    "outputId": "a2f9b167-a21c-4f00-de6a-380cb767800f"
   },
   "outputs": [
    {
     "data": {
      "text/plain": [
       "2209"
      ]
     },
     "execution_count": 25,
     "metadata": {},
     "output_type": "execute_result"
    }
   ],
   "source": [
    "# the maximum number of tokens in a sequence is\n",
    "np.max(num_tokens)"
   ]
  },
  {
   "cell_type": "code",
   "execution_count": 26,
   "metadata": {
    "colab": {
     "base_uri": "https://localhost:8080/"
    },
    "id": "cK2tJteaieIa",
    "outputId": "e43f95b0-5cbb-4c50-a74f-4609c527a3fd"
   },
   "outputs": [
    {
     "data": {
      "text/plain": [
       "544"
      ]
     },
     "execution_count": 26,
     "metadata": {},
     "output_type": "execute_result"
    }
   ],
   "source": [
    "# the max number of tokens we wil allow is set to average + 2 std.\n",
    "max_tokens = np.mean(num_tokens) + 2*np.std(num_tokens)\n",
    "max_tokens = int(max_tokens)\n",
    "max_tokens"
   ]
  },
  {
   "cell_type": "code",
   "execution_count": 27,
   "metadata": {
    "colab": {
     "base_uri": "https://localhost:8080/"
    },
    "id": "FAmbFN3piuvh",
    "outputId": "32dba6e3-af53-4432-90a6-e2810792c461"
   },
   "outputs": [
    {
     "data": {
      "text/plain": [
       "0.94534"
      ]
     },
     "execution_count": 27,
     "metadata": {},
     "output_type": "execute_result"
    }
   ],
   "source": [
    "# This covers about 95% of the dataset\n",
    "np.sum(num_tokens < max_tokens)/len(num_tokens)"
   ]
  },
  {
   "cell_type": "code",
   "execution_count": 28,
   "metadata": {
    "id": "cZs4fTawiwNs"
   },
   "outputs": [],
   "source": [
    "pad = 'pre'"
   ]
  },
  {
   "cell_type": "code",
   "execution_count": 29,
   "metadata": {
    "id": "lGGfgthiTK74"
   },
   "outputs": [],
   "source": [
    "x_train_pad = pad_sequences(x_train_tokens, maxlen = max_tokens, padding = pad, truncating = pad)"
   ]
  },
  {
   "cell_type": "code",
   "execution_count": 30,
   "metadata": {
    "id": "xP-9IEeATeW-"
   },
   "outputs": [],
   "source": [
    "x_test_pad = pad_sequences(x_train_tokens, maxlen = max_tokens, padding = pad, truncating = pad)"
   ]
  },
  {
   "cell_type": "code",
   "execution_count": 31,
   "metadata": {
    "colab": {
     "base_uri": "https://localhost:8080/"
    },
    "id": "HuZq-VAhTrTr",
    "outputId": "f49c14c0-ee22-4a2a-ac1a-1033468f3e5f"
   },
   "outputs": [
    {
     "data": {
      "text/plain": [
       "(25000, 544)"
      ]
     },
     "execution_count": 31,
     "metadata": {},
     "output_type": "execute_result"
    }
   ],
   "source": [
    "x_train_pad.shape"
   ]
  },
  {
   "cell_type": "code",
   "execution_count": 32,
   "metadata": {
    "colab": {
     "base_uri": "https://localhost:8080/"
    },
    "id": "Rp8bEQeUTxd4",
    "outputId": "3f8093cb-79dd-4fc5-9ab8-6b6e91861113"
   },
   "outputs": [
    {
     "data": {
      "text/plain": [
       "(25000, 544)"
      ]
     },
     "execution_count": 32,
     "metadata": {},
     "output_type": "execute_result"
    }
   ],
   "source": [
    "x_test_pad.shape"
   ]
  },
  {
   "cell_type": "code",
   "execution_count": 33,
   "metadata": {
    "colab": {
     "base_uri": "https://localhost:8080/"
    },
    "id": "aDoOxMY0T0Bz",
    "outputId": "8a063318-e9e4-44cd-a58f-6b8c03fdd92d"
   },
   "outputs": [
    {
     "data": {
      "text/plain": [
       "array([  10,  235, 2119, 3956,    6,    3,    2, 2123, 8306, 2623,    9,\n",
       "        149,  504,   48, 1998,  991, 2791,   23,   84,   11,   19,   67,\n",
       "       1031,   26,  607,  612,   20,   99,  652,   14,   15,    1, 2425,\n",
       "         12, 6813,  910, 1042,    6,   32, 8370, 2962,   12,  213,  289,\n",
       "        198,  107, 1464, 1196,  104,   16,  910, 1042, 2469,   33,   61,\n",
       "       1454,   47, 9107, 2791,   18,  117,   23,    1, 1464, 1196,  104,\n",
       "         16,    2, 1272,   84,   33,   89, 1874,    1,  167,  269,   15,\n",
       "        143, 1940, 1897,  276, 7060,    8,    1,   18,   21,    3,    8,\n",
       "       1680,    2,  143, 2123, 2700,   97,   37,    1, 1882, 5596,    8,\n",
       "         60, 1057, 1884,    5,    1, 2060,    4, 2977, 2638,   18,   21,\n",
       "          3, 6418,    4, 3668, 4910,   20, 9108,  159, 2492,   38, 1428,\n",
       "       1267,    8, 2282,    4, 1042,    1, 2917,  142,  187,   82, 2624,\n",
       "         27,  595, 1497,  201,  345,    2,  378,   46,   23,   54,   20,\n",
       "       2434,   50, 1530,  733, 2784,    2,    1,  167,  576,   26,  301,\n",
       "         15,    3,  128,    8,  192,   22, 1293,  508,   63,  654,    8,\n",
       "         32,  283,   19,    8,  231,  334,    4, 1482,   38, 3839,   11,\n",
       "       7721, 1428, 1267,    6,  340,    3, 1428, 1267,   71,   32, 3478,\n",
       "       2325, 1239,    5,  215,    5, 1296,   16,    1,    4, 5010, 2189])"
      ]
     },
     "execution_count": 33,
     "metadata": {},
     "output_type": "execute_result"
    }
   ],
   "source": [
    "np.array(x_train_tokens[1])"
   ]
  },
  {
   "cell_type": "code",
   "execution_count": 34,
   "metadata": {
    "colab": {
     "base_uri": "https://localhost:8080/"
    },
    "id": "fAsgSrLDUZH6",
    "outputId": "e09000de-5ada-4940-8dc2-1a0909fdf4f8"
   },
   "outputs": [
    {
     "data": {
      "text/plain": [
       "array([   0,    0,    0,    0,    0,    0,    0,    0,    0,    0,    0,\n",
       "          0,    0,    0,    0,    0,    0,    0,    0,    0,    0,    0,\n",
       "          0,    0,    0,    0,    0,    0,    0,    0,    0,    0,    0,\n",
       "          0,    0,    0,    0,    0,    0,    0,    0,    0,    0,    0,\n",
       "          0,    0,    0,    0,    0,    0,    0,    0,    0,    0,    0,\n",
       "          0,    0,    0,    0,    0,    0,    0,    0,    0,    0,    0,\n",
       "          0,    0,    0,    0,    0,    0,    0,    0,    0,    0,    0,\n",
       "          0,    0,    0,    0,    0,    0,    0,    0,    0,    0,    0,\n",
       "          0,    0,    0,    0,    0,    0,    0,    0,    0,    0,    0,\n",
       "          0,    0,    0,    0,    0,    0,    0,    0,    0,    0,    0,\n",
       "          0,    0,    0,    0,    0,    0,    0,    0,    0,    0,    0,\n",
       "          0,    0,    0,    0,    0,    0,    0,    0,    0,    0,    0,\n",
       "          0,    0,    0,    0,    0,    0,    0,    0,    0,    0,    0,\n",
       "          0,    0,    0,    0,    0,    0,    0,    0,    0,    0,    0,\n",
       "          0,    0,    0,    0,    0,    0,    0,    0,    0,    0,    0,\n",
       "          0,    0,    0,    0,    0,    0,    0,    0,    0,    0,    0,\n",
       "          0,    0,    0,    0,    0,    0,    0,    0,    0,    0,    0,\n",
       "          0,    0,    0,    0,    0,    0,    0,    0,    0,    0,    0,\n",
       "          0,    0,    0,    0,    0,    0,    0,    0,    0,    0,    0,\n",
       "          0,    0,    0,    0,    0,    0,    0,    0,    0,    0,    0,\n",
       "          0,    0,    0,    0,    0,    0,    0,    0,    0,    0,    0,\n",
       "          0,    0,    0,    0,    0,    0,    0,    0,    0,    0,    0,\n",
       "          0,    0,    0,    0,    0,    0,    0,    0,    0,    0,    0,\n",
       "          0,    0,    0,    0,    0,    0,    0,    0,    0,    0,    0,\n",
       "          0,    0,    0,    0,    0,    0,    0,    0,    0,    0,    0,\n",
       "          0,    0,    0,    0,    0,    0,    0,    0,    0,    0,    0,\n",
       "          0,    0,    0,    0,    0,    0,    0,    0,    0,    0,    0,\n",
       "          0,    0,    0,    0,    0,    0,    0,    0,    0,    0,    0,\n",
       "          0,    0,    0,    0,    0,    0,    0,    0,    0,    0,    0,\n",
       "          0,    0,    0,    0,    0,    0,    0,    0,    0,    0,    0,\n",
       "          0,    0,    0,    0,    0,    0,    0,    0,    0,    0,    0,\n",
       "          0,    0,    0,    0,    0,   10,  235, 2119, 3956,    6,    3,\n",
       "          2, 2123, 8306, 2623,    9,  149,  504,   48, 1998,  991, 2791,\n",
       "         23,   84,   11,   19,   67, 1031,   26,  607,  612,   20,   99,\n",
       "        652,   14,   15,    1, 2425,   12, 6813,  910, 1042,    6,   32,\n",
       "       8370, 2962,   12,  213,  289,  198,  107, 1464, 1196,  104,   16,\n",
       "        910, 1042, 2469,   33,   61, 1454,   47, 9107, 2791,   18,  117,\n",
       "         23,    1, 1464, 1196,  104,   16,    2, 1272,   84,   33,   89,\n",
       "       1874,    1,  167,  269,   15,  143, 1940, 1897,  276, 7060,    8,\n",
       "          1,   18,   21,    3,    8, 1680,    2,  143, 2123, 2700,   97,\n",
       "         37,    1, 1882, 5596,    8,   60, 1057, 1884,    5,    1, 2060,\n",
       "          4, 2977, 2638,   18,   21,    3, 6418,    4, 3668, 4910,   20,\n",
       "       9108,  159, 2492,   38, 1428, 1267,    8, 2282,    4, 1042,    1,\n",
       "       2917,  142,  187,   82, 2624,   27,  595, 1497,  201,  345,    2,\n",
       "        378,   46,   23,   54,   20, 2434,   50, 1530,  733, 2784,    2,\n",
       "          1,  167,  576,   26,  301,   15,    3,  128,    8,  192,   22,\n",
       "       1293,  508,   63,  654,    8,   32,  283,   19,    8,  231,  334,\n",
       "          4, 1482,   38, 3839,   11, 7721, 1428, 1267,    6,  340,    3,\n",
       "       1428, 1267,   71,   32, 3478, 2325, 1239,    5,  215,    5, 1296,\n",
       "         16,    1,    4, 5010, 2189], dtype=int32)"
      ]
     },
     "execution_count": 34,
     "metadata": {},
     "output_type": "execute_result"
    }
   ],
   "source": [
    "x_train_pad[1]"
   ]
  },
  {
   "cell_type": "markdown",
   "metadata": {
    "id": "0hXHqmI9UiQK"
   },
   "source": [
    "**Tokenizer Inverse Map**"
   ]
  },
  {
   "cell_type": "code",
   "execution_count": 35,
   "metadata": {
    "id": "c3lSpCIBUdJi"
   },
   "outputs": [],
   "source": [
    "idx  = tokenizer.word_index\n",
    "inverse_map = dict(zip(idx.values(),idx.keys()))"
   ]
  },
  {
   "cell_type": "code",
   "execution_count": 36,
   "metadata": {
    "id": "fqxZdUNMU6Vt"
   },
   "outputs": [],
   "source": [
    "def tokens_to_strings(tokens):\n",
    "  sentence = \"\"\n",
    "  for token in tokens:\n",
    "    if token != 0:\n",
    "      sentence += inverse_map[token]+\" \"\n",
    "  return sentence"
   ]
  },
  {
   "cell_type": "code",
   "execution_count": 37,
   "metadata": {
    "colab": {
     "base_uri": "https://localhost:8080/",
     "height": 123
    },
    "id": "7xigA9WeVEKk",
    "outputId": "0f45da82-733b-4b4d-d43b-a26906b24c17"
   },
   "outputs": [
    {
     "data": {
      "text/plain": [
       "'\"I Am Curious: Yellow\" is a risible and pretentious steaming pile. It doesn\\'t matter what one\\'s political views are because this film can hardly be taken seriously on any level. As for the claim that frontal male nudity is an automatic NC-17, that isn\\'t true. I\\'ve seen R-rated films with male nudity. Granted, they only offer some fleeting views, but where are the R-rated films with gaping vulvas and flapping labia? Nowhere, because they don\\'t exist. The same goes for those crappy cable shows: schlongs swinging in the breeze but not a clitoris in sight. And those pretentious indie movies like The Brown Bunny, in which we\\'re treated to the site of Vincent Gallo\\'s throbbing johnson, but not a trace of pink visible on Chloe Sevigny. Before crying (or implying) \"double-standard\" in matters of nudity, the mentally obtuse should take into account one unavoidably obvious anatomical difference between men and women: there are no genitals on display when actresses appears nude, and the same cannot be said for a man. In fact, you generally won\\'t see female genitals in an American film in anything short of porn or explicit erotica. This alleged double-standard is less a double standard than an admittedly depressing ability to come to terms culturally with the insides of women\\'s bodies.'"
      ]
     },
     "execution_count": 37,
     "metadata": {},
     "output_type": "execute_result"
    }
   ],
   "source": [
    "x_train_text[1]"
   ]
  },
  {
   "cell_type": "code",
   "execution_count": 38,
   "metadata": {
    "colab": {
     "base_uri": "https://localhost:8080/",
     "height": 123
    },
    "id": "BiIPmx6GVrUC",
    "outputId": "4419c737-f5ef-45be-ba79-6297dc489141"
   },
   "outputs": [
    {
     "data": {
      "text/plain": [
       "\"i am curious yellow is a and pretentious steaming pile it doesn't matter what one's political views are because this film can hardly be taken seriously on any level as for the claim that frontal male nudity is an automatic 17 that isn't true i've seen r rated films with male nudity granted they only offer some fleeting views but where are the r rated films with and nowhere because they don't exist the same goes for those crappy cable shows swinging in the but not a in sight and those pretentious indie movies like the brown bunny in which we're treated to the site of vincent johnson but not a trace of pink visible on chloe before crying or double standard in matters of nudity the mentally should take into account one obvious difference between men and women there are no on display when actresses appears nude and the same cannot be said for a man in fact you generally won't see female in an american film in anything short of porn or explicit this alleged double standard is less a double standard than an admittedly depressing ability to come to terms with the of women's bodies \""
      ]
     },
     "execution_count": 38,
     "metadata": {},
     "output_type": "execute_result"
    }
   ],
   "source": [
    "tokens_to_strings(x_train_tokens[1])"
   ]
  },
  {
   "cell_type": "markdown",
   "metadata": {
    "id": "yjYGjQ_gWgFv"
   },
   "source": [
    "**Create the Neural Network**"
   ]
  },
  {
   "cell_type": "code",
   "execution_count": 40,
   "metadata": {
    "id": "KEphr_4tVvGO"
   },
   "outputs": [],
   "source": [
    "model = Sequential()"
   ]
  },
  {
   "cell_type": "code",
   "execution_count": 38,
   "metadata": {
    "id": "uwM9cc2kXJsd"
   },
   "outputs": [],
   "source": [
    "embedding_size = 8"
   ]
  },
  {
   "cell_type": "code",
   "execution_count": 39,
   "metadata": {
    "id": "InT1C6RyXLpW"
   },
   "outputs": [],
   "source": [
    "model.add(Embedding(input_dim = num_words, output_dim = embedding_size, input_length = max_tokens, name = 'layer_embedding'))"
   ]
  },
  {
   "cell_type": "code",
   "execution_count": 40,
   "metadata": {
    "id": "95cZNZ0MXv_1"
   },
   "outputs": [],
   "source": [
    "model.add(GRU(units = 16, return_sequences = True))"
   ]
  },
  {
   "cell_type": "code",
   "execution_count": 41,
   "metadata": {
    "id": "-6VRlKPwYc0w"
   },
   "outputs": [],
   "source": [
    "model.add(GRU(units = 8, return_sequences = True))"
   ]
  },
  {
   "cell_type": "code",
   "execution_count": 42,
   "metadata": {
    "id": "jq9aoM5FYm0S"
   },
   "outputs": [],
   "source": [
    "model.add(GRU(units =4 ))"
   ]
  },
  {
   "cell_type": "code",
   "execution_count": 43,
   "metadata": {
    "id": "WZObvwfrYtwY"
   },
   "outputs": [],
   "source": [
    "model.add(Dense(1, activation = 'sigmoid'))"
   ]
  },
  {
   "cell_type": "code",
   "execution_count": 44,
   "metadata": {
    "id": "92VN7fb3Y3g1"
   },
   "outputs": [],
   "source": [
    "optimizer = Adam(learning_rate = 1e-3)"
   ]
  },
  {
   "cell_type": "code",
   "execution_count": 45,
   "metadata": {
    "id": "hudoo2y-Y-Tx"
   },
   "outputs": [],
   "source": [
    "model.compile(loss = 'binary_crossentropy',\n",
    "              optimizer = optimizer,\n",
    "              metrics = ['accuracy'])"
   ]
  },
  {
   "cell_type": "code",
   "execution_count": 46,
   "metadata": {
    "colab": {
     "base_uri": "https://localhost:8080/"
    },
    "id": "xVK0dys2ZQGC",
    "outputId": "55c7904e-8b90-4652-c913-4adc7018faac"
   },
   "outputs": [
    {
     "name": "stdout",
     "output_type": "stream",
     "text": [
      "Model: \"sequential\"\n",
      "_________________________________________________________________\n",
      " Layer (type)                Output Shape              Param #   \n",
      "=================================================================\n",
      " layer_embedding (Embedding  (None, 544, 8)            80000     \n",
      " )                                                               \n",
      "                                                                 \n",
      " gru (GRU)                   (None, 544, 16)           1248      \n",
      "                                                                 \n",
      " gru_1 (GRU)                 (None, 544, 8)            624       \n",
      "                                                                 \n",
      " gru_2 (GRU)                 (None, 4)                 168       \n",
      "                                                                 \n",
      " dense (Dense)               (None, 1)                 5         \n",
      "                                                                 \n",
      "=================================================================\n",
      "Total params: 82045 (320.49 KB)\n",
      "Trainable params: 82045 (320.49 KB)\n",
      "Non-trainable params: 0 (0.00 Byte)\n",
      "_________________________________________________________________\n"
     ]
    }
   ],
   "source": [
    "model.summary()"
   ]
  },
  {
   "cell_type": "markdown",
   "metadata": {
    "id": "s1fhTAM8aD-F"
   },
   "source": [
    "**Train the Reccurent Neural Network**"
   ]
  },
  {
   "cell_type": "code",
   "execution_count": 47,
   "metadata": {
    "colab": {
     "base_uri": "https://localhost:8080/"
    },
    "id": "cyCH1D1fZS7M",
    "outputId": "0d48877e-9ef8-42af-ac5c-afd838305cf9"
   },
   "outputs": [
    {
     "name": "stdout",
     "output_type": "stream",
     "text": [
      "Epoch 1/3\n",
      "372/372 [==============================] - 73s 180ms/step - loss: 0.6225 - accuracy: 0.6582 - val_loss: 0.7552 - val_accuracy: 0.0056\n",
      "Epoch 2/3\n",
      "372/372 [==============================] - 39s 104ms/step - loss: 0.4336 - accuracy: 0.8201 - val_loss: 0.3015 - val_accuracy: 0.8936\n",
      "Epoch 3/3\n",
      "372/372 [==============================] - 30s 81ms/step - loss: 0.2989 - accuracy: 0.8913 - val_loss: 0.2862 - val_accuracy: 0.8952\n",
      "CPU times: user 1min 47s, sys: 2.62 s, total: 1min 50s\n",
      "Wall time: 2min 22s\n"
     ]
    },
    {
     "data": {
      "text/plain": [
       "<keras.src.callbacks.History at 0x7f97a6357100>"
      ]
     },
     "execution_count": 47,
     "metadata": {},
     "output_type": "execute_result"
    }
   ],
   "source": [
    "%%time\n",
    "model.fit(x_train_pad, y_train, validation_split = 0.05, epochs = 3, batch_size = 64)"
   ]
  },
  {
   "cell_type": "markdown",
   "metadata": {
    "id": "TcV78uLocD9M"
   },
   "source": [
    "**Performance on Test-Set**"
   ]
  },
  {
   "cell_type": "code",
   "execution_count": 48,
   "metadata": {
    "colab": {
     "base_uri": "https://localhost:8080/"
    },
    "id": "oR5sji48baH1",
    "outputId": "ef2a85dc-06ac-427c-c79b-7a2cdfb3cd07"
   },
   "outputs": [
    {
     "name": "stdout",
     "output_type": "stream",
     "text": [
      "782/782 [==============================] - 17s 22ms/step - loss: 0.2450 - accuracy: 0.9160\n",
      "CPU times: user 17 s, sys: 382 ms, total: 17.4 s\n",
      "Wall time: 20.6 s\n"
     ]
    }
   ],
   "source": [
    "%%time\n",
    "result = model.evaluate(x_test_pad, y_test)"
   ]
  },
  {
   "cell_type": "code",
   "execution_count": 49,
   "metadata": {
    "colab": {
     "base_uri": "https://localhost:8080/"
    },
    "id": "E7SvamBdcVJK",
    "outputId": "2b880a65-0218-4cfb-86dd-0a70353d545d"
   },
   "outputs": [
    {
     "name": "stdout",
     "output_type": "stream",
     "text": [
      "Accuracy: 91.60%\n"
     ]
    }
   ],
   "source": [
    "print(\"Accuracy: {0:.2%}\".format(result[1]))"
   ]
  },
  {
   "cell_type": "markdown",
   "metadata": {
    "id": "aBIRP4_JddoI"
   },
   "source": [
    "**Hyper parameter Optimization**"
   ]
  },
  {
   "cell_type": "code",
   "execution_count": 41,
   "metadata": {
    "id": "PiWxtduccfux"
   },
   "outputs": [],
   "source": [
    "from tensorflow.keras import backend as K\n",
    "from tensorflow.keras.callbacks import TensorBoard\n",
    "from tensorflow.keras.models import load_model\n",
    "from tensorflow.keras.callbacks import EarlyStopping"
   ]
  },
  {
   "cell_type": "code",
   "execution_count": 42,
   "metadata": {
    "colab": {
     "base_uri": "https://localhost:8080/"
    },
    "id": "Otx4r3-Kd0Ms",
    "outputId": "ef28add6-782d-4d8e-f9dd-59b050e7f668"
   },
   "outputs": [
    {
     "name": "stdout",
     "output_type": "stream",
     "text": [
      "Requirement already satisfied: h5py in /system/conda/miniconda3/envs/cloudspace/lib/python3.10/site-packages (3.11.0)\n",
      "Collecting scikit-optimize\n",
      "  Downloading scikit_optimize-0.10.1-py2.py3-none-any.whl.metadata (9.7 kB)\n",
      "Requirement already satisfied: numpy>=1.17.3 in /system/conda/miniconda3/envs/cloudspace/lib/python3.10/site-packages (from h5py) (1.26.2)\n",
      "Requirement already satisfied: joblib>=0.11 in /system/conda/miniconda3/envs/cloudspace/lib/python3.10/site-packages (from scikit-optimize) (1.4.0)\n",
      "Collecting pyaml>=16.9 (from scikit-optimize)\n",
      "  Downloading pyaml-23.12.0-py3-none-any.whl.metadata (11 kB)\n",
      "Requirement already satisfied: scipy>=1.1.0 in /system/conda/miniconda3/envs/cloudspace/lib/python3.10/site-packages (from scikit-optimize) (1.11.4)\n",
      "Requirement already satisfied: scikit-learn>=1.0.0 in /system/conda/miniconda3/envs/cloudspace/lib/python3.10/site-packages (from scikit-optimize) (1.3.2)\n",
      "Requirement already satisfied: packaging>=21.3 in /system/conda/miniconda3/envs/cloudspace/lib/python3.10/site-packages (from scikit-optimize) (24.0)\n",
      "Requirement already satisfied: PyYAML in /system/conda/miniconda3/envs/cloudspace/lib/python3.10/site-packages (from pyaml>=16.9->scikit-optimize) (6.0.1)\n",
      "Requirement already satisfied: threadpoolctl>=2.0.0 in /system/conda/miniconda3/envs/cloudspace/lib/python3.10/site-packages (from scikit-learn>=1.0.0->scikit-optimize) (3.4.0)\n",
      "Downloading scikit_optimize-0.10.1-py2.py3-none-any.whl (107 kB)\n",
      "\u001b[2K   \u001b[90m━━━━━━━━━━━━━━━━━━━━━━━━━━━━━━━━━━━━━━━━\u001b[0m \u001b[32m107.7/107.7 kB\u001b[0m \u001b[31m10.7 MB/s\u001b[0m eta \u001b[36m0:00:00\u001b[0m\n",
      "\u001b[?25hDownloading pyaml-23.12.0-py3-none-any.whl (23 kB)\n",
      "Installing collected packages: pyaml, scikit-optimize\n",
      "Successfully installed pyaml-23.12.0 scikit-optimize-0.10.1\n",
      "Note: you may need to restart the kernel to use updated packages.\n"
     ]
    }
   ],
   "source": [
    "pip install h5py scikit-optimize"
   ]
  },
  {
   "cell_type": "code",
   "execution_count": 43,
   "metadata": {
    "id": "pFOrGl-Nd3Lh"
   },
   "outputs": [],
   "source": [
    "import skopt\n",
    "from skopt import gp_minimize, forest_minimize\n",
    "from skopt.space import Real, Categorical, Integer\n",
    "from skopt.plots import plot_convergence\n",
    "from skopt.plots import plot_objective, plot_evaluations\n",
    "from skopt.plots import plot_histogram, plot_objective_2D\n",
    "from skopt.utils import use_named_args"
   ]
  },
  {
   "cell_type": "code",
   "execution_count": 44,
   "metadata": {
    "id": "erxJQhTsd8B3"
   },
   "outputs": [],
   "source": [
    "# Search dimension for learning rate\n",
    "dim_learning_rate = Real(low=1e-6, high=1e-2, prior='log-uniform',\n",
    "                         name='learning_rate')"
   ]
  },
  {
   "cell_type": "code",
   "execution_count": 45,
   "metadata": {
    "id": "PzMYB0iHePuH"
   },
   "outputs": [],
   "source": [
    "# Search dimension for embedding\n",
    "dim_embeddings_size = Integer(low = 8, high = 300, name = 'embeddings_size')"
   ]
  },
  {
   "cell_type": "code",
   "execution_count": 46,
   "metadata": {
    "id": "ddESESK0ew-n"
   },
   "outputs": [],
   "source": [
    "# Search dimension for GRU1 units\n",
    "dim_GRU1_units = Integer(low =16, high = 64, name = 'num_GRU1_units' )"
   ]
  },
  {
   "cell_type": "code",
   "execution_count": 47,
   "metadata": {
    "id": "-2S8aykrgLL6"
   },
   "outputs": [],
   "source": [
    "# Search dimension for GRU2 units\n",
    "dim_GRU2_units = Integer(low =8, high = 64, name = 'num_GRU2_units' )"
   ]
  },
  {
   "cell_type": "code",
   "execution_count": 48,
   "metadata": {
    "id": "nZBajJCtgQsU"
   },
   "outputs": [],
   "source": [
    "# Search dimension for GRU3 units\n",
    "dim_GRU3_units = Integer(low =4, high = 64, name = 'num_GRU3_units' )"
   ]
  },
  {
   "cell_type": "code",
   "execution_count": 49,
   "metadata": {
    "id": "v1cvtQJTgTmk"
   },
   "outputs": [],
   "source": [
    "dimensions = [dim_learning_rate,\n",
    "              dim_embeddings_size,\n",
    "              dim_GRU1_units,\n",
    "              dim_GRU2_units,\n",
    "              dim_GRU3_units]"
   ]
  },
  {
   "cell_type": "code",
   "execution_count": 50,
   "metadata": {
    "id": "vTb-ZC8xgl8c"
   },
   "outputs": [],
   "source": [
    "default_parameters = [1e-3, 8, 16, 8, 4]"
   ]
  },
  {
   "cell_type": "markdown",
   "metadata": {
    "id": "E-cqOk0Cg4qU"
   },
   "source": [
    "**Helper-function for log-dir-name**"
   ]
  },
  {
   "cell_type": "code",
   "execution_count": 51,
   "metadata": {
    "id": "IIHGi58Vg1yN"
   },
   "outputs": [],
   "source": [
    "def log_dir_name(learning_rate, embeddings_size,\n",
    "                 num_GRU1_units, num_GRU2_units, num_GRU3_units):\n",
    "\n",
    "    # The dir-name for the TensorBoard log-dir.\n",
    "    s = \"./logs/lr_{0:.0e}_embeddins_size_{1}_GRU1_{2}_GRU2_{3}_GRU3_{4}/\"\n",
    "\n",
    "    # Insert all the hyper-parameters in the dir-name.\n",
    "    log_dir = s.format(learning_rate,\n",
    "                       embeddings_size,\n",
    "                       num_GRU1_units,\n",
    "                       num_GRU2_units,\n",
    "                       num_GRU3_units)\n",
    "\n",
    "    return log_dir"
   ]
  },
  {
   "cell_type": "code",
   "execution_count": 52,
   "metadata": {
    "id": "0R7n0ZfIh8Ob"
   },
   "outputs": [],
   "source": [
    "def create_model(learning_rate, embeddings_size, num_GRU1_units, num_GRU2_units, num_GRU3_units):\n",
    "\n",
    "  model = Sequential()\n",
    "  model.add(Embedding(input_dim = num_words, output_dim = embeddings_size, input_length = max_tokens, name = 'layer_embedding'))\n",
    "  model.add(GRU(units = num_GRU1_units, return_sequences = True))\n",
    "  model.add(Dropout(rate=0.5))  # Add dropout after the first GRU layer\n",
    "  model.add(GRU(units = num_GRU2_units, return_sequences = True))\n",
    "  model.add(Dropout(rate=0.5))  # Add dropout after the second GRU layer\n",
    "  model.add(GRU(units = num_GRU3_units))\n",
    "  model.add(Dense(1, activation = 'sigmoid'))\n",
    "  optimizer = Adam(learning_rate = learning_rate)\n",
    "\n",
    "  model.compile(loss = 'binary_crossentropy',\n",
    "              optimizer = optimizer,\n",
    "              metrics = ['accuracy'])\n",
    "\n",
    "  return model"
   ]
  },
  {
   "cell_type": "markdown",
   "metadata": {
    "id": "wt3Ete9fjH1a"
   },
   "source": [
    "**Train & Evaluate Model**"
   ]
  },
  {
   "cell_type": "code",
   "execution_count": 53,
   "metadata": {
    "id": "7jIATSZyjGxP"
   },
   "outputs": [],
   "source": [
    "path_best_model = 'best_model.h5'"
   ]
  },
  {
   "cell_type": "code",
   "execution_count": 54,
   "metadata": {
    "id": "U9PGz_l8jP1i"
   },
   "outputs": [],
   "source": [
    "best_accuracy = 0.0"
   ]
  },
  {
   "cell_type": "code",
   "execution_count": 55,
   "metadata": {
    "colab": {
     "base_uri": "https://localhost:8080/"
    },
    "id": "rCiEEB9sphWj",
    "outputId": "b5329a97-d5dc-441a-af85-2b9cdbc2c27d"
   },
   "outputs": [
    {
     "data": {
      "text/plain": [
       "[Real(low=1e-06, high=0.01, prior='log-uniform', transform='identity'),\n",
       " Integer(low=8, high=300, prior='uniform', transform='identity'),\n",
       " Integer(low=16, high=64, prior='uniform', transform='identity'),\n",
       " Integer(low=8, high=64, prior='uniform', transform='identity'),\n",
       " Integer(low=4, high=64, prior='uniform', transform='identity')]"
      ]
     },
     "execution_count": 55,
     "metadata": {},
     "output_type": "execute_result"
    }
   ],
   "source": [
    "dimensions"
   ]
  },
  {
   "cell_type": "code",
   "execution_count": 58,
   "metadata": {
    "id": "FLVoQno8jSUC"
   },
   "outputs": [],
   "source": [
    "@use_named_args(dimensions=dimensions)\n",
    "def fitness(learning_rate, embeddings_size, num_GRU1_units, num_GRU2_units, num_GRU3_units):\n",
    "\n",
    "  # Print the hyper-parameters.\n",
    "    print('learning rate: {0:.1e}'.format(learning_rate))\n",
    "    print('embeddings_size:', embeddings_size)\n",
    "    print('num_GRU1_units:', num_GRU1_units)\n",
    "    print('num_GRU2_units:', num_GRU2_units)\n",
    "    print('num_GRU3_units:', num_GRU3_units)\n",
    "\n",
    "    print()\n",
    "\n",
    "    # Create the neural network with these hyper-parameters.\n",
    "    model = create_model(learning_rate, embeddings_size, num_GRU1_units, num_GRU2_units, num_GRU3_units)\n",
    "\n",
    "    # Dir-name for the TensorBoard log-files.\n",
    "    log_dir = log_dir_name(learning_rate, embeddings_size,\n",
    "                 num_GRU1_units, num_GRU2_units, num_GRU3_units)\n",
    "\n",
    "    callback_log = TensorBoard(\n",
    "        log_dir=log_dir,\n",
    "        histogram_freq=0,\n",
    "        write_graph=True,\n",
    "        write_grads=False,\n",
    "        write_images=False)\n",
    "\n",
    "    # Define early stopping callback\n",
    "    #early_stopping = EarlyStopping(monitor='val_accuracy', patience=3, restore_best_weights=True)\n",
    "\n",
    "    # Use Keras to train the model.\n",
    "    history = model.fit(x= x_train_pad,\n",
    "                        y= y_train,\n",
    "                        epochs=3,\n",
    "                        batch_size=64,\n",
    "                        validation_split = 0.05,\n",
    "                        callbacks=[callback_log])\n",
    "\n",
    "    # Get the classification accuracy on the validation-set\n",
    "    # after the last training-epoch.\n",
    "    accuracy = history.history['val_accuracy'][-1]\n",
    "\n",
    "    # Print the classification accuracy.\n",
    "    print()\n",
    "    print(\"Accuracy: {0:.2%}\".format(accuracy))\n",
    "    print()\n",
    "\n",
    "    # Save the model if it improves on the best-found performance.\n",
    "    # We use the global keyword so we update the variable outside\n",
    "    # of this function.\n",
    "    global best_accuracy\n",
    "\n",
    "    # If the classification accuracy of the saved model is improved ...\n",
    "    if accuracy > best_accuracy:\n",
    "        # Save the new model to harddisk.\n",
    "        model.save(path_best_model)\n",
    "\n",
    "        # Update the classification accuracy.\n",
    "        best_accuracy = accuracy\n",
    "\n",
    "    # Delete the Keras model with these hyper-parameters from memory.\n",
    "    del model\n",
    "\n",
    "    K.clear_session()\n",
    "\n",
    "    return -accuracy"
   ]
  },
  {
   "cell_type": "markdown",
   "metadata": {
    "id": "eDjl9Qe3mLJF"
   },
   "source": [
    "**Run Hyper-Parameter Optimization**"
   ]
  },
  {
   "cell_type": "code",
   "execution_count": 59,
   "metadata": {
    "colab": {
     "base_uri": "https://localhost:8080/"
    },
    "id": "sPHe2IbEmHQH",
    "outputId": "891cd739-7b87-421b-fb43-c5dd567e7c66"
   },
   "outputs": [
    {
     "name": "stdout",
     "output_type": "stream",
     "text": [
      "learning rate: 1.0e-03\n",
      "embeddings_size: 8\n",
      "num_GRU1_units: 16\n",
      "num_GRU2_units: 8\n",
      "num_GRU3_units: 4\n",
      "\n",
      "Epoch 1/3\n",
      "372/372 [==============================] - 53s 132ms/step - loss: 0.5672 - accuracy: 0.6926 - val_loss: 0.5470 - val_accuracy: 0.7632\n",
      "Epoch 2/3\n",
      "372/372 [==============================] - 32s 85ms/step - loss: 0.3776 - accuracy: 0.8530 - val_loss: 0.3312 - val_accuracy: 0.8728\n",
      "Epoch 3/3\n",
      "372/372 [==============================] - 24s 64ms/step - loss: 0.2863 - accuracy: 0.8961 - val_loss: 0.5693 - val_accuracy: 0.7520\n",
      "\n",
      "Accuracy: 75.20%\n",
      "\n",
      "learning rate: 7.2e-06\n",
      "embeddings_size: 35\n",
      "num_GRU1_units: 48\n",
      "num_GRU2_units: 51\n",
      "num_GRU3_units: 27\n",
      "\n"
     ]
    },
    {
     "name": "stderr",
     "output_type": "stream",
     "text": [
      "/home/zeus/miniconda3/envs/cloudspace/lib/python3.10/site-packages/keras/src/engine/training.py:3103: UserWarning: You are saving your model as an HDF5 file via `model.save()`. This file format is considered legacy. We recommend using instead the native Keras format, e.g. `model.save('my_model.keras')`.\n",
      "  saving_api.save_model(\n"
     ]
    },
    {
     "name": "stdout",
     "output_type": "stream",
     "text": [
      "Epoch 1/3\n",
      "372/372 [==============================] - 61s 153ms/step - loss: 0.6928 - accuracy: 0.5218 - val_loss: 0.7042 - val_accuracy: 0.0000e+00\n",
      "Epoch 2/3\n",
      "372/372 [==============================] - 37s 99ms/step - loss: 0.6922 - accuracy: 0.5265 - val_loss: 0.7137 - val_accuracy: 0.0000e+00\n",
      "Epoch 3/3\n",
      "372/372 [==============================] - 28s 75ms/step - loss: 0.6917 - accuracy: 0.5264 - val_loss: 0.7225 - val_accuracy: 0.0000e+00\n",
      "\n",
      "Accuracy: 0.00%\n",
      "\n",
      "learning rate: 5.8e-03\n",
      "embeddings_size: 16\n",
      "num_GRU1_units: 21\n",
      "num_GRU2_units: 57\n",
      "num_GRU3_units: 41\n",
      "\n",
      "Epoch 1/3\n",
      "372/372 [==============================] - 56s 141ms/step - loss: 0.4345 - accuracy: 0.7953 - val_loss: 0.7815 - val_accuracy: 0.6560\n",
      "Epoch 2/3\n",
      "372/372 [==============================] - 36s 97ms/step - loss: 0.2149 - accuracy: 0.9178 - val_loss: 0.2994 - val_accuracy: 0.8688\n",
      "Epoch 3/3\n",
      "372/372 [==============================] - 27s 72ms/step - loss: 0.1261 - accuracy: 0.9579 - val_loss: 0.2643 - val_accuracy: 0.8976\n",
      "\n",
      "Accuracy: 89.76%\n",
      "\n",
      "learning rate: 1.5e-05\n",
      "embeddings_size: 191\n",
      "num_GRU1_units: 55\n",
      "num_GRU2_units: 29\n",
      "num_GRU3_units: 42\n",
      "\n",
      "Epoch 1/3\n",
      "372/372 [==============================] - 60s 150ms/step - loss: 0.6924 - accuracy: 0.5200 - val_loss: 0.7148 - val_accuracy: 0.0000e+00\n",
      "Epoch 2/3\n",
      "372/372 [==============================] - 36s 98ms/step - loss: 0.6907 - accuracy: 0.5264 - val_loss: 0.7309 - val_accuracy: 0.0000e+00\n",
      "Epoch 3/3\n",
      "372/372 [==============================] - 28s 74ms/step - loss: 0.6871 - accuracy: 0.5281 - val_loss: 0.7412 - val_accuracy: 0.0088\n",
      "\n",
      "Accuracy: 0.88%\n",
      "\n",
      "learning rate: 1.0e-05\n",
      "embeddings_size: 167\n",
      "num_GRU1_units: 56\n",
      "num_GRU2_units: 23\n",
      "num_GRU3_units: 10\n",
      "\n",
      "Epoch 1/3\n",
      "372/372 [==============================] - 59s 150ms/step - loss: 0.6921 - accuracy: 0.5288 - val_loss: 0.7110 - val_accuracy: 0.0064\n",
      "Epoch 2/3\n",
      "372/372 [==============================] - 35s 95ms/step - loss: 0.6906 - accuracy: 0.5330 - val_loss: 0.7222 - val_accuracy: 0.0000e+00\n",
      "Epoch 3/3\n",
      "372/372 [==============================] - 27s 71ms/step - loss: 0.6892 - accuracy: 0.5301 - val_loss: 0.7302 - val_accuracy: 0.0000e+00\n",
      "\n",
      "Accuracy: 0.00%\n",
      "\n",
      "learning rate: 3.9e-06\n",
      "embeddings_size: 279\n",
      "num_GRU1_units: 26\n",
      "num_GRU2_units: 51\n",
      "num_GRU3_units: 15\n",
      "\n",
      "Epoch 1/3\n",
      "372/372 [==============================] - 59s 146ms/step - loss: 0.6928 - accuracy: 0.5189 - val_loss: 0.6986 - val_accuracy: 0.1480\n",
      "Epoch 2/3\n",
      "372/372 [==============================] - 35s 94ms/step - loss: 0.6921 - accuracy: 0.5308 - val_loss: 0.7038 - val_accuracy: 0.0336\n",
      "Epoch 3/3\n",
      "372/372 [==============================] - 29s 79ms/step - loss: 0.6915 - accuracy: 0.5319 - val_loss: 0.7084 - val_accuracy: 0.0104\n",
      "\n",
      "Accuracy: 1.04%\n",
      "\n",
      "learning rate: 5.0e-06\n",
      "embeddings_size: 40\n",
      "num_GRU1_units: 18\n",
      "num_GRU2_units: 45\n",
      "num_GRU3_units: 41\n",
      "\n",
      "Epoch 1/3\n",
      "372/372 [==============================] - 59s 149ms/step - loss: 0.6930 - accuracy: 0.5186 - val_loss: 0.7000 - val_accuracy: 8.0000e-04\n",
      "Epoch 2/3\n",
      "372/372 [==============================] - 38s 103ms/step - loss: 0.6926 - accuracy: 0.5258 - val_loss: 0.7063 - val_accuracy: 0.0000e+00\n",
      "Epoch 3/3\n",
      "372/372 [==============================] - 27s 73ms/step - loss: 0.6923 - accuracy: 0.5262 - val_loss: 0.7121 - val_accuracy: 0.0000e+00\n",
      "\n",
      "Accuracy: 0.00%\n",
      "\n",
      "learning rate: 1.2e-03\n",
      "embeddings_size: 12\n",
      "num_GRU1_units: 45\n",
      "num_GRU2_units: 44\n",
      "num_GRU3_units: 35\n",
      "\n",
      "Epoch 1/3\n",
      "372/372 [==============================] - 59s 148ms/step - loss: 0.4788 - accuracy: 0.7534 - val_loss: 0.3548 - val_accuracy: 0.8568\n",
      "Epoch 2/3\n",
      "372/372 [==============================] - 34s 92ms/step - loss: 0.2565 - accuracy: 0.8990 - val_loss: 0.4855 - val_accuracy: 0.7840\n",
      "Epoch 3/3\n",
      "372/372 [==============================] - 24s 65ms/step - loss: 0.1927 - accuracy: 0.9290 - val_loss: 0.2967 - val_accuracy: 0.8792\n",
      "\n",
      "Accuracy: 87.92%\n",
      "\n",
      "learning rate: 7.1e-04\n",
      "embeddings_size: 192\n",
      "num_GRU1_units: 27\n",
      "num_GRU2_units: 13\n",
      "num_GRU3_units: 47\n",
      "\n",
      "Epoch 1/3\n",
      "372/372 [==============================] - 58s 147ms/step - loss: 0.4627 - accuracy: 0.7691 - val_loss: 0.4732 - val_accuracy: 0.8040\n",
      "Epoch 2/3\n",
      "372/372 [==============================] - 34s 90ms/step - loss: 0.2908 - accuracy: 0.8849 - val_loss: 0.5128 - val_accuracy: 0.7664\n",
      "Epoch 3/3\n",
      "372/372 [==============================] - 27s 74ms/step - loss: 0.2344 - accuracy: 0.9102 - val_loss: 0.6431 - val_accuracy: 0.7240\n",
      "\n",
      "Accuracy: 72.40%\n",
      "\n",
      "learning rate: 2.6e-03\n",
      "embeddings_size: 234\n",
      "num_GRU1_units: 29\n",
      "num_GRU2_units: 47\n",
      "num_GRU3_units: 21\n",
      "\n",
      "Epoch 1/3\n",
      "372/372 [==============================] - 60s 152ms/step - loss: 0.4608 - accuracy: 0.7843 - val_loss: 0.5660 - val_accuracy: 0.7624\n",
      "Epoch 2/3\n",
      "372/372 [==============================] - 35s 95ms/step - loss: 0.2936 - accuracy: 0.8855 - val_loss: 0.3443 - val_accuracy: 0.8696\n",
      "Epoch 3/3\n",
      "372/372 [==============================] - 28s 75ms/step - loss: 0.1858 - accuracy: 0.9328 - val_loss: 0.2804 - val_accuracy: 0.9024\n",
      "\n",
      "Accuracy: 90.24%\n",
      "\n",
      "learning rate: 9.0e-05\n",
      "embeddings_size: 234\n",
      "num_GRU1_units: 41\n",
      "num_GRU2_units: 50\n",
      "num_GRU3_units: 9\n",
      "\n",
      "Epoch 1/3\n",
      "372/372 [==============================] - 46s 112ms/step - loss: 0.6641 - accuracy: 0.5823 - val_loss: 0.4980 - val_accuracy: 0.7944\n",
      "Epoch 2/3\n",
      "372/372 [==============================] - 31s 82ms/step - loss: 0.4147 - accuracy: 0.8207 - val_loss: 0.5382 - val_accuracy: 0.8016\n",
      "Epoch 3/3\n",
      "372/372 [==============================] - 24s 65ms/step - loss: 0.3231 - accuracy: 0.8737 - val_loss: 0.6125 - val_accuracy: 0.7600\n",
      "\n",
      "Accuracy: 76.00%\n",
      "\n",
      "learning rate: 1.7e-03\n",
      "embeddings_size: 8\n",
      "num_GRU1_units: 63\n",
      "num_GRU2_units: 64\n",
      "num_GRU3_units: 4\n",
      "\n",
      "Epoch 1/3\n",
      "372/372 [==============================] - 46s 113ms/step - loss: 0.4871 - accuracy: 0.7613 - val_loss: 0.3906 - val_accuracy: 0.8352\n",
      "Epoch 2/3\n",
      "372/372 [==============================] - 29s 78ms/step - loss: 0.2931 - accuracy: 0.8917 - val_loss: 0.5337 - val_accuracy: 0.7624\n",
      "Epoch 3/3\n",
      "372/372 [==============================] - 25s 66ms/step - loss: 0.2417 - accuracy: 0.9113 - val_loss: 0.5362 - val_accuracy: 0.8032\n",
      "\n",
      "Accuracy: 80.32%\n",
      "\n",
      "learning rate: 8.6e-03\n",
      "embeddings_size: 8\n",
      "num_GRU1_units: 16\n",
      "num_GRU2_units: 18\n",
      "num_GRU3_units: 47\n",
      "\n",
      "Epoch 1/3\n",
      "372/372 [==============================] - 42s 102ms/step - loss: 0.4633 - accuracy: 0.7718 - val_loss: 0.2817 - val_accuracy: 0.8856\n",
      "Epoch 2/3\n",
      "372/372 [==============================] - 27s 71ms/step - loss: 0.2402 - accuracy: 0.9064 - val_loss: 0.2784 - val_accuracy: 0.8800\n",
      "Epoch 3/3\n",
      "372/372 [==============================] - 22s 59ms/step - loss: 0.1537 - accuracy: 0.9463 - val_loss: 0.7110 - val_accuracy: 0.7672\n",
      "\n",
      "Accuracy: 76.72%\n",
      "\n",
      "learning rate: 2.4e-04\n",
      "embeddings_size: 8\n",
      "num_GRU1_units: 16\n",
      "num_GRU2_units: 64\n",
      "num_GRU3_units: 4\n",
      "\n",
      "Epoch 1/3\n",
      "372/372 [==============================] - 42s 103ms/step - loss: 0.6288 - accuracy: 0.6111 - val_loss: 0.4107 - val_accuracy: 0.8360\n",
      "Epoch 2/3\n",
      "372/372 [==============================] - 26s 70ms/step - loss: 0.3331 - accuracy: 0.8607 - val_loss: 0.4718 - val_accuracy: 0.7904\n",
      "Epoch 3/3\n",
      "372/372 [==============================] - 21s 57ms/step - loss: 0.2528 - accuracy: 0.9023 - val_loss: 0.4916 - val_accuracy: 0.8016\n",
      "\n",
      "Accuracy: 80.16%\n",
      "\n",
      "learning rate: 2.6e-03\n",
      "embeddings_size: 8\n",
      "num_GRU1_units: 64\n",
      "num_GRU2_units: 31\n",
      "num_GRU3_units: 64\n",
      "\n",
      "Epoch 1/3\n",
      "372/372 [==============================] - 43s 103ms/step - loss: 0.4846 - accuracy: 0.7545 - val_loss: 1.2445 - val_accuracy: 0.5160\n",
      "Epoch 2/3\n",
      "372/372 [==============================] - 27s 73ms/step - loss: 0.4741 - accuracy: 0.7871 - val_loss: 0.3211 - val_accuracy: 0.9224\n",
      "Epoch 3/3\n",
      "372/372 [==============================] - 23s 61ms/step - loss: 0.3336 - accuracy: 0.8605 - val_loss: 0.5751 - val_accuracy: 0.7456\n",
      "\n",
      "Accuracy: 74.56%\n",
      "\n",
      "learning rate: 2.8e-03\n",
      "embeddings_size: 8\n",
      "num_GRU1_units: 16\n",
      "num_GRU2_units: 64\n",
      "num_GRU3_units: 64\n",
      "\n",
      "Epoch 1/3\n",
      "372/372 [==============================] - 41s 100ms/step - loss: 0.4356 - accuracy: 0.7816 - val_loss: 0.4066 - val_accuracy: 0.8200\n",
      "Epoch 2/3\n",
      "372/372 [==============================] - 26s 70ms/step - loss: 0.2280 - accuracy: 0.9104 - val_loss: 0.4069 - val_accuracy: 0.8328\n",
      "Epoch 3/3\n",
      "372/372 [==============================] - 23s 62ms/step - loss: 0.1779 - accuracy: 0.9323 - val_loss: 0.5491 - val_accuracy: 0.7984\n",
      "\n",
      "Accuracy: 79.84%\n",
      "\n",
      "learning rate: 1.0e-02\n",
      "embeddings_size: 300\n",
      "num_GRU1_units: 16\n",
      "num_GRU2_units: 48\n",
      "num_GRU3_units: 4\n",
      "\n",
      "Epoch 1/3\n",
      "372/372 [==============================] - 59s 147ms/step - loss: 0.4305 - accuracy: 0.8001 - val_loss: 0.3727 - val_accuracy: 0.8304\n",
      "Epoch 2/3\n",
      "372/372 [==============================] - 34s 92ms/step - loss: 0.2288 - accuracy: 0.9122 - val_loss: 0.2666 - val_accuracy: 0.8896\n",
      "Epoch 3/3\n",
      "372/372 [==============================] - 25s 68ms/step - loss: 0.1864 - accuracy: 0.9277 - val_loss: 0.5010 - val_accuracy: 0.8128\n",
      "\n",
      "Accuracy: 81.28%\n",
      "\n",
      "learning rate: 5.3e-03\n",
      "embeddings_size: 300\n",
      "num_GRU1_units: 46\n",
      "num_GRU2_units: 64\n",
      "num_GRU3_units: 4\n",
      "\n",
      "Epoch 1/3\n",
      "372/372 [==============================] - 46s 114ms/step - loss: 0.4709 - accuracy: 0.7787 - val_loss: 0.4463 - val_accuracy: 0.8256\n",
      "Epoch 2/3\n",
      "372/372 [==============================] - 30s 81ms/step - loss: 0.2403 - accuracy: 0.9092 - val_loss: 0.3983 - val_accuracy: 0.8528\n",
      "Epoch 3/3\n",
      "372/372 [==============================] - 25s 67ms/step - loss: 0.1582 - accuracy: 0.9445 - val_loss: 0.2772 - val_accuracy: 0.9000\n",
      "\n",
      "Accuracy: 90.00%\n",
      "\n",
      "learning rate: 4.8e-03\n",
      "embeddings_size: 300\n",
      "num_GRU1_units: 16\n",
      "num_GRU2_units: 64\n",
      "num_GRU3_units: 4\n",
      "\n",
      "Epoch 1/3\n",
      "372/372 [==============================] - 44s 107ms/step - loss: 0.4731 - accuracy: 0.7746 - val_loss: 0.1668 - val_accuracy: 0.9424\n",
      "Epoch 2/3\n",
      "372/372 [==============================] - 29s 77ms/step - loss: 0.2391 - accuracy: 0.9085 - val_loss: 0.1646 - val_accuracy: 0.9472\n",
      "Epoch 3/3\n",
      "372/372 [==============================] - 22s 60ms/step - loss: 0.1569 - accuracy: 0.9446 - val_loss: 0.6482 - val_accuracy: 0.7528\n",
      "\n",
      "Accuracy: 75.28%\n",
      "\n",
      "learning rate: 2.0e-04\n",
      "embeddings_size: 71\n",
      "num_GRU1_units: 48\n",
      "num_GRU2_units: 8\n",
      "num_GRU3_units: 9\n",
      "\n",
      "Epoch 1/3\n",
      "372/372 [==============================] - 59s 149ms/step - loss: 0.6458 - accuracy: 0.5963 - val_loss: 0.8265 - val_accuracy: 0.6792\n",
      "Epoch 2/3\n",
      "372/372 [==============================] - 36s 96ms/step - loss: 0.4191 - accuracy: 0.8143 - val_loss: 0.5475 - val_accuracy: 0.8152\n",
      "Epoch 3/3\n",
      "372/372 [==============================] - 26s 71ms/step - loss: 0.3047 - accuracy: 0.8854 - val_loss: 0.4432 - val_accuracy: 0.8352\n",
      "\n",
      "Accuracy: 83.52%\n",
      "\n",
      "learning rate: 2.8e-04\n",
      "embeddings_size: 297\n",
      "num_GRU1_units: 48\n",
      "num_GRU2_units: 64\n",
      "num_GRU3_units: 62\n",
      "\n",
      "Epoch 1/3\n",
      "372/372 [==============================] - 61s 152ms/step - loss: 0.4798 - accuracy: 0.7479 - val_loss: 0.5290 - val_accuracy: 0.7664\n",
      "Epoch 2/3\n",
      "372/372 [==============================] - 38s 102ms/step - loss: 0.2428 - accuracy: 0.9021 - val_loss: 0.3808 - val_accuracy: 0.8568\n",
      "Epoch 3/3\n",
      "372/372 [==============================] - 31s 84ms/step - loss: 0.1900 - accuracy: 0.9280 - val_loss: 0.3003 - val_accuracy: 0.8872\n",
      "\n",
      "Accuracy: 88.72%\n",
      "\n",
      "learning rate: 3.4e-04\n",
      "embeddings_size: 300\n",
      "num_GRU1_units: 64\n",
      "num_GRU2_units: 64\n",
      "num_GRU3_units: 64\n",
      "\n",
      "Epoch 1/3\n",
      "372/372 [==============================] - 46s 113ms/step - loss: 0.4679 - accuracy: 0.7589 - val_loss: 0.3940 - val_accuracy: 0.8256\n",
      "Epoch 2/3\n",
      "372/372 [==============================] - 31s 83ms/step - loss: 0.2468 - accuracy: 0.9035 - val_loss: 0.2500 - val_accuracy: 0.9008\n",
      "Epoch 3/3\n",
      "372/372 [==============================] - 27s 72ms/step - loss: 0.1923 - accuracy: 0.9268 - val_loss: 0.6751 - val_accuracy: 0.7632\n",
      "\n",
      "Accuracy: 76.32%\n",
      "\n",
      "learning rate: 1.0e-02\n",
      "embeddings_size: 218\n",
      "num_GRU1_units: 63\n",
      "num_GRU2_units: 18\n",
      "num_GRU3_units: 14\n",
      "\n",
      "Epoch 1/3\n",
      "372/372 [==============================] - 59s 150ms/step - loss: 0.4113 - accuracy: 0.8070 - val_loss: 0.4733 - val_accuracy: 0.7936\n",
      "Epoch 2/3\n",
      "372/372 [==============================] - 37s 98ms/step - loss: 0.2193 - accuracy: 0.9152 - val_loss: 0.4344 - val_accuracy: 0.8128\n",
      "Epoch 3/3\n",
      "372/372 [==============================] - 28s 74ms/step - loss: 0.1714 - accuracy: 0.9361 - val_loss: 0.5692 - val_accuracy: 0.7432\n",
      "\n",
      "Accuracy: 74.32%\n",
      "\n",
      "learning rate: 1.6e-04\n",
      "embeddings_size: 54\n",
      "num_GRU1_units: 60\n",
      "num_GRU2_units: 64\n",
      "num_GRU3_units: 64\n",
      "\n",
      "Epoch 1/3\n",
      "372/372 [==============================] - 62s 157ms/step - loss: 0.5729 - accuracy: 0.6628 - val_loss: 0.6054 - val_accuracy: 0.7128\n",
      "Epoch 2/3\n",
      "372/372 [==============================] - 40s 107ms/step - loss: 0.2798 - accuracy: 0.8843 - val_loss: 0.3588 - val_accuracy: 0.8408\n",
      "Epoch 3/3\n",
      "372/372 [==============================] - 33s 88ms/step - loss: 0.2019 - accuracy: 0.9223 - val_loss: 0.4751 - val_accuracy: 0.7920\n",
      "\n",
      "Accuracy: 79.20%\n",
      "\n",
      "learning rate: 4.1e-03\n",
      "embeddings_size: 237\n",
      "num_GRU1_units: 39\n",
      "num_GRU2_units: 8\n",
      "num_GRU3_units: 18\n",
      "\n",
      "Epoch 1/3\n",
      "372/372 [==============================] - 58s 146ms/step - loss: 0.5043 - accuracy: 0.7253 - val_loss: 0.5167 - val_accuracy: 0.7776\n",
      "Epoch 2/3\n",
      "372/372 [==============================] - 35s 94ms/step - loss: 0.2214 - accuracy: 0.9152 - val_loss: 0.2423 - val_accuracy: 0.8872\n",
      "Epoch 3/3\n",
      "372/372 [==============================] - 27s 73ms/step - loss: 0.1328 - accuracy: 0.9528 - val_loss: 0.3006 - val_accuracy: 0.8864\n",
      "\n",
      "Accuracy: 88.64%\n",
      "\n",
      "learning rate: 4.2e-03\n",
      "embeddings_size: 285\n",
      "num_GRU1_units: 53\n",
      "num_GRU2_units: 13\n",
      "num_GRU3_units: 8\n",
      "\n",
      "Epoch 1/3\n",
      "372/372 [==============================] - 60s 152ms/step - loss: 0.5541 - accuracy: 0.7205 - val_loss: 0.2374 - val_accuracy: 0.9136\n",
      "Epoch 2/3\n",
      "372/372 [==============================] - 36s 97ms/step - loss: 0.2664 - accuracy: 0.8963 - val_loss: 0.2885 - val_accuracy: 0.8872\n",
      "Epoch 3/3\n",
      "372/372 [==============================] - 26s 71ms/step - loss: 0.1670 - accuracy: 0.9406 - val_loss: 0.4138 - val_accuracy: 0.8392\n",
      "\n",
      "Accuracy: 83.92%\n",
      "\n",
      "learning rate: 1.0e-06\n",
      "embeddings_size: 36\n",
      "num_GRU1_units: 29\n",
      "num_GRU2_units: 13\n",
      "num_GRU3_units: 59\n",
      "\n",
      "Epoch 1/3\n",
      "372/372 [==============================] - 61s 154ms/step - loss: 0.6931 - accuracy: 0.5072 - val_loss: 0.6951 - val_accuracy: 0.1760\n",
      "Epoch 2/3\n",
      "372/372 [==============================] - 39s 104ms/step - loss: 0.6930 - accuracy: 0.5189 - val_loss: 0.6966 - val_accuracy: 0.0536\n",
      "Epoch 3/3\n",
      "372/372 [==============================] - 28s 75ms/step - loss: 0.6929 - accuracy: 0.5257 - val_loss: 0.6983 - val_accuracy: 0.0088\n",
      "\n",
      "Accuracy: 0.88%\n",
      "\n",
      "learning rate: 3.8e-03\n",
      "embeddings_size: 8\n",
      "num_GRU1_units: 38\n",
      "num_GRU2_units: 64\n",
      "num_GRU3_units: 4\n",
      "\n",
      "Epoch 1/3\n",
      "372/372 [==============================] - 41s 99ms/step - loss: 0.5872 - accuracy: 0.6658 - val_loss: 0.7052 - val_accuracy: 0.6496\n",
      "Epoch 2/3\n",
      "372/372 [==============================] - 28s 74ms/step - loss: 0.2841 - accuracy: 0.8889 - val_loss: 0.2778 - val_accuracy: 0.8976\n",
      "Epoch 3/3\n",
      "372/372 [==============================] - 22s 60ms/step - loss: 0.2013 - accuracy: 0.9267 - val_loss: 0.3670 - val_accuracy: 0.8512\n",
      "\n",
      "Accuracy: 85.12%\n",
      "\n",
      "learning rate: 1.6e-04\n",
      "embeddings_size: 245\n",
      "num_GRU1_units: 17\n",
      "num_GRU2_units: 16\n",
      "num_GRU3_units: 9\n",
      "\n",
      "Epoch 1/3\n",
      "372/372 [==============================] - 62s 155ms/step - loss: 0.6326 - accuracy: 0.6386 - val_loss: 0.5671 - val_accuracy: 0.7176\n",
      "Epoch 2/3\n",
      "372/372 [==============================] - 35s 95ms/step - loss: 0.4045 - accuracy: 0.8221 - val_loss: 0.5390 - val_accuracy: 0.7784\n",
      "Epoch 3/3\n",
      "372/372 [==============================] - 26s 70ms/step - loss: 0.3109 - accuracy: 0.8764 - val_loss: 0.4685 - val_accuracy: 0.8056\n",
      "\n",
      "Accuracy: 80.56%\n",
      "\n",
      "learning rate: 1.0e-02\n",
      "embeddings_size: 8\n",
      "num_GRU1_units: 37\n",
      "num_GRU2_units: 64\n",
      "num_GRU3_units: 64\n",
      "\n",
      "Epoch 1/3\n",
      "372/372 [==============================] - 43s 106ms/step - loss: 0.4224 - accuracy: 0.7930 - val_loss: 0.1532 - val_accuracy: 0.9288\n",
      "Epoch 2/3\n",
      "372/372 [==============================] - 28s 74ms/step - loss: 0.2102 - accuracy: 0.9192 - val_loss: 0.3881 - val_accuracy: 0.8400\n",
      "Epoch 3/3\n",
      "372/372 [==============================] - 23s 62ms/step - loss: 0.1310 - accuracy: 0.9533 - val_loss: 0.2603 - val_accuracy: 0.9024\n",
      "\n",
      "Accuracy: 90.24%\n",
      "\n",
      "learning rate: 1.0e-02\n",
      "embeddings_size: 300\n",
      "num_GRU1_units: 37\n",
      "num_GRU2_units: 64\n",
      "num_GRU3_units: 64\n",
      "\n",
      "Epoch 1/3\n",
      "372/372 [==============================] - 45s 111ms/step - loss: 0.3948 - accuracy: 0.8177 - val_loss: 0.2810 - val_accuracy: 0.8856\n",
      "Epoch 2/3\n",
      "372/372 [==============================] - 30s 80ms/step - loss: 0.2185 - accuracy: 0.9163 - val_loss: 0.6460 - val_accuracy: 0.7424\n",
      "Epoch 3/3\n",
      "372/372 [==============================] - 25s 67ms/step - loss: 0.1726 - accuracy: 0.9341 - val_loss: 0.3507 - val_accuracy: 0.8536\n",
      "\n",
      "Accuracy: 85.36%\n",
      "\n",
      "learning rate: 5.3e-03\n",
      "embeddings_size: 8\n",
      "num_GRU1_units: 37\n",
      "num_GRU2_units: 64\n",
      "num_GRU3_units: 64\n",
      "\n",
      "Epoch 1/3\n",
      "372/372 [==============================] - 43s 105ms/step - loss: 0.4740 - accuracy: 0.7635 - val_loss: 0.3295 - val_accuracy: 0.8680\n",
      "Epoch 2/3\n",
      "372/372 [==============================] - 29s 78ms/step - loss: 0.2516 - accuracy: 0.9005 - val_loss: 0.5202 - val_accuracy: 0.7784\n",
      "Epoch 3/3\n",
      "372/372 [==============================] - 24s 63ms/step - loss: 0.1719 - accuracy: 0.9365 - val_loss: 0.3242 - val_accuracy: 0.8792\n",
      "\n",
      "Accuracy: 87.92%\n",
      "\n",
      "learning rate: 2.5e-03\n",
      "embeddings_size: 8\n",
      "num_GRU1_units: 39\n",
      "num_GRU2_units: 64\n",
      "num_GRU3_units: 64\n",
      "\n",
      "Epoch 1/3\n",
      "372/372 [==============================] - 44s 107ms/step - loss: 0.5059 - accuracy: 0.7480 - val_loss: 0.7012 - val_accuracy: 0.6712\n",
      "Epoch 2/3\n",
      "372/372 [==============================] - 27s 73ms/step - loss: 0.2974 - accuracy: 0.8825 - val_loss: 0.4681 - val_accuracy: 0.8000\n",
      "Epoch 3/3\n",
      "372/372 [==============================] - 24s 64ms/step - loss: 0.2117 - accuracy: 0.9216 - val_loss: 0.2356 - val_accuracy: 0.9000\n",
      "\n",
      "Accuracy: 90.00%\n",
      "\n",
      "learning rate: 2.4e-03\n",
      "embeddings_size: 300\n",
      "num_GRU1_units: 39\n",
      "num_GRU2_units: 64\n",
      "num_GRU3_units: 4\n",
      "\n",
      "Epoch 1/3\n",
      "372/372 [==============================] - 43s 106ms/step - loss: 0.5442 - accuracy: 0.7351 - val_loss: 0.5246 - val_accuracy: 0.7624\n",
      "Epoch 2/3\n",
      "372/372 [==============================] - 29s 77ms/step - loss: 0.3183 - accuracy: 0.8719 - val_loss: 0.2494 - val_accuracy: 0.9000\n",
      "Epoch 3/3\n",
      "372/372 [==============================] - 23s 62ms/step - loss: 0.1845 - accuracy: 0.9362 - val_loss: 0.3902 - val_accuracy: 0.8456\n",
      "\n",
      "Accuracy: 84.56%\n",
      "\n",
      "learning rate: 5.9e-03\n",
      "embeddings_size: 8\n",
      "num_GRU1_units: 36\n",
      "num_GRU2_units: 8\n",
      "num_GRU3_units: 64\n",
      "\n",
      "Epoch 1/3\n",
      "372/372 [==============================] - 43s 105ms/step - loss: 0.4942 - accuracy: 0.7480 - val_loss: 0.3100 - val_accuracy: 0.8800\n",
      "Epoch 2/3\n",
      "372/372 [==============================] - 27s 72ms/step - loss: 0.2403 - accuracy: 0.9079 - val_loss: 0.6824 - val_accuracy: 0.7384\n",
      "Epoch 3/3\n",
      "372/372 [==============================] - 21s 56ms/step - loss: 0.1558 - accuracy: 0.9421 - val_loss: 0.3529 - val_accuracy: 0.8480\n",
      "\n",
      "Accuracy: 84.80%\n",
      "\n",
      "learning rate: 2.4e-04\n",
      "embeddings_size: 8\n",
      "num_GRU1_units: 38\n",
      "num_GRU2_units: 64\n",
      "num_GRU3_units: 4\n",
      "\n",
      "Epoch 1/3\n",
      "372/372 [==============================] - 41s 101ms/step - loss: 0.6279 - accuracy: 0.6109 - val_loss: 0.4307 - val_accuracy: 0.8152\n",
      "Epoch 2/3\n",
      "372/372 [==============================] - 27s 72ms/step - loss: 0.3658 - accuracy: 0.8525 - val_loss: 0.3902 - val_accuracy: 0.8544\n",
      "Epoch 3/3\n",
      "372/372 [==============================] - 22s 59ms/step - loss: 0.2963 - accuracy: 0.8891 - val_loss: 0.5763 - val_accuracy: 0.7552\n",
      "\n",
      "Accuracy: 75.52%\n",
      "\n",
      "learning rate: 1.0e-02\n",
      "embeddings_size: 8\n",
      "num_GRU1_units: 38\n",
      "num_GRU2_units: 64\n",
      "num_GRU3_units: 4\n",
      "\n",
      "Epoch 1/3\n",
      "372/372 [==============================] - 41s 100ms/step - loss: 0.4992 - accuracy: 0.7521 - val_loss: 0.4527 - val_accuracy: 0.8280\n",
      "Epoch 2/3\n",
      "372/372 [==============================] - 27s 74ms/step - loss: 0.2584 - accuracy: 0.8995 - val_loss: 0.4707 - val_accuracy: 0.8096\n",
      "Epoch 3/3\n",
      "372/372 [==============================] - 22s 60ms/step - loss: 0.1834 - accuracy: 0.9315 - val_loss: 0.1818 - val_accuracy: 0.9072\n",
      "\n",
      "Accuracy: 90.72%\n",
      "\n"
     ]
    },
    {
     "name": "stderr",
     "output_type": "stream",
     "text": [
      "/home/zeus/miniconda3/envs/cloudspace/lib/python3.10/site-packages/keras/src/engine/training.py:3103: UserWarning: You are saving your model as an HDF5 file via `model.save()`. This file format is considered legacy. We recommend using instead the native Keras format, e.g. `model.save('my_model.keras')`.\n",
      "  saving_api.save_model(\n"
     ]
    },
    {
     "name": "stdout",
     "output_type": "stream",
     "text": [
      "learning rate: 1.0e-02\n",
      "embeddings_size: 300\n",
      "num_GRU1_units: 37\n",
      "num_GRU2_units: 64\n",
      "num_GRU3_units: 4\n",
      "\n",
      "Epoch 1/3\n",
      "372/372 [==============================] - 42s 103ms/step - loss: 0.4611 - accuracy: 0.7831 - val_loss: 0.7862 - val_accuracy: 0.6352\n",
      "Epoch 2/3\n",
      "372/372 [==============================] - 28s 75ms/step - loss: 0.2983 - accuracy: 0.8792 - val_loss: 0.4391 - val_accuracy: 0.7960\n",
      "Epoch 3/3\n",
      "372/372 [==============================] - 24s 63ms/step - loss: 0.2575 - accuracy: 0.9003 - val_loss: 0.8166 - val_accuracy: 0.6120\n",
      "\n",
      "Accuracy: 61.20%\n",
      "\n",
      "learning rate: 4.2e-03\n",
      "embeddings_size: 8\n",
      "num_GRU1_units: 63\n",
      "num_GRU2_units: 22\n",
      "num_GRU3_units: 59\n",
      "\n",
      "Epoch 1/3\n",
      "372/372 [==============================] - 42s 104ms/step - loss: 0.5758 - accuracy: 0.6770 - val_loss: 0.8320 - val_accuracy: 0.0000e+00\n",
      "Epoch 2/3\n",
      "372/372 [==============================] - 29s 78ms/step - loss: 0.3970 - accuracy: 0.8167 - val_loss: 0.1451 - val_accuracy: 0.9432\n",
      "Epoch 3/3\n",
      "372/372 [==============================] - 23s 62ms/step - loss: 0.2354 - accuracy: 0.9099 - val_loss: 0.3851 - val_accuracy: 0.8496\n",
      "\n",
      "Accuracy: 84.96%\n",
      "\n",
      "learning rate: 4.1e-03\n",
      "embeddings_size: 8\n",
      "num_GRU1_units: 64\n",
      "num_GRU2_units: 64\n",
      "num_GRU3_units: 47\n",
      "\n",
      "Epoch 1/3\n",
      "372/372 [==============================] - 42s 103ms/step - loss: 0.4740 - accuracy: 0.7697 - val_loss: 0.4157 - val_accuracy: 0.8016\n",
      "Epoch 2/3\n",
      "372/372 [==============================] - 28s 76ms/step - loss: 0.2514 - accuracy: 0.9020 - val_loss: 0.2817 - val_accuracy: 0.8784\n",
      "Epoch 3/3\n",
      "372/372 [==============================] - 25s 68ms/step - loss: 0.1771 - accuracy: 0.9337 - val_loss: 0.4761 - val_accuracy: 0.8248\n",
      "\n",
      "Accuracy: 82.48%\n",
      "\n",
      "CPU times: user 1h 5min 11s, sys: 1min 56s, total: 1h 7min 7s\n",
      "Wall time: 1h 12min 38s\n"
     ]
    }
   ],
   "source": [
    "%%time\n",
    "search_result = gp_minimize(func=fitness,\n",
    "                            dimensions=dimensions,\n",
    "                            acq_func='EI', # Expected Improvement.\n",
    "                            n_calls=40,\n",
    "                            x0=default_parameters)"
   ]
  },
  {
   "cell_type": "markdown",
   "metadata": {
    "id": "LKHRmijrAJ9p"
   },
   "source": [
    "**Optimization Progress**"
   ]
  },
  {
   "cell_type": "code",
   "execution_count": 60,
   "metadata": {
    "colab": {
     "base_uri": "https://localhost:8080/",
     "height": 490
    },
    "id": "aKkwmd0NQNgc",
    "outputId": "24dd6869-d148-4c00-e64f-9c4d49878235"
   },
   "outputs": [
    {
     "data": {
      "text/plain": [
       "<Axes: title={'center': 'Convergence plot'}, xlabel='Number of calls $n$', ylabel='$\\\\min f(x)$ after $n$ calls'>"
      ]
     },
     "execution_count": 60,
     "metadata": {},
     "output_type": "execute_result"
    },
    {
     "data": {
      "image/png": "[encoded data removed]",
      "text/plain": [
       "<Figure size 640x480 with 1 Axes>"
      ]
     },
     "metadata": {},
     "output_type": "display_data"
    }
   ],
   "source": [
    "plot_convergence(search_result)"
   ]
  },
  {
   "cell_type": "markdown",
   "metadata": {
    "id": "OMYffSDvbFon"
   },
   "source": []
  },
  {
   "cell_type": "markdown",
   "metadata": {
    "id": "rUd26Hbzagpy"
   },
   "source": [
    "**Best Hyper-Parameters**"
   ]
  },
  {
   "cell_type": "code",
   "execution_count": 61,
   "metadata": {
    "colab": {
     "base_uri": "https://localhost:8080/"
    },
    "id": "RYT2hhA_AQxY",
    "outputId": "6b9b6d0e-c053-46a0-a432-363700c9a92f"
   },
   "outputs": [
    {
     "data": {
      "text/plain": [
       "[0.01, 8, 38, 64, 4]"
      ]
     },
     "execution_count": 61,
     "metadata": {},
     "output_type": "execute_result"
    }
   ],
   "source": [
    "search_result.x"
   ]
  },
  {
   "cell_type": "code",
   "execution_count": 62,
   "metadata": {
    "colab": {
     "base_uri": "https://localhost:8080/"
    },
    "id": "RkL_u8DqY_Ne",
    "outputId": "340d7078-7227-47e0-d274-41968b65872b"
   },
   "outputs": [
    {
     "name": "stdout",
     "output_type": "stream",
     "text": [
      "{'learning_rate': 0.01, 'embeddings_size': 8, 'num_GRU1_units': 38, 'num_GRU2_units': 64, 'num_GRU3_units': 4}\n"
     ]
    }
   ],
   "source": [
    "space = search_result.space\n",
    "params_dict = dict(zip(space.dimension_names, search_result.x))\n",
    "print(params_dict)"
   ]
  },
  {
   "cell_type": "code",
   "execution_count": 63,
   "metadata": {
    "colab": {
     "base_uri": "https://localhost:8080/"
    },
    "id": "7inlf7gqZIMZ",
    "outputId": "37547701-8faf-459a-b5bb-4c827b41fa6a"
   },
   "outputs": [
    {
     "data": {
      "text/plain": [
       "-0.9071999788284302"
      ]
     },
     "execution_count": 63,
     "metadata": {},
     "output_type": "execute_result"
    }
   ],
   "source": [
    "search_result.fun"
   ]
  },
  {
   "cell_type": "markdown",
   "metadata": {
    "id": "H91od6Z4aVVZ"
   },
   "source": [
    "**Evaluate Best Model on Test Set**"
   ]
  },
  {
   "cell_type": "code",
   "execution_count": 64,
   "metadata": {
    "id": "tHiYH6ZdZKza"
   },
   "outputs": [],
   "source": [
    "model  = load_model(path_best_model)"
   ]
  },
  {
   "cell_type": "code",
   "execution_count": 65,
   "metadata": {
    "colab": {
     "base_uri": "https://localhost:8080/"
    },
    "id": "KIHLbOmqZNy0",
    "outputId": "9dc12290-4cff-4e53-8496-d2ac9bd94604"
   },
   "outputs": [
    {
     "name": "stdout",
     "output_type": "stream",
     "text": [
      "782/782 [==============================] - 13s 16ms/step - loss: 0.1605 - accuracy: 0.9522\n"
     ]
    }
   ],
   "source": [
    "result = model.evaluate(x = x_test_pad, y = y_test)"
   ]
  },
  {
   "cell_type": "code",
   "execution_count": 66,
   "metadata": {
    "colab": {
     "base_uri": "https://localhost:8080/"
    },
    "id": "ljnhnNKSZlHI",
    "outputId": "ea667815-4f2b-4dbe-8e57-fb2e59cd92e5"
   },
   "outputs": [
    {
     "name": "stdout",
     "output_type": "stream",
     "text": [
      "loss 0.16048143804073334\n",
      "accuracy 0.952239990234375\n"
     ]
    }
   ],
   "source": [
    "for name, value in zip(model.metrics_names, result):\n",
    "    print(name, value)"
   ]
  },
  {
   "cell_type": "code",
   "execution_count": 67,
   "metadata": {
    "id": "4mW5dqmMaPHp"
   },
   "outputs": [
    {
     "name": "stdout",
     "output_type": "stream",
     "text": [
      "Accuracy: 95.22%\n"
     ]
    }
   ],
   "source": [
    "print(\"Accuracy: {0:.2%}\".format(result[1]))"
   ]
  },
  {
   "cell_type": "code",
   "execution_count": null,
   "metadata": {},
   "outputs": [],
   "source": []
  }
 ],
 "metadata": {
  "accelerator": "GPU",
  "colab": {
   "gpuType": "T4",
   "provenance": []
  },
  "kernelspec": {
   "display_name": "Python 3 (ipykernel)",
   "language": "python",
   "name": "python3"
  },
  "language_info": {
   "codemirror_mode": {
    "name": "ipython",
    "version": 3
   },
   "file_extension": ".py",
   "mimetype": "text/x-python",
   "name": "python",
   "nbconvert_exporter": "python",
   "pygments_lexer": "ipython3",
   "version": "3.11.5"
  },
  "widgets": {
   "application/vnd.jupyter.widget-state+json": {
    "0d948ab967d24e2ea066abb93e094a50": {
     "model_module": "@jupyter-widgets/base",
     "model_module_version": "1.2.0",
     "model_name": "LayoutModel",
     "state": {
      "_model_module": "@jupyter-widgets/base",
      "_model_module_version": "1.2.0",
      "_model_name": "LayoutModel",
      "_view_count": null,
      "_view_module": "@jupyter-widgets/base",
      "_view_module_version": "1.2.0",
      "_view_name": "LayoutView",
      "align_content": null,
      "align_items": null,
      "align_self": null,
      "border": null,
      "bottom": null,
      "display": null,
      "flex": null,
      "flex_flow": null,
      "grid_area": null,
      "grid_auto_columns": null,
      "grid_auto_flow": null,
      "grid_auto_rows": null,
      "grid_column": null,
      "grid_gap": null,
      "grid_row": null,
      "grid_template_areas": null,
      "grid_template_columns": null,
      "grid_template_rows": null,
      "height": null,
      "justify_content": null,
      "justify_items": null,
      "left": null,
      "margin": null,
      "max_height": null,
      "max_width": null,
      "min_height": null,
      "min_width": null,
      "object_fit": null,
      "object_position": null,
      "order": null,
      "overflow": null,
      "overflow_x": null,
      "overflow_y": null,
      "padding": null,
      "right": null,
      "top": null,
      "visibility": null,
      "width": null
     }
    },
    "0e38ab29acb849e5928085ef287305a1": {
     "model_module": "@jupyter-widgets/base",
     "model_module_version": "1.2.0",
     "model_name": "LayoutModel",
     "state": {
      "_model_module": "@jupyter-widgets/base",
      "_model_module_version": "1.2.0",
      "_model_name": "LayoutModel",
      "_view_count": null,
      "_view_module": "@jupyter-widgets/base",
      "_view_module_version": "1.2.0",
      "_view_name": "LayoutView",
      "align_content": null,
      "align_items": null,
      "align_self": null,
      "border": null,
      "bottom": null,
      "display": null,
      "flex": null,
      "flex_flow": null,
      "grid_area": null,
      "grid_auto_columns": null,
      "grid_auto_flow": null,
      "grid_auto_rows": null,
      "grid_column": null,
      "grid_gap": null,
      "grid_row": null,
      "grid_template_areas": null,
      "grid_template_columns": null,
      "grid_template_rows": null,
      "height": null,
      "justify_content": null,
      "justify_items": null,
      "left": null,
      "margin": null,
      "max_height": null,
      "max_width": null,
      "min_height": null,
      "min_width": null,
      "object_fit": null,
      "object_position": null,
      "order": null,
      "overflow": null,
      "overflow_x": null,
      "overflow_y": null,
      "padding": null,
      "right": null,
      "top": null,
      "visibility": null,
      "width": null
     }
    },
    "0e5f7f57ffb649c98c95b019acc32504": {
     "model_module": "@jupyter-widgets/controls",
     "model_module_version": "1.5.0",
     "model_name": "DescriptionStyleModel",
     "state": {
      "_model_module": "@jupyter-widgets/controls",
      "_model_module_version": "1.5.0",
      "_model_name": "DescriptionStyleModel",
      "_view_count": null,
      "_view_module": "@jupyter-widgets/base",
      "_view_module_version": "1.2.0",
      "_view_name": "StyleView",
      "description_width": ""
     }
    },
    "0e8681c1966547bf93f9a7481fffe9d7": {
     "model_module": "@jupyter-widgets/base",
     "model_module_version": "1.2.0",
     "model_name": "LayoutModel",
     "state": {
      "_model_module": "@jupyter-widgets/base",
      "_model_module_version": "1.2.0",
      "_model_name": "LayoutModel",
      "_view_count": null,
      "_view_module": "@jupyter-widgets/base",
      "_view_module_version": "1.2.0",
      "_view_name": "LayoutView",
      "align_content": null,
      "align_items": null,
      "align_self": null,
      "border": null,
      "bottom": null,
      "display": null,
      "flex": null,
      "flex_flow": null,
      "grid_area": null,
      "grid_auto_columns": null,
      "grid_auto_flow": null,
      "grid_auto_rows": null,
      "grid_column": null,
      "grid_gap": null,
      "grid_row": null,
      "grid_template_areas": null,
      "grid_template_columns": null,
      "grid_template_rows": null,
      "height": null,
      "justify_content": null,
      "justify_items": null,
      "left": null,
      "margin": null,
      "max_height": null,
      "max_width": null,
      "min_height": null,
      "min_width": null,
      "object_fit": null,
      "object_position": null,
      "order": null,
      "overflow": null,
      "overflow_x": null,
      "overflow_y": null,
      "padding": null,
      "right": null,
      "top": null,
      "visibility": null,
      "width": null
     }
    },
    "10a1f9de785942ce84dbff2db8deed89": {
     "model_module": "@jupyter-widgets/controls",
     "model_module_version": "1.5.0",
     "model_name": "HTMLModel",
     "state": {
      "_dom_classes": [],
      "_model_module": "@jupyter-widgets/controls",
      "_model_module_version": "1.5.0",
      "_model_name": "HTMLModel",
      "_view_count": null,
      "_view_module": "@jupyter-widgets/controls",
      "_view_module_version": "1.5.0",
      "_view_name": "HTMLView",
      "description": "",
      "description_tooltip": null,
      "layout": "IPY_MODEL_d2727ce462c94185a29d6207c8277017",
      "placeholder": "​",
      "style": "IPY_MODEL_cd44da4ec14741769b75158a5e52f1ee",
      "value": " 50000/50000 [00:00&lt;00:00, 117333.74 examples/s]"
     }
    },
    "151b7c94ff20491fba78c328490c1828": {
     "model_module": "@jupyter-widgets/controls",
     "model_module_version": "1.5.0",
     "model_name": "DescriptionStyleModel",
     "state": {
      "_model_module": "@jupyter-widgets/controls",
      "_model_module_version": "1.5.0",
      "_model_name": "DescriptionStyleModel",
      "_view_count": null,
      "_view_module": "@jupyter-widgets/base",
      "_view_module_version": "1.2.0",
      "_view_name": "StyleView",
      "description_width": ""
     }
    },
    "15768edb66e7438f882f43c634caa448": {
     "model_module": "@jupyter-widgets/base",
     "model_module_version": "1.2.0",
     "model_name": "LayoutModel",
     "state": {
      "_model_module": "@jupyter-widgets/base",
      "_model_module_version": "1.2.0",
      "_model_name": "LayoutModel",
      "_view_count": null,
      "_view_module": "@jupyter-widgets/base",
      "_view_module_version": "1.2.0",
      "_view_name": "LayoutView",
      "align_content": null,
      "align_items": null,
      "align_self": null,
      "border": null,
      "bottom": null,
      "display": null,
      "flex": null,
      "flex_flow": null,
      "grid_area": null,
      "grid_auto_columns": null,
      "grid_auto_flow": null,
      "grid_auto_rows": null,
      "grid_column": null,
      "grid_gap": null,
      "grid_row": null,
      "grid_template_areas": null,
      "grid_template_columns": null,
      "grid_template_rows": null,
      "height": null,
      "justify_content": null,
      "justify_items": null,
      "left": null,
      "margin": null,
      "max_height": null,
      "max_width": null,
      "min_height": null,
      "min_width": null,
      "object_fit": null,
      "object_position": null,
      "order": null,
      "overflow": null,
      "overflow_x": null,
      "overflow_y": null,
      "padding": null,
      "right": null,
      "top": null,
      "visibility": null,
      "width": null
     }
    },
    "1662084f612a401ea63ec7dbe396c65e": {
     "model_module": "@jupyter-widgets/controls",
     "model_module_version": "1.5.0",
     "model_name": "ProgressStyleModel",
     "state": {
      "_model_module": "@jupyter-widgets/controls",
      "_model_module_version": "1.5.0",
      "_model_name": "ProgressStyleModel",
      "_view_count": null,
      "_view_module": "@jupyter-widgets/base",
      "_view_module_version": "1.2.0",
      "_view_name": "StyleView",
      "bar_color": null,
      "description_width": ""
     }
    },
    "170f3d9983ca452d800b5e88c9ac4c7b": {
     "model_module": "@jupyter-widgets/base",
     "model_module_version": "1.2.0",
     "model_name": "LayoutModel",
     "state": {
      "_model_module": "@jupyter-widgets/base",
      "_model_module_version": "1.2.0",
      "_model_name": "LayoutModel",
      "_view_count": null,
      "_view_module": "@jupyter-widgets/base",
      "_view_module_version": "1.2.0",
      "_view_name": "LayoutView",
      "align_content": null,
      "align_items": null,
      "align_self": null,
      "border": null,
      "bottom": null,
      "display": null,
      "flex": null,
      "flex_flow": null,
      "grid_area": null,
      "grid_auto_columns": null,
      "grid_auto_flow": null,
      "grid_auto_rows": null,
      "grid_column": null,
      "grid_gap": null,
      "grid_row": null,
      "grid_template_areas": null,
      "grid_template_columns": null,
      "grid_template_rows": null,
      "height": null,
      "justify_content": null,
      "justify_items": null,
      "left": null,
      "margin": null,
      "max_height": null,
      "max_width": null,
      "min_height": null,
      "min_width": null,
      "object_fit": null,
      "object_position": null,
      "order": null,
      "overflow": null,
      "overflow_x": null,
      "overflow_y": null,
      "padding": null,
      "right": null,
      "top": null,
      "visibility": null,
      "width": null
     }
    },
    "177714472ef0493a9fc5faa43aeaea60": {
     "model_module": "@jupyter-widgets/controls",
     "model_module_version": "1.5.0",
     "model_name": "DescriptionStyleModel",
     "state": {
      "_model_module": "@jupyter-widgets/controls",
      "_model_module_version": "1.5.0",
      "_model_name": "DescriptionStyleModel",
      "_view_count": null,
      "_view_module": "@jupyter-widgets/base",
      "_view_module_version": "1.2.0",
      "_view_name": "StyleView",
      "description_width": ""
     }
    },
    "1afcb4d690a04d3497497b7bbc42186a": {
     "model_module": "@jupyter-widgets/controls",
     "model_module_version": "1.5.0",
     "model_name": "HTMLModel",
     "state": {
      "_dom_classes": [],
      "_model_module": "@jupyter-widgets/controls",
      "_model_module_version": "1.5.0",
      "_model_name": "HTMLModel",
      "_view_count": null,
      "_view_module": "@jupyter-widgets/controls",
      "_view_module_version": "1.5.0",
      "_view_name": "HTMLView",
      "description": "",
      "description_tooltip": null,
      "layout": "IPY_MODEL_f7b54d2c7e3146d295cfa20b696f8897",
      "placeholder": "​",
      "style": "IPY_MODEL_0e5f7f57ffb649c98c95b019acc32504",
      "value": "Generating train split: 100%"
     }
    },
    "1c41d72a61994d3db63bca3eeb3947bb": {
     "model_module": "@jupyter-widgets/controls",
     "model_module_version": "1.5.0",
     "model_name": "DescriptionStyleModel",
     "state": {
      "_model_module": "@jupyter-widgets/controls",
      "_model_module_version": "1.5.0",
      "_model_name": "DescriptionStyleModel",
      "_view_count": null,
      "_view_module": "@jupyter-widgets/base",
      "_view_module_version": "1.2.0",
      "_view_name": "StyleView",
      "description_width": ""
     }
    },
    "1cbb7d9922e2478fbbee60b3b660463d": {
     "model_module": "@jupyter-widgets/base",
     "model_module_version": "1.2.0",
     "model_name": "LayoutModel",
     "state": {
      "_model_module": "@jupyter-widgets/base",
      "_model_module_version": "1.2.0",
      "_model_name": "LayoutModel",
      "_view_count": null,
      "_view_module": "@jupyter-widgets/base",
      "_view_module_version": "1.2.0",
      "_view_name": "LayoutView",
      "align_content": null,
      "align_items": null,
      "align_self": null,
      "border": null,
      "bottom": null,
      "display": null,
      "flex": null,
      "flex_flow": null,
      "grid_area": null,
      "grid_auto_columns": null,
      "grid_auto_flow": null,
      "grid_auto_rows": null,
      "grid_column": null,
      "grid_gap": null,
      "grid_row": null,
      "grid_template_areas": null,
      "grid_template_columns": null,
      "grid_template_rows": null,
      "height": null,
      "justify_content": null,
      "justify_items": null,
      "left": null,
      "margin": null,
      "max_height": null,
      "max_width": null,
      "min_height": null,
      "min_width": null,
      "object_fit": null,
      "object_position": null,
      "order": null,
      "overflow": null,
      "overflow_x": null,
      "overflow_y": null,
      "padding": null,
      "right": null,
      "top": null,
      "visibility": null,
      "width": null
     }
    },
    "1d4076dce30d43629a65de1c37ead13f": {
     "model_module": "@jupyter-widgets/controls",
     "model_module_version": "1.5.0",
     "model_name": "HTMLModel",
     "state": {
      "_dom_classes": [],
      "_model_module": "@jupyter-widgets/controls",
      "_model_module_version": "1.5.0",
      "_model_name": "HTMLModel",
      "_view_count": null,
      "_view_module": "@jupyter-widgets/controls",
      "_view_module_version": "1.5.0",
      "_view_name": "HTMLView",
      "description": "",
      "description_tooltip": null,
      "layout": "IPY_MODEL_70ca39e135ae438cb8a5067e8b8bab1a",
      "placeholder": "​",
      "style": "IPY_MODEL_177714472ef0493a9fc5faa43aeaea60",
      "value": " 42.0M/42.0M [00:00&lt;00:00, 90.5MB/s]"
     }
    },
    "1d57d51b75ba4ef2b0cfe779c799a71a": {
     "model_module": "@jupyter-widgets/controls",
     "model_module_version": "1.5.0",
     "model_name": "ProgressStyleModel",
     "state": {
      "_model_module": "@jupyter-widgets/controls",
      "_model_module_version": "1.5.0",
      "_model_name": "ProgressStyleModel",
      "_view_count": null,
      "_view_module": "@jupyter-widgets/base",
      "_view_module_version": "1.2.0",
      "_view_name": "StyleView",
      "bar_color": null,
      "description_width": ""
     }
    },
    "1f0d36663882404999bca6e46dda7a2e": {
     "model_module": "@jupyter-widgets/controls",
     "model_module_version": "1.5.0",
     "model_name": "HTMLModel",
     "state": {
      "_dom_classes": [],
      "_model_module": "@jupyter-widgets/controls",
      "_model_module_version": "1.5.0",
      "_model_name": "HTMLModel",
      "_view_count": null,
      "_view_module": "@jupyter-widgets/controls",
      "_view_module_version": "1.5.0",
      "_view_name": "HTMLView",
      "description": "",
      "description_tooltip": null,
      "layout": "IPY_MODEL_ced9c4fa59744a45be9bce8ebcea001a",
      "placeholder": "​",
      "style": "IPY_MODEL_9e750d80ed0f437fa450e84718bb89e5",
      "value": "Generating unsupervised split: 100%"
     }
    },
    "315b2323332345209517e40fbf572ef1": {
     "model_module": "@jupyter-widgets/controls",
     "model_module_version": "1.5.0",
     "model_name": "ProgressStyleModel",
     "state": {
      "_model_module": "@jupyter-widgets/controls",
      "_model_module_version": "1.5.0",
      "_model_name": "ProgressStyleModel",
      "_view_count": null,
      "_view_module": "@jupyter-widgets/base",
      "_view_module_version": "1.2.0",
      "_view_name": "StyleView",
      "bar_color": null,
      "description_width": ""
     }
    },
    "3339147e1e8144bcbc455198b7440a91": {
     "model_module": "@jupyter-widgets/base",
     "model_module_version": "1.2.0",
     "model_name": "LayoutModel",
     "state": {
      "_model_module": "@jupyter-widgets/base",
      "_model_module_version": "1.2.0",
      "_model_name": "LayoutModel",
      "_view_count": null,
      "_view_module": "@jupyter-widgets/base",
      "_view_module_version": "1.2.0",
      "_view_name": "LayoutView",
      "align_content": null,
      "align_items": null,
      "align_self": null,
      "border": null,
      "bottom": null,
      "display": null,
      "flex": null,
      "flex_flow": null,
      "grid_area": null,
      "grid_auto_columns": null,
      "grid_auto_flow": null,
      "grid_auto_rows": null,
      "grid_column": null,
      "grid_gap": null,
      "grid_row": null,
      "grid_template_areas": null,
      "grid_template_columns": null,
      "grid_template_rows": null,
      "height": null,
      "justify_content": null,
      "justify_items": null,
      "left": null,
      "margin": null,
      "max_height": null,
      "max_width": null,
      "min_height": null,
      "min_width": null,
      "object_fit": null,
      "object_position": null,
      "order": null,
      "overflow": null,
      "overflow_x": null,
      "overflow_y": null,
      "padding": null,
      "right": null,
      "top": null,
      "visibility": null,
      "width": null
     }
    },
    "3595e8e8821444a6b2633d16d969b7f5": {
     "model_module": "@jupyter-widgets/controls",
     "model_module_version": "1.5.0",
     "model_name": "HBoxModel",
     "state": {
      "_dom_classes": [],
      "_model_module": "@jupyter-widgets/controls",
      "_model_module_version": "1.5.0",
      "_model_name": "HBoxModel",
      "_view_count": null,
      "_view_module": "@jupyter-widgets/controls",
      "_view_module_version": "1.5.0",
      "_view_name": "HBoxView",
      "box_style": "",
      "children": [
       "IPY_MODEL_ff5a433f91734f58b1d5ebb462f69cfd",
       "IPY_MODEL_695e06ee4e5848fd87570055c645ea70",
       "IPY_MODEL_761abe0897224fd5a34d439b4f259343"
      ],
      "layout": "IPY_MODEL_87b7b9fa98914cd1878e1d3cc3d8711d"
     }
    },
    "35f15bb908d640aa8987cd2038211678": {
     "model_module": "@jupyter-widgets/controls",
     "model_module_version": "1.5.0",
     "model_name": "HTMLModel",
     "state": {
      "_dom_classes": [],
      "_model_module": "@jupyter-widgets/controls",
      "_model_module_version": "1.5.0",
      "_model_name": "HTMLModel",
      "_view_count": null,
      "_view_module": "@jupyter-widgets/controls",
      "_view_module_version": "1.5.0",
      "_view_name": "HTMLView",
      "description": "",
      "description_tooltip": null,
      "layout": "IPY_MODEL_1cbb7d9922e2478fbbee60b3b660463d",
      "placeholder": "​",
      "style": "IPY_MODEL_8c38c3e3174741fe88c5cd3066e0221f",
      "value": " 21.0M/21.0M [00:00&lt;00:00, 38.3MB/s]"
     }
    },
    "3828f37ee7e74d76bc82793eadf94ff3": {
     "model_module": "@jupyter-widgets/base",
     "model_module_version": "1.2.0",
     "model_name": "LayoutModel",
     "state": {
      "_model_module": "@jupyter-widgets/base",
      "_model_module_version": "1.2.0",
      "_model_name": "LayoutModel",
      "_view_count": null,
      "_view_module": "@jupyter-widgets/base",
      "_view_module_version": "1.2.0",
      "_view_name": "LayoutView",
      "align_content": null,
      "align_items": null,
      "align_self": null,
      "border": null,
      "bottom": null,
      "display": null,
      "flex": null,
      "flex_flow": null,
      "grid_area": null,
      "grid_auto_columns": null,
      "grid_auto_flow": null,
      "grid_auto_rows": null,
      "grid_column": null,
      "grid_gap": null,
      "grid_row": null,
      "grid_template_areas": null,
      "grid_template_columns": null,
      "grid_template_rows": null,
      "height": null,
      "justify_content": null,
      "justify_items": null,
      "left": null,
      "margin": null,
      "max_height": null,
      "max_width": null,
      "min_height": null,
      "min_width": null,
      "object_fit": null,
      "object_position": null,
      "order": null,
      "overflow": null,
      "overflow_x": null,
      "overflow_y": null,
      "padding": null,
      "right": null,
      "top": null,
      "visibility": null,
      "width": null
     }
    },
    "3e2b4262b9104708b3bb7eecb9b29c4a": {
     "model_module": "@jupyter-widgets/controls",
     "model_module_version": "1.5.0",
     "model_name": "DescriptionStyleModel",
     "state": {
      "_model_module": "@jupyter-widgets/controls",
      "_model_module_version": "1.5.0",
      "_model_name": "DescriptionStyleModel",
      "_view_count": null,
      "_view_module": "@jupyter-widgets/base",
      "_view_module_version": "1.2.0",
      "_view_name": "StyleView",
      "description_width": ""
     }
    },
    "4363d78d158944288dc1ea621dd496f2": {
     "model_module": "@jupyter-widgets/controls",
     "model_module_version": "1.5.0",
     "model_name": "ProgressStyleModel",
     "state": {
      "_model_module": "@jupyter-widgets/controls",
      "_model_module_version": "1.5.0",
      "_model_name": "ProgressStyleModel",
      "_view_count": null,
      "_view_module": "@jupyter-widgets/base",
      "_view_module_version": "1.2.0",
      "_view_name": "StyleView",
      "bar_color": null,
      "description_width": ""
     }
    },
    "43d17070da014657a61b618ef3d7bc2f": {
     "model_module": "@jupyter-widgets/base",
     "model_module_version": "1.2.0",
     "model_name": "LayoutModel",
     "state": {
      "_model_module": "@jupyter-widgets/base",
      "_model_module_version": "1.2.0",
      "_model_name": "LayoutModel",
      "_view_count": null,
      "_view_module": "@jupyter-widgets/base",
      "_view_module_version": "1.2.0",
      "_view_name": "LayoutView",
      "align_content": null,
      "align_items": null,
      "align_self": null,
      "border": null,
      "bottom": null,
      "display": null,
      "flex": null,
      "flex_flow": null,
      "grid_area": null,
      "grid_auto_columns": null,
      "grid_auto_flow": null,
      "grid_auto_rows": null,
      "grid_column": null,
      "grid_gap": null,
      "grid_row": null,
      "grid_template_areas": null,
      "grid_template_columns": null,
      "grid_template_rows": null,
      "height": null,
      "justify_content": null,
      "justify_items": null,
      "left": null,
      "margin": null,
      "max_height": null,
      "max_width": null,
      "min_height": null,
      "min_width": null,
      "object_fit": null,
      "object_position": null,
      "order": null,
      "overflow": null,
      "overflow_x": null,
      "overflow_y": null,
      "padding": null,
      "right": null,
      "top": null,
      "visibility": null,
      "width": null
     }
    },
    "46102fc4d01140b58bd9a068842e357a": {
     "model_module": "@jupyter-widgets/controls",
     "model_module_version": "1.5.0",
     "model_name": "FloatProgressModel",
     "state": {
      "_dom_classes": [],
      "_model_module": "@jupyter-widgets/controls",
      "_model_module_version": "1.5.0",
      "_model_name": "FloatProgressModel",
      "_view_count": null,
      "_view_module": "@jupyter-widgets/controls",
      "_view_module_version": "1.5.0",
      "_view_name": "ProgressView",
      "bar_style": "success",
      "description": "",
      "description_tooltip": null,
      "layout": "IPY_MODEL_e08e461ca2d748f0a6fa93b7e3187576",
      "max": 20979968,
      "min": 0,
      "orientation": "horizontal",
      "style": "IPY_MODEL_1d57d51b75ba4ef2b0cfe779c799a71a",
      "value": 20979968
     }
    },
    "4a41ed02385646c6973817695dfff688": {
     "model_module": "@jupyter-widgets/controls",
     "model_module_version": "1.5.0",
     "model_name": "HBoxModel",
     "state": {
      "_dom_classes": [],
      "_model_module": "@jupyter-widgets/controls",
      "_model_module_version": "1.5.0",
      "_model_name": "HBoxModel",
      "_view_count": null,
      "_view_module": "@jupyter-widgets/controls",
      "_view_module_version": "1.5.0",
      "_view_name": "HBoxView",
      "box_style": "",
      "children": [
       "IPY_MODEL_af1fb7b16f1c4f9999b353388f7b2a80",
       "IPY_MODEL_76b938fd38e34454ab3e47f60ac58684",
       "IPY_MODEL_75d49e5bf5f84f41b4a62cb6c82c9272"
      ],
      "layout": "IPY_MODEL_6bfa338245d24f4b959ab4e516af5a3f"
     }
    },
    "4c9dda8344d54bf4a134b6469b1a158a": {
     "model_module": "@jupyter-widgets/controls",
     "model_module_version": "1.5.0",
     "model_name": "HBoxModel",
     "state": {
      "_dom_classes": [],
      "_model_module": "@jupyter-widgets/controls",
      "_model_module_version": "1.5.0",
      "_model_name": "HBoxModel",
      "_view_count": null,
      "_view_module": "@jupyter-widgets/controls",
      "_view_module_version": "1.5.0",
      "_view_name": "HBoxView",
      "box_style": "",
      "children": [
       "IPY_MODEL_7deb84c37d574024ad4270af060398a1",
       "IPY_MODEL_e703b514d4f14a30806e20d767b4acea",
       "IPY_MODEL_bf09429baccc48e2a0b6abea37e51a59"
      ],
      "layout": "IPY_MODEL_a4ffc2fbaa704d7984207aef85b9c597"
     }
    },
    "5073a894d97340ac88532f265ff44750": {
     "model_module": "@jupyter-widgets/base",
     "model_module_version": "1.2.0",
     "model_name": "LayoutModel",
     "state": {
      "_model_module": "@jupyter-widgets/base",
      "_model_module_version": "1.2.0",
      "_model_name": "LayoutModel",
      "_view_count": null,
      "_view_module": "@jupyter-widgets/base",
      "_view_module_version": "1.2.0",
      "_view_name": "LayoutView",
      "align_content": null,
      "align_items": null,
      "align_self": null,
      "border": null,
      "bottom": null,
      "display": null,
      "flex": null,
      "flex_flow": null,
      "grid_area": null,
      "grid_auto_columns": null,
      "grid_auto_flow": null,
      "grid_auto_rows": null,
      "grid_column": null,
      "grid_gap": null,
      "grid_row": null,
      "grid_template_areas": null,
      "grid_template_columns": null,
      "grid_template_rows": null,
      "height": null,
      "justify_content": null,
      "justify_items": null,
      "left": null,
      "margin": null,
      "max_height": null,
      "max_width": null,
      "min_height": null,
      "min_width": null,
      "object_fit": null,
      "object_position": null,
      "order": null,
      "overflow": null,
      "overflow_x": null,
      "overflow_y": null,
      "padding": null,
      "right": null,
      "top": null,
      "visibility": null,
      "width": null
     }
    },
    "66faa8fa22c94d8285d1d6c555a6c719": {
     "model_module": "@jupyter-widgets/controls",
     "model_module_version": "1.5.0",
     "model_name": "DescriptionStyleModel",
     "state": {
      "_model_module": "@jupyter-widgets/controls",
      "_model_module_version": "1.5.0",
      "_model_name": "DescriptionStyleModel",
      "_view_count": null,
      "_view_module": "@jupyter-widgets/base",
      "_view_module_version": "1.2.0",
      "_view_name": "StyleView",
      "description_width": ""
     }
    },
    "678c19ef83f8422285e717c9ef3cd6dd": {
     "model_module": "@jupyter-widgets/controls",
     "model_module_version": "1.5.0",
     "model_name": "FloatProgressModel",
     "state": {
      "_dom_classes": [],
      "_model_module": "@jupyter-widgets/controls",
      "_model_module_version": "1.5.0",
      "_model_name": "FloatProgressModel",
      "_view_count": null,
      "_view_module": "@jupyter-widgets/controls",
      "_view_module_version": "1.5.0",
      "_view_name": "ProgressView",
      "bar_style": "success",
      "description": "",
      "description_tooltip": null,
      "layout": "IPY_MODEL_9b6d08848ce940b6b4755e6da51decb6",
      "max": 50000,
      "min": 0,
      "orientation": "horizontal",
      "style": "IPY_MODEL_f31cfded940a483d88bb092c171c69b5",
      "value": 50000
     }
    },
    "695e06ee4e5848fd87570055c645ea70": {
     "model_module": "@jupyter-widgets/controls",
     "model_module_version": "1.5.0",
     "model_name": "FloatProgressModel",
     "state": {
      "_dom_classes": [],
      "_model_module": "@jupyter-widgets/controls",
      "_model_module_version": "1.5.0",
      "_model_name": "FloatProgressModel",
      "_view_count": null,
      "_view_module": "@jupyter-widgets/controls",
      "_view_module_version": "1.5.0",
      "_view_name": "ProgressView",
      "bar_style": "success",
      "description": "",
      "description_tooltip": null,
      "layout": "IPY_MODEL_3828f37ee7e74d76bc82793eadf94ff3",
      "max": 20470363,
      "min": 0,
      "orientation": "horizontal",
      "style": "IPY_MODEL_1662084f612a401ea63ec7dbe396c65e",
      "value": 20470363
     }
    },
    "6a7e7807d6944655a70bd6b25fcc0582": {
     "model_module": "@jupyter-widgets/base",
     "model_module_version": "1.2.0",
     "model_name": "LayoutModel",
     "state": {
      "_model_module": "@jupyter-widgets/base",
      "_model_module_version": "1.2.0",
      "_model_name": "LayoutModel",
      "_view_count": null,
      "_view_module": "@jupyter-widgets/base",
      "_view_module_version": "1.2.0",
      "_view_name": "LayoutView",
      "align_content": null,
      "align_items": null,
      "align_self": null,
      "border": null,
      "bottom": null,
      "display": null,
      "flex": null,
      "flex_flow": null,
      "grid_area": null,
      "grid_auto_columns": null,
      "grid_auto_flow": null,
      "grid_auto_rows": null,
      "grid_column": null,
      "grid_gap": null,
      "grid_row": null,
      "grid_template_areas": null,
      "grid_template_columns": null,
      "grid_template_rows": null,
      "height": null,
      "justify_content": null,
      "justify_items": null,
      "left": null,
      "margin": null,
      "max_height": null,
      "max_width": null,
      "min_height": null,
      "min_width": null,
      "object_fit": null,
      "object_position": null,
      "order": null,
      "overflow": null,
      "overflow_x": null,
      "overflow_y": null,
      "padding": null,
      "right": null,
      "top": null,
      "visibility": null,
      "width": null
     }
    },
    "6bfa338245d24f4b959ab4e516af5a3f": {
     "model_module": "@jupyter-widgets/base",
     "model_module_version": "1.2.0",
     "model_name": "LayoutModel",
     "state": {
      "_model_module": "@jupyter-widgets/base",
      "_model_module_version": "1.2.0",
      "_model_name": "LayoutModel",
      "_view_count": null,
      "_view_module": "@jupyter-widgets/base",
      "_view_module_version": "1.2.0",
      "_view_name": "LayoutView",
      "align_content": null,
      "align_items": null,
      "align_self": null,
      "border": null,
      "bottom": null,
      "display": null,
      "flex": null,
      "flex_flow": null,
      "grid_area": null,
      "grid_auto_columns": null,
      "grid_auto_flow": null,
      "grid_auto_rows": null,
      "grid_column": null,
      "grid_gap": null,
      "grid_row": null,
      "grid_template_areas": null,
      "grid_template_columns": null,
      "grid_template_rows": null,
      "height": null,
      "justify_content": null,
      "justify_items": null,
      "left": null,
      "margin": null,
      "max_height": null,
      "max_width": null,
      "min_height": null,
      "min_width": null,
      "object_fit": null,
      "object_position": null,
      "order": null,
      "overflow": null,
      "overflow_x": null,
      "overflow_y": null,
      "padding": null,
      "right": null,
      "top": null,
      "visibility": null,
      "width": null
     }
    },
    "6d94a0fabd7842059e6d20a19d16c99a": {
     "model_module": "@jupyter-widgets/controls",
     "model_module_version": "1.5.0",
     "model_name": "DescriptionStyleModel",
     "state": {
      "_model_module": "@jupyter-widgets/controls",
      "_model_module_version": "1.5.0",
      "_model_name": "DescriptionStyleModel",
      "_view_count": null,
      "_view_module": "@jupyter-widgets/base",
      "_view_module_version": "1.2.0",
      "_view_name": "StyleView",
      "description_width": ""
     }
    },
    "6ee5d9d573f642b5a980a55f6329e1cf": {
     "model_module": "@jupyter-widgets/controls",
     "model_module_version": "1.5.0",
     "model_name": "FloatProgressModel",
     "state": {
      "_dom_classes": [],
      "_model_module": "@jupyter-widgets/controls",
      "_model_module_version": "1.5.0",
      "_model_name": "FloatProgressModel",
      "_view_count": null,
      "_view_module": "@jupyter-widgets/controls",
      "_view_module_version": "1.5.0",
      "_view_name": "ProgressView",
      "bar_style": "success",
      "description": "",
      "description_tooltip": null,
      "layout": "IPY_MODEL_ec4e2d81a6a14d8a8b784825fea87247",
      "max": 25000,
      "min": 0,
      "orientation": "horizontal",
      "style": "IPY_MODEL_315b2323332345209517e40fbf572ef1",
      "value": 25000
     }
    },
    "70ca39e135ae438cb8a5067e8b8bab1a": {
     "model_module": "@jupyter-widgets/base",
     "model_module_version": "1.2.0",
     "model_name": "LayoutModel",
     "state": {
      "_model_module": "@jupyter-widgets/base",
      "_model_module_version": "1.2.0",
      "_model_name": "LayoutModel",
      "_view_count": null,
      "_view_module": "@jupyter-widgets/base",
      "_view_module_version": "1.2.0",
      "_view_name": "LayoutView",
      "align_content": null,
      "align_items": null,
      "align_self": null,
      "border": null,
      "bottom": null,
      "display": null,
      "flex": null,
      "flex_flow": null,
      "grid_area": null,
      "grid_auto_columns": null,
      "grid_auto_flow": null,
      "grid_auto_rows": null,
      "grid_column": null,
      "grid_gap": null,
      "grid_row": null,
      "grid_template_areas": null,
      "grid_template_columns": null,
      "grid_template_rows": null,
      "height": null,
      "justify_content": null,
      "justify_items": null,
      "left": null,
      "margin": null,
      "max_height": null,
      "max_width": null,
      "min_height": null,
      "min_width": null,
      "object_fit": null,
      "object_position": null,
      "order": null,
      "overflow": null,
      "overflow_x": null,
      "overflow_y": null,
      "padding": null,
      "right": null,
      "top": null,
      "visibility": null,
      "width": null
     }
    },
    "7509ee0d77654279a05d745cadb7ce89": {
     "model_module": "@jupyter-widgets/controls",
     "model_module_version": "1.5.0",
     "model_name": "DescriptionStyleModel",
     "state": {
      "_model_module": "@jupyter-widgets/controls",
      "_model_module_version": "1.5.0",
      "_model_name": "DescriptionStyleModel",
      "_view_count": null,
      "_view_module": "@jupyter-widgets/base",
      "_view_module_version": "1.2.0",
      "_view_name": "StyleView",
      "description_width": ""
     }
    },
    "75d49e5bf5f84f41b4a62cb6c82c9272": {
     "model_module": "@jupyter-widgets/controls",
     "model_module_version": "1.5.0",
     "model_name": "HTMLModel",
     "state": {
      "_dom_classes": [],
      "_model_module": "@jupyter-widgets/controls",
      "_model_module_version": "1.5.0",
      "_model_name": "HTMLModel",
      "_view_count": null,
      "_view_module": "@jupyter-widgets/controls",
      "_view_module_version": "1.5.0",
      "_view_name": "HTMLView",
      "description": "",
      "description_tooltip": null,
      "layout": "IPY_MODEL_170f3d9983ca452d800b5e88c9ac4c7b",
      "placeholder": "​",
      "style": "IPY_MODEL_66faa8fa22c94d8285d1d6c555a6c719",
      "value": " 7.81k/7.81k [00:00&lt;00:00, 427kB/s]"
     }
    },
    "761abe0897224fd5a34d439b4f259343": {
     "model_module": "@jupyter-widgets/controls",
     "model_module_version": "1.5.0",
     "model_name": "HTMLModel",
     "state": {
      "_dom_classes": [],
      "_model_module": "@jupyter-widgets/controls",
      "_model_module_version": "1.5.0",
      "_model_name": "HTMLModel",
      "_view_count": null,
      "_view_module": "@jupyter-widgets/controls",
      "_view_module_version": "1.5.0",
      "_view_name": "HTMLView",
      "description": "",
      "description_tooltip": null,
      "layout": "IPY_MODEL_be2eb9d8feec4c5a8aaf0e648fbbe85b",
      "placeholder": "​",
      "style": "IPY_MODEL_3e2b4262b9104708b3bb7eecb9b29c4a",
      "value": " 20.5M/20.5M [00:00&lt;00:00, 57.3MB/s]"
     }
    },
    "76b938fd38e34454ab3e47f60ac58684": {
     "model_module": "@jupyter-widgets/controls",
     "model_module_version": "1.5.0",
     "model_name": "FloatProgressModel",
     "state": {
      "_dom_classes": [],
      "_model_module": "@jupyter-widgets/controls",
      "_model_module_version": "1.5.0",
      "_model_name": "FloatProgressModel",
      "_view_count": null,
      "_view_module": "@jupyter-widgets/controls",
      "_view_module_version": "1.5.0",
      "_view_name": "ProgressView",
      "bar_style": "success",
      "description": "",
      "description_tooltip": null,
      "layout": "IPY_MODEL_0e38ab29acb849e5928085ef287305a1",
      "max": 7809,
      "min": 0,
      "orientation": "horizontal",
      "style": "IPY_MODEL_dec8d394cc014dff985aca7acb761f75",
      "value": 7809
     }
    },
    "787a22d1db22480ab942429d83bcde00": {
     "model_module": "@jupyter-widgets/controls",
     "model_module_version": "1.5.0",
     "model_name": "HTMLModel",
     "state": {
      "_dom_classes": [],
      "_model_module": "@jupyter-widgets/controls",
      "_model_module_version": "1.5.0",
      "_model_name": "HTMLModel",
      "_view_count": null,
      "_view_module": "@jupyter-widgets/controls",
      "_view_module_version": "1.5.0",
      "_view_name": "HTMLView",
      "description": "",
      "description_tooltip": null,
      "layout": "IPY_MODEL_3339147e1e8144bcbc455198b7440a91",
      "placeholder": "​",
      "style": "IPY_MODEL_d3f056ed090b4264b4c0e32ab17494e0",
      "value": "Downloading data: 100%"
     }
    },
    "78941a78cddb4f3e89d0cba487f10cb5": {
     "model_module": "@jupyter-widgets/controls",
     "model_module_version": "1.5.0",
     "model_name": "FloatProgressModel",
     "state": {
      "_dom_classes": [],
      "_model_module": "@jupyter-widgets/controls",
      "_model_module_version": "1.5.0",
      "_model_name": "FloatProgressModel",
      "_view_count": null,
      "_view_module": "@jupyter-widgets/controls",
      "_view_module_version": "1.5.0",
      "_view_name": "ProgressView",
      "bar_style": "success",
      "description": "",
      "description_tooltip": null,
      "layout": "IPY_MODEL_5073a894d97340ac88532f265ff44750",
      "max": 41996509,
      "min": 0,
      "orientation": "horizontal",
      "style": "IPY_MODEL_4363d78d158944288dc1ea621dd496f2",
      "value": 41996509
     }
    },
    "7a2dbaebcd514fc4b1a81dfeeca55b9e": {
     "model_module": "@jupyter-widgets/base",
     "model_module_version": "1.2.0",
     "model_name": "LayoutModel",
     "state": {
      "_model_module": "@jupyter-widgets/base",
      "_model_module_version": "1.2.0",
      "_model_name": "LayoutModel",
      "_view_count": null,
      "_view_module": "@jupyter-widgets/base",
      "_view_module_version": "1.2.0",
      "_view_name": "LayoutView",
      "align_content": null,
      "align_items": null,
      "align_self": null,
      "border": null,
      "bottom": null,
      "display": null,
      "flex": null,
      "flex_flow": null,
      "grid_area": null,
      "grid_auto_columns": null,
      "grid_auto_flow": null,
      "grid_auto_rows": null,
      "grid_column": null,
      "grid_gap": null,
      "grid_row": null,
      "grid_template_areas": null,
      "grid_template_columns": null,
      "grid_template_rows": null,
      "height": null,
      "justify_content": null,
      "justify_items": null,
      "left": null,
      "margin": null,
      "max_height": null,
      "max_width": null,
      "min_height": null,
      "min_width": null,
      "object_fit": null,
      "object_position": null,
      "order": null,
      "overflow": null,
      "overflow_x": null,
      "overflow_y": null,
      "padding": null,
      "right": null,
      "top": null,
      "visibility": null,
      "width": null
     }
    },
    "7deb84c37d574024ad4270af060398a1": {
     "model_module": "@jupyter-widgets/controls",
     "model_module_version": "1.5.0",
     "model_name": "HTMLModel",
     "state": {
      "_dom_classes": [],
      "_model_module": "@jupyter-widgets/controls",
      "_model_module_version": "1.5.0",
      "_model_name": "HTMLModel",
      "_view_count": null,
      "_view_module": "@jupyter-widgets/controls",
      "_view_module_version": "1.5.0",
      "_view_name": "HTMLView",
      "description": "",
      "description_tooltip": null,
      "layout": "IPY_MODEL_6a7e7807d6944655a70bd6b25fcc0582",
      "placeholder": "​",
      "style": "IPY_MODEL_151b7c94ff20491fba78c328490c1828",
      "value": "Generating test split: 100%"
     }
    },
    "807aa8939503405ab822d6acfc345eba": {
     "model_module": "@jupyter-widgets/controls",
     "model_module_version": "1.5.0",
     "model_name": "DescriptionStyleModel",
     "state": {
      "_model_module": "@jupyter-widgets/controls",
      "_model_module_version": "1.5.0",
      "_model_name": "DescriptionStyleModel",
      "_view_count": null,
      "_view_module": "@jupyter-widgets/base",
      "_view_module_version": "1.2.0",
      "_view_name": "StyleView",
      "description_width": ""
     }
    },
    "8567b92d3bf740feb06dd1784b1cb0b2": {
     "model_module": "@jupyter-widgets/base",
     "model_module_version": "1.2.0",
     "model_name": "LayoutModel",
     "state": {
      "_model_module": "@jupyter-widgets/base",
      "_model_module_version": "1.2.0",
      "_model_name": "LayoutModel",
      "_view_count": null,
      "_view_module": "@jupyter-widgets/base",
      "_view_module_version": "1.2.0",
      "_view_name": "LayoutView",
      "align_content": null,
      "align_items": null,
      "align_self": null,
      "border": null,
      "bottom": null,
      "display": null,
      "flex": null,
      "flex_flow": null,
      "grid_area": null,
      "grid_auto_columns": null,
      "grid_auto_flow": null,
      "grid_auto_rows": null,
      "grid_column": null,
      "grid_gap": null,
      "grid_row": null,
      "grid_template_areas": null,
      "grid_template_columns": null,
      "grid_template_rows": null,
      "height": null,
      "justify_content": null,
      "justify_items": null,
      "left": null,
      "margin": null,
      "max_height": null,
      "max_width": null,
      "min_height": null,
      "min_width": null,
      "object_fit": null,
      "object_position": null,
      "order": null,
      "overflow": null,
      "overflow_x": null,
      "overflow_y": null,
      "padding": null,
      "right": null,
      "top": null,
      "visibility": null,
      "width": null
     }
    },
    "87b7b9fa98914cd1878e1d3cc3d8711d": {
     "model_module": "@jupyter-widgets/base",
     "model_module_version": "1.2.0",
     "model_name": "LayoutModel",
     "state": {
      "_model_module": "@jupyter-widgets/base",
      "_model_module_version": "1.2.0",
      "_model_name": "LayoutModel",
      "_view_count": null,
      "_view_module": "@jupyter-widgets/base",
      "_view_module_version": "1.2.0",
      "_view_name": "LayoutView",
      "align_content": null,
      "align_items": null,
      "align_self": null,
      "border": null,
      "bottom": null,
      "display": null,
      "flex": null,
      "flex_flow": null,
      "grid_area": null,
      "grid_auto_columns": null,
      "grid_auto_flow": null,
      "grid_auto_rows": null,
      "grid_column": null,
      "grid_gap": null,
      "grid_row": null,
      "grid_template_areas": null,
      "grid_template_columns": null,
      "grid_template_rows": null,
      "height": null,
      "justify_content": null,
      "justify_items": null,
      "left": null,
      "margin": null,
      "max_height": null,
      "max_width": null,
      "min_height": null,
      "min_width": null,
      "object_fit": null,
      "object_position": null,
      "order": null,
      "overflow": null,
      "overflow_x": null,
      "overflow_y": null,
      "padding": null,
      "right": null,
      "top": null,
      "visibility": null,
      "width": null
     }
    },
    "8c38c3e3174741fe88c5cd3066e0221f": {
     "model_module": "@jupyter-widgets/controls",
     "model_module_version": "1.5.0",
     "model_name": "DescriptionStyleModel",
     "state": {
      "_model_module": "@jupyter-widgets/controls",
      "_model_module_version": "1.5.0",
      "_model_name": "DescriptionStyleModel",
      "_view_count": null,
      "_view_module": "@jupyter-widgets/base",
      "_view_module_version": "1.2.0",
      "_view_name": "StyleView",
      "description_width": ""
     }
    },
    "9110f216b2424cf688ee00f6aa3b7b58": {
     "model_module": "@jupyter-widgets/base",
     "model_module_version": "1.2.0",
     "model_name": "LayoutModel",
     "state": {
      "_model_module": "@jupyter-widgets/base",
      "_model_module_version": "1.2.0",
      "_model_name": "LayoutModel",
      "_view_count": null,
      "_view_module": "@jupyter-widgets/base",
      "_view_module_version": "1.2.0",
      "_view_name": "LayoutView",
      "align_content": null,
      "align_items": null,
      "align_self": null,
      "border": null,
      "bottom": null,
      "display": null,
      "flex": null,
      "flex_flow": null,
      "grid_area": null,
      "grid_auto_columns": null,
      "grid_auto_flow": null,
      "grid_auto_rows": null,
      "grid_column": null,
      "grid_gap": null,
      "grid_row": null,
      "grid_template_areas": null,
      "grid_template_columns": null,
      "grid_template_rows": null,
      "height": null,
      "justify_content": null,
      "justify_items": null,
      "left": null,
      "margin": null,
      "max_height": null,
      "max_width": null,
      "min_height": null,
      "min_width": null,
      "object_fit": null,
      "object_position": null,
      "order": null,
      "overflow": null,
      "overflow_x": null,
      "overflow_y": null,
      "padding": null,
      "right": null,
      "top": null,
      "visibility": null,
      "width": null
     }
    },
    "9b6d08848ce940b6b4755e6da51decb6": {
     "model_module": "@jupyter-widgets/base",
     "model_module_version": "1.2.0",
     "model_name": "LayoutModel",
     "state": {
      "_model_module": "@jupyter-widgets/base",
      "_model_module_version": "1.2.0",
      "_model_name": "LayoutModel",
      "_view_count": null,
      "_view_module": "@jupyter-widgets/base",
      "_view_module_version": "1.2.0",
      "_view_name": "LayoutView",
      "align_content": null,
      "align_items": null,
      "align_self": null,
      "border": null,
      "bottom": null,
      "display": null,
      "flex": null,
      "flex_flow": null,
      "grid_area": null,
      "grid_auto_columns": null,
      "grid_auto_flow": null,
      "grid_auto_rows": null,
      "grid_column": null,
      "grid_gap": null,
      "grid_row": null,
      "grid_template_areas": null,
      "grid_template_columns": null,
      "grid_template_rows": null,
      "height": null,
      "justify_content": null,
      "justify_items": null,
      "left": null,
      "margin": null,
      "max_height": null,
      "max_width": null,
      "min_height": null,
      "min_width": null,
      "object_fit": null,
      "object_position": null,
      "order": null,
      "overflow": null,
      "overflow_x": null,
      "overflow_y": null,
      "padding": null,
      "right": null,
      "top": null,
      "visibility": null,
      "width": null
     }
    },
    "9e750d80ed0f437fa450e84718bb89e5": {
     "model_module": "@jupyter-widgets/controls",
     "model_module_version": "1.5.0",
     "model_name": "DescriptionStyleModel",
     "state": {
      "_model_module": "@jupyter-widgets/controls",
      "_model_module_version": "1.5.0",
      "_model_name": "DescriptionStyleModel",
      "_view_count": null,
      "_view_module": "@jupyter-widgets/base",
      "_view_module_version": "1.2.0",
      "_view_name": "StyleView",
      "description_width": ""
     }
    },
    "a3f8933c4622443997f2eb603fcce0fd": {
     "model_module": "@jupyter-widgets/controls",
     "model_module_version": "1.5.0",
     "model_name": "HBoxModel",
     "state": {
      "_dom_classes": [],
      "_model_module": "@jupyter-widgets/controls",
      "_model_module_version": "1.5.0",
      "_model_name": "HBoxModel",
      "_view_count": null,
      "_view_module": "@jupyter-widgets/controls",
      "_view_module_version": "1.5.0",
      "_view_name": "HBoxView",
      "box_style": "",
      "children": [
       "IPY_MODEL_1afcb4d690a04d3497497b7bbc42186a",
       "IPY_MODEL_6ee5d9d573f642b5a980a55f6329e1cf",
       "IPY_MODEL_c8956b3bf2a949e8b8f3e0c4c819d2c3"
      ],
      "layout": "IPY_MODEL_f22c101745a84e2aa5e3c822afc06835"
     }
    },
    "a4ffc2fbaa704d7984207aef85b9c597": {
     "model_module": "@jupyter-widgets/base",
     "model_module_version": "1.2.0",
     "model_name": "LayoutModel",
     "state": {
      "_model_module": "@jupyter-widgets/base",
      "_model_module_version": "1.2.0",
      "_model_name": "LayoutModel",
      "_view_count": null,
      "_view_module": "@jupyter-widgets/base",
      "_view_module_version": "1.2.0",
      "_view_name": "LayoutView",
      "align_content": null,
      "align_items": null,
      "align_self": null,
      "border": null,
      "bottom": null,
      "display": null,
      "flex": null,
      "flex_flow": null,
      "grid_area": null,
      "grid_auto_columns": null,
      "grid_auto_flow": null,
      "grid_auto_rows": null,
      "grid_column": null,
      "grid_gap": null,
      "grid_row": null,
      "grid_template_areas": null,
      "grid_template_columns": null,
      "grid_template_rows": null,
      "height": null,
      "justify_content": null,
      "justify_items": null,
      "left": null,
      "margin": null,
      "max_height": null,
      "max_width": null,
      "min_height": null,
      "min_width": null,
      "object_fit": null,
      "object_position": null,
      "order": null,
      "overflow": null,
      "overflow_x": null,
      "overflow_y": null,
      "padding": null,
      "right": null,
      "top": null,
      "visibility": null,
      "width": null
     }
    },
    "a55154307a2e462e9683700dbe21cca5": {
     "model_module": "@jupyter-widgets/controls",
     "model_module_version": "1.5.0",
     "model_name": "HBoxModel",
     "state": {
      "_dom_classes": [],
      "_model_module": "@jupyter-widgets/controls",
      "_model_module_version": "1.5.0",
      "_model_name": "HBoxModel",
      "_view_count": null,
      "_view_module": "@jupyter-widgets/controls",
      "_view_module_version": "1.5.0",
      "_view_name": "HBoxView",
      "box_style": "",
      "children": [
       "IPY_MODEL_787a22d1db22480ab942429d83bcde00",
       "IPY_MODEL_78941a78cddb4f3e89d0cba487f10cb5",
       "IPY_MODEL_1d4076dce30d43629a65de1c37ead13f"
      ],
      "layout": "IPY_MODEL_0d948ab967d24e2ea066abb93e094a50"
     }
    },
    "af1fb7b16f1c4f9999b353388f7b2a80": {
     "model_module": "@jupyter-widgets/controls",
     "model_module_version": "1.5.0",
     "model_name": "HTMLModel",
     "state": {
      "_dom_classes": [],
      "_model_module": "@jupyter-widgets/controls",
      "_model_module_version": "1.5.0",
      "_model_name": "HTMLModel",
      "_view_count": null,
      "_view_module": "@jupyter-widgets/controls",
      "_view_module_version": "1.5.0",
      "_view_name": "HTMLView",
      "description": "",
      "description_tooltip": null,
      "layout": "IPY_MODEL_bce83b8cb02a4d08b31bcb2a86fdcee7",
      "placeholder": "​",
      "style": "IPY_MODEL_807aa8939503405ab822d6acfc345eba",
      "value": "Downloading readme: 100%"
     }
    },
    "ba5cd8b0275f4c0ba211e2e5ea9a9cee": {
     "model_module": "@jupyter-widgets/controls",
     "model_module_version": "1.5.0",
     "model_name": "ProgressStyleModel",
     "state": {
      "_model_module": "@jupyter-widgets/controls",
      "_model_module_version": "1.5.0",
      "_model_name": "ProgressStyleModel",
      "_view_count": null,
      "_view_module": "@jupyter-widgets/base",
      "_view_module_version": "1.2.0",
      "_view_name": "StyleView",
      "bar_color": null,
      "description_width": ""
     }
    },
    "bce83b8cb02a4d08b31bcb2a86fdcee7": {
     "model_module": "@jupyter-widgets/base",
     "model_module_version": "1.2.0",
     "model_name": "LayoutModel",
     "state": {
      "_model_module": "@jupyter-widgets/base",
      "_model_module_version": "1.2.0",
      "_model_name": "LayoutModel",
      "_view_count": null,
      "_view_module": "@jupyter-widgets/base",
      "_view_module_version": "1.2.0",
      "_view_name": "LayoutView",
      "align_content": null,
      "align_items": null,
      "align_self": null,
      "border": null,
      "bottom": null,
      "display": null,
      "flex": null,
      "flex_flow": null,
      "grid_area": null,
      "grid_auto_columns": null,
      "grid_auto_flow": null,
      "grid_auto_rows": null,
      "grid_column": null,
      "grid_gap": null,
      "grid_row": null,
      "grid_template_areas": null,
      "grid_template_columns": null,
      "grid_template_rows": null,
      "height": null,
      "justify_content": null,
      "justify_items": null,
      "left": null,
      "margin": null,
      "max_height": null,
      "max_width": null,
      "min_height": null,
      "min_width": null,
      "object_fit": null,
      "object_position": null,
      "order": null,
      "overflow": null,
      "overflow_x": null,
      "overflow_y": null,
      "padding": null,
      "right": null,
      "top": null,
      "visibility": null,
      "width": null
     }
    },
    "be2eb9d8feec4c5a8aaf0e648fbbe85b": {
     "model_module": "@jupyter-widgets/base",
     "model_module_version": "1.2.0",
     "model_name": "LayoutModel",
     "state": {
      "_model_module": "@jupyter-widgets/base",
      "_model_module_version": "1.2.0",
      "_model_name": "LayoutModel",
      "_view_count": null,
      "_view_module": "@jupyter-widgets/base",
      "_view_module_version": "1.2.0",
      "_view_name": "LayoutView",
      "align_content": null,
      "align_items": null,
      "align_self": null,
      "border": null,
      "bottom": null,
      "display": null,
      "flex": null,
      "flex_flow": null,
      "grid_area": null,
      "grid_auto_columns": null,
      "grid_auto_flow": null,
      "grid_auto_rows": null,
      "grid_column": null,
      "grid_gap": null,
      "grid_row": null,
      "grid_template_areas": null,
      "grid_template_columns": null,
      "grid_template_rows": null,
      "height": null,
      "justify_content": null,
      "justify_items": null,
      "left": null,
      "margin": null,
      "max_height": null,
      "max_width": null,
      "min_height": null,
      "min_width": null,
      "object_fit": null,
      "object_position": null,
      "order": null,
      "overflow": null,
      "overflow_x": null,
      "overflow_y": null,
      "padding": null,
      "right": null,
      "top": null,
      "visibility": null,
      "width": null
     }
    },
    "bf032c8bc6624a3bab7245d6432c8ebb": {
     "model_module": "@jupyter-widgets/controls",
     "model_module_version": "1.5.0",
     "model_name": "HBoxModel",
     "state": {
      "_dom_classes": [],
      "_model_module": "@jupyter-widgets/controls",
      "_model_module_version": "1.5.0",
      "_model_name": "HBoxModel",
      "_view_count": null,
      "_view_module": "@jupyter-widgets/controls",
      "_view_module_version": "1.5.0",
      "_view_name": "HBoxView",
      "box_style": "",
      "children": [
       "IPY_MODEL_1f0d36663882404999bca6e46dda7a2e",
       "IPY_MODEL_678c19ef83f8422285e717c9ef3cd6dd",
       "IPY_MODEL_10a1f9de785942ce84dbff2db8deed89"
      ],
      "layout": "IPY_MODEL_0e8681c1966547bf93f9a7481fffe9d7"
     }
    },
    "bf06121c8cab459d9f2a51d68aa459a4": {
     "model_module": "@jupyter-widgets/controls",
     "model_module_version": "1.5.0",
     "model_name": "HTMLModel",
     "state": {
      "_dom_classes": [],
      "_model_module": "@jupyter-widgets/controls",
      "_model_module_version": "1.5.0",
      "_model_name": "HTMLModel",
      "_view_count": null,
      "_view_module": "@jupyter-widgets/controls",
      "_view_module_version": "1.5.0",
      "_view_name": "HTMLView",
      "description": "",
      "description_tooltip": null,
      "layout": "IPY_MODEL_7a2dbaebcd514fc4b1a81dfeeca55b9e",
      "placeholder": "​",
      "style": "IPY_MODEL_1c41d72a61994d3db63bca3eeb3947bb",
      "value": "Downloading data: 100%"
     }
    },
    "bf09429baccc48e2a0b6abea37e51a59": {
     "model_module": "@jupyter-widgets/controls",
     "model_module_version": "1.5.0",
     "model_name": "HTMLModel",
     "state": {
      "_dom_classes": [],
      "_model_module": "@jupyter-widgets/controls",
      "_model_module_version": "1.5.0",
      "_model_name": "HTMLModel",
      "_view_count": null,
      "_view_module": "@jupyter-widgets/controls",
      "_view_module_version": "1.5.0",
      "_view_name": "HTMLView",
      "description": "",
      "description_tooltip": null,
      "layout": "IPY_MODEL_15768edb66e7438f882f43c634caa448",
      "placeholder": "​",
      "style": "IPY_MODEL_6d94a0fabd7842059e6d20a19d16c99a",
      "value": " 25000/25000 [00:00&lt;00:00, 136615.74 examples/s]"
     }
    },
    "c8956b3bf2a949e8b8f3e0c4c819d2c3": {
     "model_module": "@jupyter-widgets/controls",
     "model_module_version": "1.5.0",
     "model_name": "HTMLModel",
     "state": {
      "_dom_classes": [],
      "_model_module": "@jupyter-widgets/controls",
      "_model_module_version": "1.5.0",
      "_model_name": "HTMLModel",
      "_view_count": null,
      "_view_module": "@jupyter-widgets/controls",
      "_view_module_version": "1.5.0",
      "_view_name": "HTMLView",
      "description": "",
      "description_tooltip": null,
      "layout": "IPY_MODEL_ee665b1471a14295a349c5567ddb3a28",
      "placeholder": "​",
      "style": "IPY_MODEL_7509ee0d77654279a05d745cadb7ce89",
      "value": " 25000/25000 [00:00&lt;00:00, 75525.54 examples/s]"
     }
    },
    "cd44da4ec14741769b75158a5e52f1ee": {
     "model_module": "@jupyter-widgets/controls",
     "model_module_version": "1.5.0",
     "model_name": "DescriptionStyleModel",
     "state": {
      "_model_module": "@jupyter-widgets/controls",
      "_model_module_version": "1.5.0",
      "_model_name": "DescriptionStyleModel",
      "_view_count": null,
      "_view_module": "@jupyter-widgets/base",
      "_view_module_version": "1.2.0",
      "_view_name": "StyleView",
      "description_width": ""
     }
    },
    "ced9c4fa59744a45be9bce8ebcea001a": {
     "model_module": "@jupyter-widgets/base",
     "model_module_version": "1.2.0",
     "model_name": "LayoutModel",
     "state": {
      "_model_module": "@jupyter-widgets/base",
      "_model_module_version": "1.2.0",
      "_model_name": "LayoutModel",
      "_view_count": null,
      "_view_module": "@jupyter-widgets/base",
      "_view_module_version": "1.2.0",
      "_view_name": "LayoutView",
      "align_content": null,
      "align_items": null,
      "align_self": null,
      "border": null,
      "bottom": null,
      "display": null,
      "flex": null,
      "flex_flow": null,
      "grid_area": null,
      "grid_auto_columns": null,
      "grid_auto_flow": null,
      "grid_auto_rows": null,
      "grid_column": null,
      "grid_gap": null,
      "grid_row": null,
      "grid_template_areas": null,
      "grid_template_columns": null,
      "grid_template_rows": null,
      "height": null,
      "justify_content": null,
      "justify_items": null,
      "left": null,
      "margin": null,
      "max_height": null,
      "max_width": null,
      "min_height": null,
      "min_width": null,
      "object_fit": null,
      "object_position": null,
      "order": null,
      "overflow": null,
      "overflow_x": null,
      "overflow_y": null,
      "padding": null,
      "right": null,
      "top": null,
      "visibility": null,
      "width": null
     }
    },
    "d2727ce462c94185a29d6207c8277017": {
     "model_module": "@jupyter-widgets/base",
     "model_module_version": "1.2.0",
     "model_name": "LayoutModel",
     "state": {
      "_model_module": "@jupyter-widgets/base",
      "_model_module_version": "1.2.0",
      "_model_name": "LayoutModel",
      "_view_count": null,
      "_view_module": "@jupyter-widgets/base",
      "_view_module_version": "1.2.0",
      "_view_name": "LayoutView",
      "align_content": null,
      "align_items": null,
      "align_self": null,
      "border": null,
      "bottom": null,
      "display": null,
      "flex": null,
      "flex_flow": null,
      "grid_area": null,
      "grid_auto_columns": null,
      "grid_auto_flow": null,
      "grid_auto_rows": null,
      "grid_column": null,
      "grid_gap": null,
      "grid_row": null,
      "grid_template_areas": null,
      "grid_template_columns": null,
      "grid_template_rows": null,
      "height": null,
      "justify_content": null,
      "justify_items": null,
      "left": null,
      "margin": null,
      "max_height": null,
      "max_width": null,
      "min_height": null,
      "min_width": null,
      "object_fit": null,
      "object_position": null,
      "order": null,
      "overflow": null,
      "overflow_x": null,
      "overflow_y": null,
      "padding": null,
      "right": null,
      "top": null,
      "visibility": null,
      "width": null
     }
    },
    "d3f056ed090b4264b4c0e32ab17494e0": {
     "model_module": "@jupyter-widgets/controls",
     "model_module_version": "1.5.0",
     "model_name": "DescriptionStyleModel",
     "state": {
      "_model_module": "@jupyter-widgets/controls",
      "_model_module_version": "1.5.0",
      "_model_name": "DescriptionStyleModel",
      "_view_count": null,
      "_view_module": "@jupyter-widgets/base",
      "_view_module_version": "1.2.0",
      "_view_name": "StyleView",
      "description_width": ""
     }
    },
    "dcfbab0c5c574e19abb9f67dda00ee00": {
     "model_module": "@jupyter-widgets/controls",
     "model_module_version": "1.5.0",
     "model_name": "DescriptionStyleModel",
     "state": {
      "_model_module": "@jupyter-widgets/controls",
      "_model_module_version": "1.5.0",
      "_model_name": "DescriptionStyleModel",
      "_view_count": null,
      "_view_module": "@jupyter-widgets/base",
      "_view_module_version": "1.2.0",
      "_view_name": "StyleView",
      "description_width": ""
     }
    },
    "dec8d394cc014dff985aca7acb761f75": {
     "model_module": "@jupyter-widgets/controls",
     "model_module_version": "1.5.0",
     "model_name": "ProgressStyleModel",
     "state": {
      "_model_module": "@jupyter-widgets/controls",
      "_model_module_version": "1.5.0",
      "_model_name": "ProgressStyleModel",
      "_view_count": null,
      "_view_module": "@jupyter-widgets/base",
      "_view_module_version": "1.2.0",
      "_view_name": "StyleView",
      "bar_color": null,
      "description_width": ""
     }
    },
    "e08e461ca2d748f0a6fa93b7e3187576": {
     "model_module": "@jupyter-widgets/base",
     "model_module_version": "1.2.0",
     "model_name": "LayoutModel",
     "state": {
      "_model_module": "@jupyter-widgets/base",
      "_model_module_version": "1.2.0",
      "_model_name": "LayoutModel",
      "_view_count": null,
      "_view_module": "@jupyter-widgets/base",
      "_view_module_version": "1.2.0",
      "_view_name": "LayoutView",
      "align_content": null,
      "align_items": null,
      "align_self": null,
      "border": null,
      "bottom": null,
      "display": null,
      "flex": null,
      "flex_flow": null,
      "grid_area": null,
      "grid_auto_columns": null,
      "grid_auto_flow": null,
      "grid_auto_rows": null,
      "grid_column": null,
      "grid_gap": null,
      "grid_row": null,
      "grid_template_areas": null,
      "grid_template_columns": null,
      "grid_template_rows": null,
      "height": null,
      "justify_content": null,
      "justify_items": null,
      "left": null,
      "margin": null,
      "max_height": null,
      "max_width": null,
      "min_height": null,
      "min_width": null,
      "object_fit": null,
      "object_position": null,
      "order": null,
      "overflow": null,
      "overflow_x": null,
      "overflow_y": null,
      "padding": null,
      "right": null,
      "top": null,
      "visibility": null,
      "width": null
     }
    },
    "e703b514d4f14a30806e20d767b4acea": {
     "model_module": "@jupyter-widgets/controls",
     "model_module_version": "1.5.0",
     "model_name": "FloatProgressModel",
     "state": {
      "_dom_classes": [],
      "_model_module": "@jupyter-widgets/controls",
      "_model_module_version": "1.5.0",
      "_model_name": "FloatProgressModel",
      "_view_count": null,
      "_view_module": "@jupyter-widgets/controls",
      "_view_module_version": "1.5.0",
      "_view_name": "ProgressView",
      "bar_style": "success",
      "description": "",
      "description_tooltip": null,
      "layout": "IPY_MODEL_43d17070da014657a61b618ef3d7bc2f",
      "max": 25000,
      "min": 0,
      "orientation": "horizontal",
      "style": "IPY_MODEL_ba5cd8b0275f4c0ba211e2e5ea9a9cee",
      "value": 25000
     }
    },
    "ec4e2d81a6a14d8a8b784825fea87247": {
     "model_module": "@jupyter-widgets/base",
     "model_module_version": "1.2.0",
     "model_name": "LayoutModel",
     "state": {
      "_model_module": "@jupyter-widgets/base",
      "_model_module_version": "1.2.0",
      "_model_name": "LayoutModel",
      "_view_count": null,
      "_view_module": "@jupyter-widgets/base",
      "_view_module_version": "1.2.0",
      "_view_name": "LayoutView",
      "align_content": null,
      "align_items": null,
      "align_self": null,
      "border": null,
      "bottom": null,
      "display": null,
      "flex": null,
      "flex_flow": null,
      "grid_area": null,
      "grid_auto_columns": null,
      "grid_auto_flow": null,
      "grid_auto_rows": null,
      "grid_column": null,
      "grid_gap": null,
      "grid_row": null,
      "grid_template_areas": null,
      "grid_template_columns": null,
      "grid_template_rows": null,
      "height": null,
      "justify_content": null,
      "justify_items": null,
      "left": null,
      "margin": null,
      "max_height": null,
      "max_width": null,
      "min_height": null,
      "min_width": null,
      "object_fit": null,
      "object_position": null,
      "order": null,
      "overflow": null,
      "overflow_x": null,
      "overflow_y": null,
      "padding": null,
      "right": null,
      "top": null,
      "visibility": null,
      "width": null
     }
    },
    "ee665b1471a14295a349c5567ddb3a28": {
     "model_module": "@jupyter-widgets/base",
     "model_module_version": "1.2.0",
     "model_name": "LayoutModel",
     "state": {
      "_model_module": "@jupyter-widgets/base",
      "_model_module_version": "1.2.0",
      "_model_name": "LayoutModel",
      "_view_count": null,
      "_view_module": "@jupyter-widgets/base",
      "_view_module_version": "1.2.0",
      "_view_name": "LayoutView",
      "align_content": null,
      "align_items": null,
      "align_self": null,
      "border": null,
      "bottom": null,
      "display": null,
      "flex": null,
      "flex_flow": null,
      "grid_area": null,
      "grid_auto_columns": null,
      "grid_auto_flow": null,
      "grid_auto_rows": null,
      "grid_column": null,
      "grid_gap": null,
      "grid_row": null,
      "grid_template_areas": null,
      "grid_template_columns": null,
      "grid_template_rows": null,
      "height": null,
      "justify_content": null,
      "justify_items": null,
      "left": null,
      "margin": null,
      "max_height": null,
      "max_width": null,
      "min_height": null,
      "min_width": null,
      "object_fit": null,
      "object_position": null,
      "order": null,
      "overflow": null,
      "overflow_x": null,
      "overflow_y": null,
      "padding": null,
      "right": null,
      "top": null,
      "visibility": null,
      "width": null
     }
    },
    "f12f3d12c71f428cabb5cb3c6dde666d": {
     "model_module": "@jupyter-widgets/controls",
     "model_module_version": "1.5.0",
     "model_name": "HBoxModel",
     "state": {
      "_dom_classes": [],
      "_model_module": "@jupyter-widgets/controls",
      "_model_module_version": "1.5.0",
      "_model_name": "HBoxModel",
      "_view_count": null,
      "_view_module": "@jupyter-widgets/controls",
      "_view_module_version": "1.5.0",
      "_view_name": "HBoxView",
      "box_style": "",
      "children": [
       "IPY_MODEL_bf06121c8cab459d9f2a51d68aa459a4",
       "IPY_MODEL_46102fc4d01140b58bd9a068842e357a",
       "IPY_MODEL_35f15bb908d640aa8987cd2038211678"
      ],
      "layout": "IPY_MODEL_8567b92d3bf740feb06dd1784b1cb0b2"
     }
    },
    "f22c101745a84e2aa5e3c822afc06835": {
     "model_module": "@jupyter-widgets/base",
     "model_module_version": "1.2.0",
     "model_name": "LayoutModel",
     "state": {
      "_model_module": "@jupyter-widgets/base",
      "_model_module_version": "1.2.0",
      "_model_name": "LayoutModel",
      "_view_count": null,
      "_view_module": "@jupyter-widgets/base",
      "_view_module_version": "1.2.0",
      "_view_name": "LayoutView",
      "align_content": null,
      "align_items": null,
      "align_self": null,
      "border": null,
      "bottom": null,
      "display": null,
      "flex": null,
      "flex_flow": null,
      "grid_area": null,
      "grid_auto_columns": null,
      "grid_auto_flow": null,
      "grid_auto_rows": null,
      "grid_column": null,
      "grid_gap": null,
      "grid_row": null,
      "grid_template_areas": null,
      "grid_template_columns": null,
      "grid_template_rows": null,
      "height": null,
      "justify_content": null,
      "justify_items": null,
      "left": null,
      "margin": null,
      "max_height": null,
      "max_width": null,
      "min_height": null,
      "min_width": null,
      "object_fit": null,
      "object_position": null,
      "order": null,
      "overflow": null,
      "overflow_x": null,
      "overflow_y": null,
      "padding": null,
      "right": null,
      "top": null,
      "visibility": null,
      "width": null
     }
    },
    "f31cfded940a483d88bb092c171c69b5": {
     "model_module": "@jupyter-widgets/controls",
     "model_module_version": "1.5.0",
     "model_name": "ProgressStyleModel",
     "state": {
      "_model_module": "@jupyter-widgets/controls",
      "_model_module_version": "1.5.0",
      "_model_name": "ProgressStyleModel",
      "_view_count": null,
      "_view_module": "@jupyter-widgets/base",
      "_view_module_version": "1.2.0",
      "_view_name": "StyleView",
      "bar_color": null,
      "description_width": ""
     }
    },
    "f7b54d2c7e3146d295cfa20b696f8897": {
     "model_module": "@jupyter-widgets/base",
     "model_module_version": "1.2.0",
     "model_name": "LayoutModel",
     "state": {
      "_model_module": "@jupyter-widgets/base",
      "_model_module_version": "1.2.0",
      "_model_name": "LayoutModel",
      "_view_count": null,
      "_view_module": "@jupyter-widgets/base",
      "_view_module_version": "1.2.0",
      "_view_name": "LayoutView",
      "align_content": null,
      "align_items": null,
      "align_self": null,
      "border": null,
      "bottom": null,
      "display": null,
      "flex": null,
      "flex_flow": null,
      "grid_area": null,
      "grid_auto_columns": null,
      "grid_auto_flow": null,
      "grid_auto_rows": null,
      "grid_column": null,
      "grid_gap": null,
      "grid_row": null,
      "grid_template_areas": null,
      "grid_template_columns": null,
      "grid_template_rows": null,
      "height": null,
      "justify_content": null,
      "justify_items": null,
      "left": null,
      "margin": null,
      "max_height": null,
      "max_width": null,
      "min_height": null,
      "min_width": null,
      "object_fit": null,
      "object_position": null,
      "order": null,
      "overflow": null,
      "overflow_x": null,
      "overflow_y": null,
      "padding": null,
      "right": null,
      "top": null,
      "visibility": null,
      "width": null
     }
    },
    "ff5a433f91734f58b1d5ebb462f69cfd": {
     "model_module": "@jupyter-widgets/controls",
     "model_module_version": "1.5.0",
     "model_name": "HTMLModel",
     "state": {
      "_dom_classes": [],
      "_model_module": "@jupyter-widgets/controls",
      "_model_module_version": "1.5.0",
      "_model_name": "HTMLModel",
      "_view_count": null,
      "_view_module": "@jupyter-widgets/controls",
      "_view_module_version": "1.5.0",
      "_view_name": "HTMLView",
      "description": "",
      "description_tooltip": null,
      "layout": "IPY_MODEL_9110f216b2424cf688ee00f6aa3b7b58",
      "placeholder": "​",
      "style": "IPY_MODEL_dcfbab0c5c574e19abb9f67dda00ee00",
      "value": "Downloading data: 100%"
     }
    }
   }
  }
 },
 "nbformat": 4,
 "nbformat_minor": 4
}
